{
 "cells": [
  {
   "cell_type": "code",
   "execution_count": 89,
   "metadata": {
    "pycharm": {
     "name": "#%%\n"
    }
   },
   "outputs": [],
   "source": [
    "import pandas as pd\n",
    "import re\n",
    "from sklearn.feature_extraction.text import CountVectorizer\n",
    "from textblob import TextBlob\n",
    "import nltk\n",
    "from nltk.corpus import stopwords\n",
    "import ast \n",
    "import matplotlib.pyplot as plt\n",
    "import seaborn as sns\n",
    "from datetime import datetime,date\n",
    "import json\n",
    "import numpy as np\n",
    "df_trump=pd.read_csv(\"tweets_donald_trump.csv\",sep=\",\")\n",
    "df_biden=pd.read_csv(\"tweets_joe_biden.csv\",sep=\",\")\n",
    "df_trump=df_trump.dropna(thresh=2)                            \n",
    "df_biden=df_biden.dropna(thresh=2)          \n",
    "from sklearn.decomposition import LatentDirichletAllocation\n",
    "from sklearn.feature_extraction.text import CountVectorizer\n",
    "from prettytable import PrettyTable\n",
    "# df_biden.columns = ['','text','sentiment','name','location','verified','retweet','date tweet']\n",
    "\n",
    "\n",
    "def clean_tweet(tweet): \n",
    "       return ' '.join(re.sub(\"(@[A-Za-z0-9]+)|([^0-9A-Za-z \\t]) |(\\w+:\\/\\/\\S+)\", \" \", tweet).split()) \n",
    "\n",
    "\n",
    "def prepr(df):\n",
    "    df=df[df['text']!=\"text\"]\n",
    "    df['text'] = df['text'].apply(clean_tweet)\n",
    "    df.drop(df.columns[7:], axis=1, inplace=True)\n",
    "    df=df.loc[2:]\n",
    "    df=df.dropna(thresh=3)\n",
    "    df=df[df['sentiment'].str.startswith('{')]\n",
    "    df['sentiment']=df['sentiment'].apply(ast.literal_eval)\n",
    "    df=pd.concat([df.drop(['sentiment'], axis=1), df['sentiment'].apply(pd.Series)], axis=1)\n",
    "    return df \n",
    "    \n",
    "df_trump=prepr(df_trump)\n",
    "df_biden=prepr(df_biden)\n",
    "\n",
    "\n",
    "# import string \n",
    "# df_trump=df_trump[df_trump['sentiment'].str.startswith('{')]\n",
    "\n",
    "\n",
    "def clean_tweet(tweet): \n",
    "       return ' '.join(re.sub(\"(@[A-Za-z0-9]+)|([^0-9A-Za-z \\t]) |(\\w+:\\/\\/\\S+)\", \" \", tweet).split()) \n",
    "    \n",
    "def prepr_df(df):\n",
    "    df=df[df['text']!=\"text\"]\n",
    "    df['text'] = df['text'].apply(clean_tweet)\n",
    "    df['sentiment']=df['sentiment'].apply(ast.literal_eval)\n",
    "    df=pd.concat([df.drop(['sentiment'], axis=1), df['sentiment'].apply(pd.Series)], axis=1)\n",
    "    return df\n",
    "\n",
    "# df_biden=df_biden[df_biden['text']!=\"text\"]\n",
    "\n",
    "\n",
    "\n",
    "\n",
    "df_biden\n",
    "\n",
    "# # picking positive tweets from tweets \n",
    "# df_biden.groupby('sign').size()/df['sign'].count()*100   \n",
    "# df_biden.to_csv('tweets_biden.csv', index = True)\n",
    "\n",
    "df_biden['candidato'] = 'Joe Biden'\n",
    "df_trump['candidato'] = 'Donald Trump'\n",
    "\n",
    "\n",
    "\n"
   ]
  },
  {
   "cell_type": "code",
   "execution_count": 90,
   "metadata": {
    "pycharm": {
     "name": "#%%\n"
    }
   },
   "outputs": [],
   "source": [
    "df_biden['text'] = df_biden['text'].str.lower()\\\n",
    "          .str.replace('(@[a-z0-9]+)\\w+',' ')\\\n",
    "          .str.replace('(http\\S+)', ' ')\\\n",
    "          .str.replace('([^0-9a-z \\t])',' ')\\\n",
    "          .str.replace(' +',' ')\\\n",
    "          .str.replace('rt', '')\\\n",
    "\n",
    "\n",
    "\n",
    "tweetsSentiment=df_biden.to_dict('records')\n"
   ]
  },
  {
   "cell_type": "code",
   "execution_count": 91,
   "metadata": {
    "pycharm": {
     "name": "#%%\n"
    }
   },
   "outputs": [],
   "source": [
    "def topic_modeling(tweets=None):\n",
    "    if not tweets:\n",
    "        tweets = []\n",
    "    tf_vectorizer = CountVectorizer(\n",
    "        max_df=0.95,\n",
    "        min_df=2,\n",
    "        max_features=1000,\n",
    "        stop_words='english'\n",
    "    )\n",
    "    tf = tf_vectorizer.fit_transform(tweets)\n",
    "    tf_feature_names = tf_vectorizer.get_feature_names()\n",
    "    no_topics = 5\n",
    "    lda = LatentDirichletAllocation(n_components=no_topics,\n",
    "                                    max_iter=5,\n",
    "                                    learning_method='online',\n",
    "                                    learning_offset=50.,\n",
    "                                    random_state=0).fit(tf)\n",
    "    for topic_idx, topic in enumerate(lda.components_):\n",
    "        print(\"Topic %d:\" % (topic_idx))\n",
    "        print(\" \".join([tf_feature_names[i]\n",
    "                        for i in topic.argsort()[:-10 - 1:-1]]))\n",
    "def listToString(s):  \n",
    "    \n",
    "    # initialize an empty string \n",
    "    str1 = \" \" \n",
    "    \n",
    "    # return string   \n",
    "#    return (str1.join(s)) "
   ]
  },
  {
   "cell_type": "code",
   "execution_count": 92,
   "metadata": {
    "pycharm": {
     "name": "#%%\n"
    }
   },
   "outputs": [],
   "source": [
    "#questi sono di biden\n",
    "\n",
    "positiveTweets = [tweet['text'] for tweet\n",
    "                      in tweetsSentiment if tweet['sign'] == 'positive']\n",
    "\n",
    "\n",
    "negativeTweets = [tweet['text'] for tweet\n",
    "                      in tweetsSentiment if tweet['sign'] == 'negative']\n",
    "neutralTweets = [tweet['text'] for tweet\n",
    "                     in tweetsSentiment if tweet['sign'] == 'neutral']"
   ]
  },
  {
   "cell_type": "code",
   "execution_count": 93,
   "metadata": {
    "pycharm": {
     "name": "#%%\n"
    }
   },
   "outputs": [
    {
     "name": "stdout",
     "output_type": "stream",
     "text": [
      "Positive Tweets Trump 9269\n",
      "Topic 0:\n",
      "biden joe trump amp president leader defund police america safe\n",
      "Topic 1:\n",
      "world joe great states wish china communist depament retweet million\n",
      "Topic 2:\n",
      "biden joe trump president america really new years election vote\n",
      "Topic 3:\n",
      "joe biden just want doesn know pay racist crimes amp\n",
      "Topic 4:\n",
      "joe biden american people bide tweeting competent intelligent sees humane\n"
     ]
    }
   ],
   "source": [
    "\n",
    "\n",
    "print(\"Positive Tweets Trump %d\" % len(positiveTweets))\n",
    "topic_modeling(tweets=positiveTweets)\n"
   ]
  },
  {
   "cell_type": "code",
   "execution_count": 94,
   "metadata": {
    "pycharm": {
     "name": "#%%\n"
    }
   },
   "outputs": [
    {
     "name": "stdout",
     "output_type": "stream",
     "text": [
      "Negative Tweets 5353\n",
      "Topic 0:\n",
      "joe biden trump vote donald president voting white mail 19\n",
      "Topic 1:\n",
      "biden joe black long lives don years today record family\n",
      "Topic 2:\n",
      "biden joe china wallace chris weak democrats police amp imagine\n",
      "Topic 3:\n",
      "biden joe american destroy kids claims fall closed silent schools\n",
      "Topic 4:\n",
      "biden joe rep nunes devin foreign think fixed dc half\n"
     ]
    }
   ],
   "source": [
    "print(\"Negative Tweets %d\" % len(negativeTweets))\n",
    "topic_modeling(tweets=negativeTweets)\n"
   ]
  },
  {
   "cell_type": "code",
   "execution_count": 95,
   "metadata": {
    "pycharm": {
     "name": "#%%\n"
    }
   },
   "outputs": [
    {
     "name": "stdout",
     "output_type": "stream",
     "text": [
      "Neutral Tweets 8798\n",
      "Topic 0:\n",
      "biden joe trump president know donald like voting years doesn\n",
      "Topic 1:\n",
      "joe biden jobs president need created hunter went create proven\n",
      "Topic 2:\n",
      "biden joe election think america honor come yes words april\n",
      "Topic 3:\n",
      "joe biden trump don people president didn saying did pro\n",
      "Topic 4:\n",
      "joe biden america radical police left vote puppet trump make\n"
     ]
    }
   ],
   "source": [
    "print(\"Neutral Tweets %d\" % len(neutralTweets))\n",
    "topic_modeling(tweets=neutralTweets)"
   ]
  },
  {
   "cell_type": "code",
   "execution_count": 36,
   "metadata": {
    "pycharm": {
     "name": "#%%\n"
    }
   },
   "outputs": [],
   "source": [
    "df_trump['text'] = df_trump['text'].str.lower()\\\n",
    "          .str.replace('(@[a-z0-9]+)\\w+',' ')\\\n",
    "          .str.replace('(http\\S+)', ' ')\\\n",
    "          .str.replace('([^0-9a-z \\t])',' ')\\\n",
    "          .str.replace(' +',' ')\\\n",
    "          .str.replace('rt', '')\\\n",
    "\n",
    "\n",
    "\n",
    "tweetsSentiment=df_trump.to_dict('records')"
   ]
  },
  {
   "cell_type": "code",
   "execution_count": 37,
   "metadata": {
    "pycharm": {
     "name": "#%%\n"
    }
   },
   "outputs": [],
   "source": [
    "positiveTweets = [tweet['text'] for tweet\n",
    "                      in tweetsSentiment if tweet['sign'] == 'positive']\n",
    "\n",
    "\n",
    "negativeTweets = [tweet['text'] for tweet\n",
    "                      in tweetsSentiment if tweet['sign'] == 'negative']\n",
    "neutralTweets = [tweet['text'] for tweet\n",
    "                     in tweetsSentiment if tweet['sign'] == 'neutral']"
   ]
  },
  {
   "cell_type": "code",
   "execution_count": 39,
   "metadata": {
    "pycharm": {
     "name": "#%%\n"
    }
   },
   "outputs": [
    {
     "name": "stdout",
     "output_type": "stream",
     "text": [
      "Positive Tweets Trump 9844\n",
      "Topic 0:\n",
      "trump donald president new jr america 2020 say legal video\n",
      "Topic 1:\n",
      "trump donald people election biden likely turn amp joe defended\n",
      "Topic 2:\n",
      "trump donald days 30 putin really long silence agree bountygate\n",
      "Topic 3:\n",
      "vote trump donald want early wewillvote loudly piss mail friend\n",
      "Topic 4:\n",
      "trump donald right president time years obama like daddy just\n"
     ]
    }
   ],
   "source": [
    "print(\"Positive Tweets Trump %d\" % len(positiveTweets))\n",
    "topic_modeling(tweets=positiveTweets)"
   ]
  },
  {
   "cell_type": "code",
   "execution_count": 40,
   "metadata": {
    "pycharm": {
     "name": "#%%\n"
    }
   },
   "outputs": [
    {
     "name": "stdout",
     "output_type": "stream",
     "text": [
      "Negative Tweets 6192\n",
      "Topic 0:\n",
      "trump donald president election mail new country fraud 2020 america\n",
      "Topic 1:\n",
      "trump donald make single don going good knows disgusting evidence\n",
      "Topic 2:\n",
      "trump donald days past joe trying biden lives america matter\n",
      "Topic 3:\n",
      "trump donald hate federal sent agents called symbol 31 blacklivesmatter\n",
      "Topic 4:\n",
      "trump donald fuck people time white november said justice just\n"
     ]
    }
   ],
   "source": [
    "print(\"Negative Tweets %d\" % len(negativeTweets))\n",
    "topic_modeling(tweets=negativeTweets)"
   ]
  },
  {
   "cell_type": "code",
   "execution_count": 41,
   "metadata": {
    "pycharm": {
     "name": "#%%\n"
    }
   },
   "outputs": [
    {
     "name": "stdout",
     "output_type": "stream",
     "text": [
      "Negative Tweets 6192\n",
      "Topic 0:\n",
      "trump donald president election mail new country fraud 2020 america\n",
      "Topic 1:\n",
      "trump donald make single don going good knows disgusting evidence\n",
      "Topic 2:\n",
      "trump donald days past joe trying biden lives america matter\n",
      "Topic 3:\n",
      "trump donald hate federal sent agents called symbol 31 blacklivesmatter\n",
      "Topic 4:\n",
      "trump donald fuck people time white november said justice just\n"
     ]
    }
   ],
   "source": [
    "print(\"Negative Tweets %d\" % len(negativeTweets))\n",
    "topic_modeling(tweets=negativeTweets)"
   ]
  },
  {
   "cell_type": "code",
   "execution_count": 79,
   "metadata": {
    "pycharm": {
     "name": "#%%\n"
    }
   },
   "outputs": [],
   "source": [
    "import os\n",
    "import pandas as pd\n",
    "import numpy as np\n",
    "from plotly.offline import download_plotlyjs, init_notebook_mode, plot, iplot\n",
    "import plotly as py\n",
    "import plotly.graph_objs as go\n",
    "import gensim\n",
    "from gensim import corpora, models, similarities\n",
    "import logging\n",
    "import tempfile\n",
    "from nltk.corpus import stopwords\n",
    "from string import punctuation\n",
    "from collections import OrderedDict\n",
    "import seaborn as sns\n",
    "import pyLDAvis.gensim\n",
    "import matplotlib.pyplot as plt\n",
    "%matplotlib inline\n"
   ]
  },
  {
   "cell_type": "code",
   "execution_count": 43,
   "metadata": {
    "pycharm": {
     "name": "#%%\n"
    }
   },
   "outputs": [
    {
     "data": {
      "text/html": [
       "        <script type=\"text/javascript\">\n",
       "        window.PlotlyConfig = {MathJaxConfig: 'local'};\n",
       "        if (window.MathJax) {MathJax.Hub.Config({SVG: {font: \"STIX-Web\"}});}\n",
       "        if (typeof require !== 'undefined') {\n",
       "        require.undef(\"plotly\");\n",
       "        requirejs.config({\n",
       "            paths: {\n",
       "                'plotly': ['https://cdn.plot.ly/plotly-latest.min']\n",
       "            }\n",
       "        });\n",
       "        require(['plotly'], function(Plotly) {\n",
       "            window._Plotly = Plotly;\n",
       "        });\n",
       "        }\n",
       "        </script>\n",
       "        "
      ]
     },
     "metadata": {},
     "output_type": "display_data"
    }
   ],
   "source": [
    "init_notebook_mode(connected=True) #do not miss this line\n"
   ]
  },
  {
   "cell_type": "code",
   "execution_count": 44,
   "metadata": {
    "pycharm": {
     "name": "#%%\n"
    }
   },
   "outputs": [],
   "source": [
    "import warnings\n",
    "warnings.filterwarnings(\"ignore\")"
   ]
  },
  {
   "cell_type": "code",
   "execution_count": 45,
   "metadata": {
    "pycharm": {
     "name": "#%%\n"
    }
   },
   "outputs": [],
   "source": [
    "datafile='tweets_joe_biden.csv'"
   ]
  },
  {
   "cell_type": "code",
   "execution_count": 46,
   "metadata": {
    "pycharm": {
     "name": "#%%\n"
    }
   },
   "outputs": [
    {
     "name": "stdout",
     "output_type": "stream",
     "text": [
      "Number of tweets:  21543\n"
     ]
    },
    {
     "data": {
      "text/html": [
       "<div>\n",
       "<style scoped>\n",
       "    .dataframe tbody tr th:only-of-type {\n",
       "        vertical-align: middle;\n",
       "    }\n",
       "\n",
       "    .dataframe tbody tr th {\n",
       "        vertical-align: top;\n",
       "    }\n",
       "\n",
       "    .dataframe thead th {\n",
       "        text-align: right;\n",
       "    }\n",
       "</style>\n",
       "<table border=\"1\" class=\"dataframe\">\n",
       "  <thead>\n",
       "    <tr style=\"text-align: right;\">\n",
       "      <th></th>\n",
       "      <th>text</th>\n",
       "      <th>sentiment</th>\n",
       "      <th>name</th>\n",
       "      <th>location</th>\n",
       "      <th>verified</th>\n",
       "      <th>retweet</th>\n",
       "      <th>date tweet</th>\n",
       "      <th>Unnamed: 7</th>\n",
       "    </tr>\n",
       "  </thead>\n",
       "  <tbody>\n",
       "    <tr>\n",
       "      <th>0</th>\n",
       "      <td>RT @TVNewsHQ: Watch: Fox News’ @JesseBWatters ...</td>\n",
       "      <td>{'sign': 'neutral', 'polarity': 0.0}</td>\n",
       "      <td>kenny Christensen</td>\n",
       "      <td>NaN</td>\n",
       "      <td>False</td>\n",
       "      <td>7066</td>\n",
       "      <td>2020-07-12 09:13:21</td>\n",
       "      <td>NaN</td>\n",
       "    </tr>\n",
       "    <tr>\n",
       "      <th>1</th>\n",
       "      <td>RT @BotSentinel: I have identified 165 tweets ...</td>\n",
       "      <td>{'sign': 'positive', 'polarity': 0.5}</td>\n",
       "      <td>We are all Jonathan Karl</td>\n",
       "      <td>Waterbury, CT</td>\n",
       "      <td>False</td>\n",
       "      <td>2</td>\n",
       "      <td>2020-07-12 09:13:20</td>\n",
       "      <td>NaN</td>\n",
       "    </tr>\n",
       "    <tr>\n",
       "      <th>2</th>\n",
       "      <td>RT @joegooding: Joe Biden has made a career ou...</td>\n",
       "      <td>{'sign': 'neutral', 'polarity': 0.0}</td>\n",
       "      <td>Donald Fasciana</td>\n",
       "      <td>Little Canada, MN</td>\n",
       "      <td>False</td>\n",
       "      <td>137</td>\n",
       "      <td>2020-07-12 09:13:18</td>\n",
       "      <td>NaN</td>\n",
       "    </tr>\n",
       "    <tr>\n",
       "      <th>3</th>\n",
       "      <td>RT @cmclymer: You know who didn’t take 99 days...</td>\n",
       "      <td>{'sign': 'neutral', 'polarity': 0.0}</td>\n",
       "      <td>Jkaner805</td>\n",
       "      <td>NaN</td>\n",
       "      <td>False</td>\n",
       "      <td>1768</td>\n",
       "      <td>2020-07-12 09:13:17</td>\n",
       "      <td>NaN</td>\n",
       "    </tr>\n",
       "    <tr>\n",
       "      <th>4</th>\n",
       "      <td>RT @tathagata2: Did you know that U S Presiden...</td>\n",
       "      <td>{'sign': 'neutral', 'polarity': 0.0}</td>\n",
       "      <td>anoy</td>\n",
       "      <td>NaN</td>\n",
       "      <td>False</td>\n",
       "      <td>2034</td>\n",
       "      <td>2020-07-12 09:13:17</td>\n",
       "      <td>NaN</td>\n",
       "    </tr>\n",
       "  </tbody>\n",
       "</table>\n",
       "</div>"
      ],
      "text/plain": [
       "                                                text  \\\n",
       "0  RT @TVNewsHQ: Watch: Fox News’ @JesseBWatters ...   \n",
       "1  RT @BotSentinel: I have identified 165 tweets ...   \n",
       "2  RT @joegooding: Joe Biden has made a career ou...   \n",
       "3  RT @cmclymer: You know who didn’t take 99 days...   \n",
       "4  RT @tathagata2: Did you know that U S Presiden...   \n",
       "\n",
       "                               sentiment                      name  \\\n",
       "0   {'sign': 'neutral', 'polarity': 0.0}         kenny Christensen   \n",
       "1  {'sign': 'positive', 'polarity': 0.5}  We are all Jonathan Karl   \n",
       "2   {'sign': 'neutral', 'polarity': 0.0}           Donald Fasciana   \n",
       "3   {'sign': 'neutral', 'polarity': 0.0}                 Jkaner805   \n",
       "4   {'sign': 'neutral', 'polarity': 0.0}                      anoy   \n",
       "\n",
       "            location verified retweet           date tweet Unnamed: 7  \n",
       "0                NaN    False    7066  2020-07-12 09:13:21        NaN  \n",
       "1      Waterbury, CT    False       2  2020-07-12 09:13:20        NaN  \n",
       "2  Little Canada, MN    False     137  2020-07-12 09:13:18        NaN  \n",
       "3                NaN    False    1768  2020-07-12 09:13:17        NaN  \n",
       "4                NaN    False    2034  2020-07-12 09:13:17        NaN  "
      ]
     },
     "execution_count": 46,
     "metadata": {},
     "output_type": "execute_result"
    }
   ],
   "source": [
    "import pandas as pd\n",
    "tweets=pd.read_csv(datafile)\n",
    "print(\"Number of tweets: \",len(tweets['text']))\n",
    "tweets.head(5)"
   ]
  },
  {
   "cell_type": "raw",
   "metadata": {},
   "source": [
    "import plotly.plotly as py"
   ]
  },
  {
   "cell_type": "code",
   "execution_count": 47,
   "metadata": {
    "pycharm": {
     "name": "#%%\n"
    }
   },
   "outputs": [],
   "source": [
    "corpus=[]"
   ]
  },
  {
   "cell_type": "code",
   "execution_count": 48,
   "metadata": {
    "pycharm": {
     "name": "#%%\n"
    }
   },
   "outputs": [],
   "source": [
    "a=[]\n",
    "\n",
    "for i in range(len(tweets['text'])):\n",
    "    a=tweets['text'][i]\n",
    "    corpus.append(a)\n",
    "    "
   ]
  },
  {
   "cell_type": "code",
   "execution_count": 49,
   "metadata": {
    "pycharm": {
     "name": "#%%\n"
    }
   },
   "outputs": [
    {
     "data": {
      "text/plain": [
       "['RT @TVNewsHQ: Watch: Fox News’ @JesseBWatters compares Joe Biden to an erratic driver: “Just along for the ride: No sense of direction... w…',\n",
       " 'RT @BotSentinel: I have identified 165 tweets mentioning JOE BIDEN that were tweeted by inauthentic accounts. More information here: https:…',\n",
       " 'RT @joegooding: Joe Biden has made a career out of plagiarizing people ideas, so it’s no surprise he would try to steal @POTUS @realDonaldT…',\n",
       " 'RT @cmclymer: You know who didn’t take 99 days to follow the expert advice of medical professionals and wear a mask while in public?\\n\\nJoe B…',\n",
       " 'RT @tathagata2: Did you know that U S Presidential aspirant Joe Biden had received the Hilal-e-Pakistan award in 2008?',\n",
       " 'RT @RepsForBiden: President Joe Biden should NEVER pardon Donald Trump. RT if you agree.',\n",
       " 'RT @JasonMillerinDC: Joe Biden is finished. https://t.co/cYjerzBBay',\n",
       " 'RT @GeorgeTakei: Overheard:\\n\\n“Joe Biden could stand in the middle of Fifth Avenue and shoot me, and I would still vote for him.”',\n",
       " nan,\n",
       " nan]"
      ]
     },
     "execution_count": 49,
     "metadata": {},
     "output_type": "execute_result"
    }
   ],
   "source": [
    "corpus[0:10]"
   ]
  },
  {
   "cell_type": "code",
   "execution_count": 50,
   "metadata": {
    "pycharm": {
     "name": "#%%\n"
    }
   },
   "outputs": [
    {
     "name": "stdout",
     "output_type": "stream",
     "text": [
      "Folder \"/tmp\" will be used to save temporary dictionary and corpus.\n"
     ]
    }
   ],
   "source": [
    "TEMP_FOLDER=tempfile.gettempdir()\n",
    "print('Folder \"{}\" will be used to save temporary dictionary and corpus.'.format(TEMP_FOLDER))\n",
    "logging.basicConfig(format='%(asctime)s : %(levelname)s : %(message)s', level=logging.INFO)\n"
   ]
  },
  {
   "cell_type": "code",
   "execution_count": null,
   "metadata": {
    "pycharm": {
     "name": "#%%\n"
    }
   },
   "outputs": [],
   "source": []
  },
  {
   "cell_type": "code",
   "execution_count": 51,
   "metadata": {
    "pycharm": {
     "name": "#%%\n"
    }
   },
   "outputs": [
    {
     "name": "stderr",
     "output_type": "stream",
     "text": [
      "2020-07-31 18:38:03,740 : INFO : adding document #0 to Dictionary(0 unique tokens: [])\n",
      "2020-07-31 18:38:03,920 : INFO : adding document #10000 to Dictionary(14071 unique tokens: ['@jessebwatters', '@tvnewshq:', 'along', 'biden', 'compares']...)\n",
      "2020-07-31 18:38:04,150 : INFO : adding document #20000 to Dictionary(23388 unique tokens: ['@jessebwatters', '@tvnewshq:', 'along', 'biden', 'compares']...)\n",
      "2020-07-31 18:38:04,177 : INFO : built Dictionary(24575 unique tokens: ['@jessebwatters', '@tvnewshq:', 'along', 'biden', 'compares']...) from 21543 documents (total 292505 corpus positions)\n",
      "2020-07-31 18:38:04,178 : INFO : saving Dictionary object under /tmp/biden.dict, separately None\n",
      "2020-07-31 18:38:04,190 : INFO : saved /tmp/biden.dict\n"
     ]
    }
   ],
   "source": [
    "list1 = ['RT','rt']\n",
    "stoplist=stopwords.words('english')+list(punctuation)+list1\n",
    "texts = [[word for word in str(document).lower().split() if word not in stoplist] for document in corpus]\n",
    "dictionary=corpora.Dictionary(texts)\n",
    "dictionary.save(os.path.join(TEMP_FOLDER,'biden.dict')) "
   ]
  },
  {
   "cell_type": "code",
   "execution_count": 52,
   "metadata": {
    "pycharm": {
     "name": "#%%\n"
    }
   },
   "outputs": [
    {
     "name": "stderr",
     "output_type": "stream",
     "text": [
      "2020-07-31 18:38:05,421 : INFO : storing corpus in Matrix Market format to /tmp/biden.dict\n",
      "2020-07-31 18:38:05,422 : INFO : saving sparse matrix to /tmp/biden.dict\n",
      "2020-07-31 18:38:05,423 : INFO : PROGRESS: saving document #0\n",
      "2020-07-31 18:38:05,465 : INFO : PROGRESS: saving document #1000\n",
      "2020-07-31 18:38:05,523 : INFO : PROGRESS: saving document #2000\n",
      "2020-07-31 18:38:05,557 : INFO : PROGRESS: saving document #3000\n",
      "2020-07-31 18:38:05,591 : INFO : PROGRESS: saving document #4000\n",
      "2020-07-31 18:38:05,624 : INFO : PROGRESS: saving document #5000\n",
      "2020-07-31 18:38:05,659 : INFO : PROGRESS: saving document #6000\n",
      "2020-07-31 18:38:05,699 : INFO : PROGRESS: saving document #7000\n",
      "2020-07-31 18:38:05,739 : INFO : PROGRESS: saving document #8000\n",
      "2020-07-31 18:38:05,763 : INFO : PROGRESS: saving document #9000\n",
      "2020-07-31 18:38:05,800 : INFO : PROGRESS: saving document #10000\n",
      "2020-07-31 18:38:05,821 : INFO : PROGRESS: saving document #11000\n",
      "2020-07-31 18:38:05,863 : INFO : PROGRESS: saving document #12000\n",
      "2020-07-31 18:38:05,898 : INFO : PROGRESS: saving document #13000\n",
      "2020-07-31 18:38:05,931 : INFO : PROGRESS: saving document #14000\n",
      "2020-07-31 18:38:05,961 : INFO : PROGRESS: saving document #15000\n",
      "2020-07-31 18:38:05,982 : INFO : PROGRESS: saving document #16000\n",
      "2020-07-31 18:38:06,009 : INFO : PROGRESS: saving document #17000\n",
      "2020-07-31 18:38:06,041 : INFO : PROGRESS: saving document #18000\n",
      "2020-07-31 18:38:06,091 : INFO : PROGRESS: saving document #19000\n",
      "2020-07-31 18:38:06,124 : INFO : PROGRESS: saving document #20000\n",
      "2020-07-31 18:38:06,149 : INFO : PROGRESS: saving document #21000\n",
      "2020-07-31 18:38:06,160 : INFO : saved 21543x24575 matrix, density=0.054% (286032/529419225)\n",
      "2020-07-31 18:38:06,165 : INFO : saving MmCorpus index to /tmp/biden.dict.index\n"
     ]
    }
   ],
   "source": [
    "corpus=[dictionary.doc2bow(text) for text in texts]\n",
    "corpora.MmCorpus.serialize(os.path.join(TEMP_FOLDER,'biden.dict'),corpus)"
   ]
  },
  {
   "cell_type": "code",
   "execution_count": 53,
   "metadata": {
    "pycharm": {
     "name": "#%%\n"
    }
   },
   "outputs": [
    {
     "name": "stderr",
     "output_type": "stream",
     "text": [
      "2020-07-31 18:38:06,999 : INFO : collecting document frequencies\n",
      "2020-07-31 18:38:07,001 : INFO : PROGRESS: processing document #0\n",
      "2020-07-31 18:38:07,026 : INFO : PROGRESS: processing document #10000\n",
      "2020-07-31 18:38:07,080 : INFO : PROGRESS: processing document #20000\n",
      "2020-07-31 18:38:07,095 : INFO : calculating IDF weights for 21543 documents and 24575 features (286032 matrix non-zeros)\n"
     ]
    }
   ],
   "source": [
    "tfidf=models.TfidfModel(corpus) #inizializza un modello\n"
   ]
  },
  {
   "cell_type": "code",
   "execution_count": 54,
   "metadata": {
    "pycharm": {
     "name": "#%%\n"
    }
   },
   "outputs": [],
   "source": [
    "corpus_tfidf=tfidf[corpus] #step2"
   ]
  },
  {
   "cell_type": "code",
   "execution_count": 55,
   "metadata": {
    "pycharm": {
     "name": "#%%\n"
    }
   },
   "outputs": [],
   "source": [
    "#LDA\n"
   ]
  },
  {
   "cell_type": "code",
   "execution_count": 56,
   "metadata": {
    "pycharm": {
     "name": "#%%\n"
    }
   },
   "outputs": [
    {
     "name": "stderr",
     "output_type": "stream",
     "text": [
      "2020-07-31 18:38:10,555 : INFO : using symmetric alpha at 0.2\n",
      "2020-07-31 18:38:10,557 : INFO : using symmetric eta at 0.2\n",
      "2020-07-31 18:38:10,562 : INFO : using serial LDA version on this node\n",
      "2020-07-31 18:38:10,579 : INFO : running online (single-pass) LDA training, 5 topics, 1 passes over the supplied corpus of 21543 documents, updating model once every 2000 documents, evaluating perplexity every 20000 documents, iterating 50x with a convergence threshold of 0.001000\n",
      "2020-07-31 18:38:10,580 : INFO : PROGRESS: pass 0, at document #2000/21543\n",
      "2020-07-31 18:38:11,648 : INFO : merging changes from 2000 documents into a model of 21543 documents\n",
      "2020-07-31 18:38:11,668 : INFO : topic #0 (0.200): 0.054*\"joe\" + 0.045*\"biden\" + 0.021*\"trump\" + 0.017*\"care\" + 0.017*\"enough\" + 0.017*\"market‼️would\" + 0.017*\"ppl\" + 0.017*\"dying\" + 0.017*\"cares\" + 0.017*\"giv…\"\n",
      "2020-07-31 18:38:11,671 : INFO : topic #1 (0.200): 0.057*\"joe\" + 0.047*\"biden\" + 0.015*\"trump\" + 0.014*\"president\" + 0.010*\"first.\" + 0.010*\"america\" + 0.009*\"us\" + 0.008*\"would\" + 0.007*\"nan\" + 0.006*\"senator\"\n",
      "2020-07-31 18:38:11,674 : INFO : topic #2 (0.200): 0.062*\"joe\" + 0.039*\"biden\" + 0.016*\"years\" + 0.015*\"@betoorourke:\" + 0.014*\"this.\" + 0.014*\"https://t.co/0ku4z8f1cj\" + 0.013*\"us\" + 0.013*\"became\" + 0.013*\"senator\" + 0.012*\"leaders.”\"\n",
      "2020-07-31 18:38:11,678 : INFO : topic #3 (0.200): 0.042*\"biden\" + 0.039*\"joe\" + 0.014*\"president\" + 0.013*\"thinks\" + 0.011*\"coronavirus\" + 0.011*\"start\" + 0.011*\"fauci\" + 0.011*\"dr\" + 0.011*\"@jdwickie:\" + 0.011*\"together?\"\n",
      "2020-07-31 18:38:11,682 : INFO : topic #4 (0.200): 0.034*\"joe\" + 0.021*\"biden\" + 0.020*\"could\" + 0.019*\"@richardgrenell:\" + 0.019*\"million\" + 0.019*\"wish\" + 0.019*\"joe…\" + 0.019*\"caused\" + 0.019*\"times.\" + 0.019*\"world.\"\n",
      "2020-07-31 18:38:11,684 : INFO : topic diff=5.428090, rho=1.000000\n",
      "2020-07-31 18:38:11,686 : INFO : PROGRESS: pass 0, at document #4000/21543\n",
      "2020-07-31 18:38:12,293 : INFO : merging changes from 2000 documents into a model of 21543 documents\n",
      "2020-07-31 18:38:12,305 : INFO : topic #0 (0.200): 0.055*\"joe\" + 0.052*\"biden\" + 0.023*\"trump\" + 0.013*\"care\" + 0.011*\"enough\" + 0.011*\"live\" + 0.011*\"cares\" + 0.011*\"stock\" + 0.011*\"market‼️would\" + 0.011*\"ppl\"\n",
      "2020-07-31 18:38:12,307 : INFO : topic #1 (0.200): 0.068*\"joe\" + 0.057*\"biden\" + 0.028*\"trump\" + 0.024*\"president\" + 0.019*\"still\" + 0.011*\"donald\" + 0.010*\"office\" + 0.010*\"44\" + 0.010*\"america\" + 0.010*\"regarding\"\n",
      "2020-07-31 18:38:12,310 : INFO : topic #2 (0.200): 0.071*\"joe\" + 0.050*\"biden\" + 0.026*\"years\" + 0.021*\"he's\" + 0.016*\"@charliekirk11:\" + 0.014*\"us\" + 0.012*\"doesn’t\" + 0.011*\"two\" + 0.011*\"elected\" + 0.011*\"senator\"\n",
      "2020-07-31 18:38:12,314 : INFO : topic #3 (0.200): 0.043*\"joe\" + 0.043*\"biden\" + 0.017*\"really\" + 0.015*\"family\" + 0.013*\"coronavirus\" + 0.012*\"thinks\" + 0.012*\"biden's\" + 0.012*\"briefings\" + 0.012*\"daily\" + 0.012*\"dr\"\n",
      "2020-07-31 18:38:12,318 : INFO : topic #4 (0.200): 0.033*\"joe\" + 0.022*\"great\" + 0.022*\"retweet\" + 0.021*\"could\" + 0.021*\"communist\" + 0.021*\"joe…\" + 0.020*\"around\" + 0.020*\"million\" + 0.019*\"wish\" + 0.019*\"caused\"\n",
      "2020-07-31 18:38:12,322 : INFO : topic diff=0.560848, rho=0.707107\n",
      "2020-07-31 18:38:12,324 : INFO : PROGRESS: pass 0, at document #6000/21543\n",
      "2020-07-31 18:38:12,920 : INFO : merging changes from 2000 documents into a model of 21543 documents\n",
      "2020-07-31 18:38:12,929 : INFO : topic #0 (0.200): 0.066*\"biden\" + 0.065*\"joe\" + 0.028*\"schools\" + 0.027*\"closed\" + 0.017*\"trump\" + 0.010*\"wants\" + 0.009*\"police\" + 0.008*\"radical\" + 0.007*\"care\" + 0.007*\"calls\"\n",
      "2020-07-31 18:38:12,931 : INFO : topic #1 (0.200): 0.073*\"joe\" + 0.064*\"biden\" + 0.026*\"president\" + 0.024*\"trump\" + 0.019*\"silent\" + 0.011*\"still\" + 0.010*\"donald\" + 0.009*\"office\" + 0.009*\"campaign\" + 0.008*\"biden:\"\n",
      "2020-07-31 18:38:12,932 : INFO : topic #2 (0.200): 0.076*\"joe\" + 0.045*\"biden\" + 0.017*\"years\" + 0.017*\"@charliekirk11:\" + 0.015*\"he's\" + 0.009*\"time\" + 0.009*\"want\" + 0.009*\"biden’s\" + 0.009*\"fauci\" + 0.008*\"biden's…\"\n",
      "2020-07-31 18:38:12,935 : INFO : topic #3 (0.200): 0.059*\"joe\" + 0.049*\"biden\" + 0.034*\"biden's\" + 0.029*\"yet\" + 0.027*\"claims\" + 0.023*\"@realdonaldtrump:\" + 0.010*\"really\" + 0.009*\"new\" + 0.008*\"president\" + 0.008*\"family\"\n",
      "2020-07-31 18:38:12,940 : INFO : topic #4 (0.200): 0.042*\"joe\" + 0.028*\"about…\" + 0.018*\"know\" + 0.017*\"biden\" + 0.015*\"communist\" + 0.014*\"great\" + 0.013*\"retweet\" + 0.013*\"years,\" + 0.013*\"million\" + 0.012*\"could\"\n",
      "2020-07-31 18:38:12,943 : INFO : topic diff=0.445258, rho=0.577350\n",
      "2020-07-31 18:38:12,946 : INFO : PROGRESS: pass 0, at document #8000/21543\n",
      "2020-07-31 18:38:13,541 : INFO : merging changes from 2000 documents into a model of 21543 documents\n",
      "2020-07-31 18:38:13,551 : INFO : topic #0 (0.200): 0.071*\"biden\" + 0.070*\"joe\" + 0.020*\"wants\" + 0.014*\"defund\" + 0.014*\"schools\" + 0.013*\"closed\" + 0.012*\"police\" + 0.012*\"trump\" + 0.011*\"radical\" + 0.009*\"&amp;\"\n",
      "2020-07-31 18:38:13,552 : INFO : topic #1 (0.200): 0.072*\"joe\" + 0.064*\"biden\" + 0.024*\"president\" + 0.020*\"trump\" + 0.010*\"silent\" + 0.010*\"john\" + 0.009*\"biden:\" + 0.009*\"donald\" + 0.008*\"campaign\" + 0.007*\"@joebiden:\"\n",
      "2020-07-31 18:38:13,554 : INFO : topic #2 (0.200): 0.078*\"joe\" + 0.046*\"biden\" + 0.015*\"biden’s\" + 0.013*\"bill\" + 0.011*\"@charliekirk11:\" + 0.010*\"years\" + 0.009*\"he's\" + 0.009*\"introduce\" + 0.008*\"corrupt\" + 0.008*\"want\"\n",
      "2020-07-31 18:38:13,560 : INFO : topic #3 (0.200): 0.060*\"joe\" + 0.048*\"biden\" + 0.025*\"biden's\" + 0.019*\"@realdonaldtrump:\" + 0.017*\"yet\" + 0.016*\"claims\" + 0.016*\"rights\" + 0.009*\"daily\" + 0.008*\"@gopchairwoman:\" + 0.008*\"video\"\n",
      "2020-07-31 18:38:13,563 : INFO : topic #4 (0.200): 0.043*\"joe\" + 0.021*\"voting\" + 0.018*\"about…\" + 0.016*\"know\" + 0.016*\"biden\" + 0.014*\"biden,\" + 0.011*\"could\" + 0.011*\"@ryanafournier:\" + 0.010*\"say\" + 0.010*\"great\"\n",
      "2020-07-31 18:38:13,566 : INFO : topic diff=0.509441, rho=0.500000\n",
      "2020-07-31 18:38:13,568 : INFO : PROGRESS: pass 0, at document #10000/21543\n",
      "2020-07-31 18:38:14,208 : INFO : merging changes from 2000 documents into a model of 21543 documents\n",
      "2020-07-31 18:38:14,218 : INFO : topic #0 (0.200): 0.075*\"biden\" + 0.072*\"joe\" + 0.019*\"wants\" + 0.019*\"schools\" + 0.010*\"police\" + 0.010*\"care\" + 0.010*\"defund\" + 0.009*\"trump\" + 0.008*\"radical\" + 0.008*\"cut\"\n",
      "2020-07-31 18:38:14,219 : INFO : topic #1 (0.200): 0.071*\"joe\" + 0.064*\"biden\" + 0.020*\"trump\" + 0.019*\"president\" + 0.011*\"people\" + 0.010*\"@joebiden:\" + 0.009*\"donald\" + 0.009*\"biden:\" + 0.008*\"i’m\" + 0.007*\"john\"\n",
      "2020-07-31 18:38:14,221 : INFO : topic #2 (0.200): 0.073*\"joe\" + 0.045*\"biden\" + 0.013*\"biden’s\" + 0.012*\"want\" + 0.009*\"plan\" + 0.008*\"bill\" + 0.008*\"today,\" + 0.008*\"doesn’t\" + 0.007*\"@charliekirk11:\" + 0.007*\"he's\"\n",
      "2020-07-31 18:38:14,224 : INFO : topic #3 (0.200): 0.058*\"joe\" + 0.047*\"biden\" + 0.022*\"biden's\" + 0.012*\"yet\" + 0.011*\"@realdonaldtrump:\" + 0.010*\"claims\" + 0.009*\"🤔\" + 0.009*\"rights\" + 0.009*\"give\" + 0.008*\"video\"\n",
      "2020-07-31 18:38:14,227 : INFO : topic #4 (0.200): 0.046*\"joe\" + 0.017*\"voting\" + 0.017*\"biden\" + 0.017*\"know\" + 0.012*\"biden,\" + 0.010*\"about…\" + 0.009*\"@richardgrenell:\" + 0.009*\"million\" + 0.009*\"wish\" + 0.009*\"@ryanafournier:\"\n",
      "2020-07-31 18:38:14,229 : INFO : topic diff=0.518318, rho=0.447214\n",
      "2020-07-31 18:38:14,232 : INFO : PROGRESS: pass 0, at document #12000/21543\n",
      "2020-07-31 18:38:14,763 : INFO : merging changes from 2000 documents into a model of 21543 documents\n",
      "2020-07-31 18:38:14,773 : INFO : topic #0 (0.200): 0.075*\"biden\" + 0.069*\"joe\" + 0.014*\"wants\" + 0.011*\"schools\" + 0.009*\"@donaldjtrumpjr:\" + 0.008*\"trump\" + 0.008*\"police\" + 0.007*\"defund\" + 0.007*\"barack\" + 0.007*\"w…\"\n",
      "2020-07-31 18:38:14,775 : INFO : topic #1 (0.200): 0.070*\"joe\" + 0.065*\"biden\" + 0.026*\"trump\" + 0.017*\"president\" + 0.010*\"people\" + 0.009*\"donald\" + 0.009*\"america\" + 0.007*\"never\" + 0.007*\"done\" + 0.007*\"president.\"\n",
      "2020-07-31 18:38:14,776 : INFO : topic #2 (0.200): 0.069*\"joe\" + 0.042*\"biden\" + 0.017*\"biden’s\" + 0.012*\"want\" + 0.011*\"white\" + 0.011*\"19\" + 0.010*\"doesn’t\" + 0.008*\"education\" + 0.007*\"think\" + 0.007*\"plan\"\n",
      "2020-07-31 18:38:14,779 : INFO : topic #3 (0.200): 0.054*\"joe\" + 0.045*\"biden\" + 0.022*\"biden's\" + 0.015*\"🤔\" + 0.009*\"take\" + 0.009*\"@kayleighmcenany:\" + 0.009*\"way\" + 0.008*\"give\" + 0.008*\"yet\" + 0.008*\"“i\"\n"
     ]
    },
    {
     "name": "stderr",
     "output_type": "stream",
     "text": [
      "2020-07-31 18:38:14,781 : INFO : topic #4 (0.200): 0.044*\"joe\" + 0.018*\"biden\" + 0.016*\"crow\" + 0.016*\"jim\" + 0.014*\"vote\" + 0.012*\"voting\" + 0.012*\"trump.\" + 0.012*\"america.\" + 0.011*\"know\" + 0.011*\"why?\"\n",
      "2020-07-31 18:38:14,783 : INFO : topic diff=0.490445, rho=0.408248\n",
      "2020-07-31 18:38:14,785 : INFO : PROGRESS: pass 0, at document #14000/21543\n",
      "2020-07-31 18:38:15,353 : INFO : merging changes from 2000 documents into a model of 21543 documents\n",
      "2020-07-31 18:38:15,363 : INFO : topic #0 (0.200): 0.070*\"biden\" + 0.066*\"joe\" + 0.015*\"care\" + 0.014*\"@donaldjtrumpjr:\" + 0.014*\"dc\" + 0.011*\"wants\" + 0.010*\"y'all\" + 0.009*\"americans,\" + 0.008*\"home\" + 0.008*\"go\"\n",
      "2020-07-31 18:38:15,365 : INFO : topic #1 (0.200): 0.069*\"joe\" + 0.062*\"biden\" + 0.024*\"trump\" + 0.014*\"president\" + 0.012*\"america\" + 0.010*\"anything\" + 0.009*\"biden.\" + 0.009*\"swamp\" + 0.008*\"donald\" + 0.008*\"fixed\"\n",
      "2020-07-31 18:38:15,368 : INFO : topic #2 (0.200): 0.065*\"joe\" + 0.041*\"biden\" + 0.014*\"biden’s\" + 0.011*\"—\" + 0.009*\"want\" + 0.009*\"white\" + 0.008*\"suburban\" + 0.008*\"read\" + 0.008*\"19\" + 0.007*\"doesn’t\"\n",
      "2020-07-31 18:38:15,371 : INFO : topic #3 (0.200): 0.054*\"joe\" + 0.040*\"biden\" + 0.031*\"biden's\" + 0.010*\"🤔\" + 0.009*\"@realdonaldtrump:\" + 0.008*\"--&gt;\" + 0.008*\"take\" + 0.007*\"via\" + 0.007*\"flu\" + 0.007*\"child\"\n",
      "2020-07-31 18:38:15,373 : INFO : topic #4 (0.200): 0.045*\"joe\" + 0.020*\"crow\" + 0.019*\"could\" + 0.019*\"jim\" + 0.018*\"biden\" + 0.017*\"@donaldjtrumpjr:\" + 0.016*\"i…\" + 0.016*\"think\" + 0.015*\"voting\" + 0.015*\"vote\"\n",
      "2020-07-31 18:38:15,375 : INFO : topic diff=0.480817, rho=0.377964\n",
      "2020-07-31 18:38:15,378 : INFO : PROGRESS: pass 0, at document #16000/21543\n",
      "2020-07-31 18:38:15,843 : INFO : merging changes from 2000 documents into a model of 21543 documents\n",
      "2020-07-31 18:38:15,852 : INFO : topic #0 (0.200): 0.068*\"biden\" + 0.066*\"joe\" + 0.018*\"radical\" + 0.012*\"@donaldjtrumpjr:\" + 0.010*\"care\" + 0.010*\"go\" + 0.009*\"wants\" + 0.009*\"@trumpwarroom:\" + 0.009*\"dc\" + 0.008*\"&amp;\"\n",
      "2020-07-31 18:38:15,854 : INFO : topic #1 (0.200): 0.068*\"joe\" + 0.063*\"biden\" + 0.025*\"trump\" + 0.016*\"president\" + 0.013*\"america\" + 0.010*\"donald\" + 0.009*\"would\" + 0.008*\"biden.\" + 0.007*\"president.\" + 0.007*\"anything\"\n",
      "2020-07-31 18:38:15,857 : INFO : topic #2 (0.200): 0.064*\"joe\" + 0.045*\"biden\" + 0.014*\"read\" + 0.013*\"chris\" + 0.011*\"biden’s\" + 0.008*\"interview\" + 0.008*\"—\" + 0.008*\"puppet\" + 0.008*\"can’t\" + 0.007*\"want\"\n",
      "2020-07-31 18:38:15,860 : INFO : topic #3 (0.200): 0.056*\"joe\" + 0.040*\"biden\" + 0.031*\"biden's\" + 0.013*\"@kayleighmcenany:\" + 0.012*\"@realdonaldtrump:\" + 0.010*\"way\" + 0.010*\"end\" + 0.010*\"make\" + 0.009*\"wonder\" + 0.008*\"joe’s\"\n",
      "2020-07-31 18:38:15,862 : INFO : topic #4 (0.200): 0.046*\"joe\" + 0.020*\"vote\" + 0.018*\"biden\" + 0.016*\"voting\" + 0.015*\"could\" + 0.012*\"jim\" + 0.012*\"crow\" + 0.011*\"@donaldjtrumpjr:\" + 0.011*\"biden,\" + 0.011*\"100\"\n",
      "2020-07-31 18:38:15,864 : INFO : topic diff=0.455341, rho=0.353553\n",
      "2020-07-31 18:38:15,865 : INFO : PROGRESS: pass 0, at document #18000/21543\n",
      "2020-07-31 18:38:16,427 : INFO : merging changes from 2000 documents into a model of 21543 documents\n",
      "2020-07-31 18:38:16,437 : INFO : topic #0 (0.200): 0.066*\"biden\" + 0.066*\"joe\" + 0.016*\"radical\" + 0.010*\"@donaldjtrumpjr:\" + 0.010*\"@trumpwarroom:\" + 0.010*\"wants\" + 0.009*\"go\" + 0.008*\"@realdonaldtrump\" + 0.007*\"care\" + 0.007*\"&amp;\"\n",
      "2020-07-31 18:38:16,440 : INFO : topic #1 (0.200): 0.066*\"joe\" + 0.060*\"biden\" + 0.025*\"trump\" + 0.016*\"president\" + 0.012*\"america\" + 0.009*\"would\" + 0.009*\"donald\" + 0.008*\"biden.\" + 0.008*\"election\" + 0.007*\"people\"\n",
      "2020-07-31 18:38:16,443 : INFO : topic #2 (0.200): 0.062*\"joe\" + 0.042*\"biden\" + 0.015*\"chris\" + 0.013*\"puppet\" + 0.010*\"read\" + 0.010*\"interview\" + 0.009*\"days\" + 0.008*\"destroy\" + 0.008*\"biden’s\" + 0.007*\"can’t\"\n",
      "2020-07-31 18:38:16,446 : INFO : topic #3 (0.200): 0.054*\"joe\" + 0.037*\"biden\" + 0.030*\"biden's\" + 0.017*\"@realdonaldtrump:\" + 0.012*\"make\" + 0.011*\"@kayleighmcenany:\" + 0.010*\"sleepy\" + 0.010*\"way\" + 0.009*\"ever\" + 0.009*\"end\"\n",
      "2020-07-31 18:38:16,449 : INFO : topic #4 (0.200): 0.044*\"joe\" + 0.019*\"vote\" + 0.018*\"voting\" + 0.018*\"biden\" + 0.014*\"could\" + 0.012*\"100\" + 0.012*\"biden,\" + 0.009*\"jim\" + 0.009*\"think\" + 0.009*\"crow\"\n",
      "2020-07-31 18:38:16,451 : INFO : topic diff=0.494500, rho=0.333333\n",
      "2020-07-31 18:38:17,133 : INFO : -9.504 per-word bound, 725.8 perplexity estimate based on a held-out corpus of 2000 documents with 28593 words\n",
      "2020-07-31 18:38:17,134 : INFO : PROGRESS: pass 0, at document #20000/21543\n",
      "2020-07-31 18:38:17,636 : INFO : merging changes from 2000 documents into a model of 21543 documents\n",
      "2020-07-31 18:38:17,647 : INFO : topic #0 (0.200): 0.068*\"joe\" + 0.065*\"biden\" + 0.013*\"defund\" + 0.013*\"&amp;\" + 0.013*\"jobs.\" + 0.011*\"radical\" + 0.010*\"w…\" + 0.009*\"hunter\" + 0.009*\"police\" + 0.009*\"@trumpwarroom:\"\n",
      "2020-07-31 18:38:17,649 : INFO : topic #1 (0.200): 0.069*\"joe\" + 0.057*\"biden\" + 0.023*\"trump\" + 0.022*\"president\" + 0.011*\"election\" + 0.010*\"proven\" + 0.010*\"need\" + 0.010*\"try\" + 0.010*\"biden.\" + 0.009*\"america\"\n",
      "2020-07-31 18:38:17,653 : INFO : topic #2 (0.200): 0.064*\"joe\" + 0.039*\"biden\" + 0.012*\"create\" + 0.010*\"think\" + 0.010*\"back\" + 0.010*\"chris\" + 0.009*\"whether\" + 0.008*\"puppet\" + 0.008*\"april\" + 0.007*\"come\"\n",
      "2020-07-31 18:38:17,655 : INFO : topic #3 (0.200): 0.053*\"joe\" + 0.036*\"biden\" + 0.023*\"biden's\" + 0.021*\"@gopchairwoman:\" + 0.021*\"ever\" + 0.013*\"@realdonaldtrump:\" + 0.010*\"make\" + 0.008*\"sleepy\" + 0.008*\"@kayleighmcenany:\" + 0.008*\"way\"\n",
      "2020-07-31 18:38:17,659 : INFO : topic #4 (0.200): 0.047*\"joe\" + 0.028*\"bide…\" + 0.018*\"biden\" + 0.017*\"vote\" + 0.016*\"voting\" + 0.011*\"created\" + 0.011*\"could\" + 0.010*\"biden,\" + 0.009*\"president\" + 0.009*\"100\"\n",
      "2020-07-31 18:38:17,661 : INFO : topic diff=0.446562, rho=0.316228\n",
      "2020-07-31 18:38:18,158 : INFO : -8.699 per-word bound, 415.7 perplexity estimate based on a held-out corpus of 1543 documents with 21885 words\n",
      "2020-07-31 18:38:18,159 : INFO : PROGRESS: pass 0, at document #21543/21543\n",
      "2020-07-31 18:38:18,519 : INFO : merging changes from 1543 documents into a model of 21543 documents\n",
      "2020-07-31 18:38:18,529 : INFO : topic #0 (0.200): 0.070*\"joe\" + 0.066*\"biden\" + 0.019*\"jobs.\" + 0.018*\"&amp;\" + 0.014*\"defund\" + 0.012*\"rep.\" + 0.012*\"hunter\" + 0.011*\"world\" + 0.010*\"police\" + 0.009*\"radical\"\n",
      "2020-07-31 18:38:18,530 : INFO : topic #1 (0.200): 0.071*\"joe\" + 0.056*\"biden\" + 0.026*\"president\" + 0.020*\"trump\" + 0.017*\"proven\" + 0.016*\"need\" + 0.015*\"went\" + 0.010*\"biden.\" + 0.010*\"election\" + 0.009*\"try\"\n",
      "2020-07-31 18:38:18,532 : INFO : topic #2 (0.200): 0.063*\"joe\" + 0.038*\"biden\" + 0.018*\"create\" + 0.015*\"whether\" + 0.010*\"competent\" + 0.009*\"sees\" + 0.009*\"liberals\" + 0.008*\"think\" + 0.008*\"american\" + 0.007*\"back\"\n",
      "2020-07-31 18:38:18,535 : INFO : topic #3 (0.200): 0.051*\"joe\" + 0.036*\"biden\" + 0.030*\"@gopchairwoman:\" + 0.026*\"ever\" + 0.020*\"biden's\" + 0.012*\"received\" + 0.009*\"@realdonaldtrump:\" + 0.009*\"information\" + 0.009*\"make\" + 0.008*\"president\"\n",
      "2020-07-31 18:38:18,538 : INFO : topic #4 (0.200): 0.050*\"joe\" + 0.044*\"bide…\" + 0.021*\"created\" + 0.017*\"biden\" + 0.014*\"voting\" + 0.013*\"vote\" + 0.013*\"hunter\" + 0.013*\"rest\" + 0.012*\"jobs\" + 0.010*\"president\"\n",
      "2020-07-31 18:38:18,540 : INFO : topic diff=0.398513, rho=0.301511\n"
     ]
    }
   ],
   "source": [
    "total_topics=5\n",
    "lda=models.LdaModel(corpus, id2word=dictionary, num_topics=total_topics)\n",
    "corpus_lda=lda[corpus_tfidf]"
   ]
  },
  {
   "cell_type": "code",
   "execution_count": 57,
   "metadata": {
    "pycharm": {
     "name": "#%%\n"
    }
   },
   "outputs": [
    {
     "data": {
      "text/plain": [
       "[(0,\n",
       "  '0.070*\"joe\" + 0.066*\"biden\" + 0.019*\"jobs.\" + 0.018*\"&amp;\" + 0.014*\"defund\"'),\n",
       " (1,\n",
       "  '0.071*\"joe\" + 0.056*\"biden\" + 0.026*\"president\" + 0.020*\"trump\" + 0.017*\"proven\"'),\n",
       " (2,\n",
       "  '0.063*\"joe\" + 0.038*\"biden\" + 0.018*\"create\" + 0.015*\"whether\" + 0.010*\"competent\"'),\n",
       " (3,\n",
       "  '0.051*\"joe\" + 0.036*\"biden\" + 0.030*\"@gopchairwoman:\" + 0.026*\"ever\" + 0.020*\"biden\\'s\"'),\n",
       " (4,\n",
       "  '0.050*\"joe\" + 0.044*\"bide…\" + 0.021*\"created\" + 0.017*\"biden\" + 0.014*\"voting\"')]"
      ]
     },
     "execution_count": 57,
     "metadata": {},
     "output_type": "execute_result"
    }
   ],
   "source": [
    "lda.show_topics(total_topics,5)"
   ]
  },
  {
   "cell_type": "code",
   "execution_count": 58,
   "metadata": {
    "pycharm": {
     "name": "#%%\n"
    }
   },
   "outputs": [],
   "source": [
    "data_lda = {i: OrderedDict(lda.show_topic(i,25)) for i in range(total_topics)}\n"
   ]
  },
  {
   "cell_type": "code",
   "execution_count": 59,
   "metadata": {
    "pycharm": {
     "name": "#%%\n"
    }
   },
   "outputs": [
    {
     "name": "stdout",
     "output_type": "stream",
     "text": [
      "(5, 106)\n"
     ]
    }
   ],
   "source": [
    "df_lda = pd.DataFrame(data_lda)\n",
    "df_lda = df_lda.fillna(0).T\n",
    "print(df_lda.shape)\n"
   ]
  },
  {
   "cell_type": "code",
   "execution_count": 60,
   "metadata": {
    "pycharm": {
     "name": "#%%\n"
    }
   },
   "outputs": [
    {
     "data": {
      "text/html": [
       "<div>\n",
       "<style scoped>\n",
       "    .dataframe tbody tr th:only-of-type {\n",
       "        vertical-align: middle;\n",
       "    }\n",
       "\n",
       "    .dataframe tbody tr th {\n",
       "        vertical-align: top;\n",
       "    }\n",
       "\n",
       "    .dataframe thead th {\n",
       "        text-align: right;\n",
       "    }\n",
       "</style>\n",
       "<table border=\"1\" class=\"dataframe\">\n",
       "  <thead>\n",
       "    <tr style=\"text-align: right;\">\n",
       "      <th></th>\n",
       "      <th>joe</th>\n",
       "      <th>biden</th>\n",
       "      <th>jobs.</th>\n",
       "      <th>&amp;amp;</th>\n",
       "      <th>defund</th>\n",
       "      <th>rep.</th>\n",
       "      <th>hunter</th>\n",
       "      <th>world</th>\n",
       "      <th>police</th>\n",
       "      <th>radical</th>\n",
       "      <th>...</th>\n",
       "      <th>know</th>\n",
       "      <th>biden,</th>\n",
       "      <th>black</th>\n",
       "      <th>trump.</th>\n",
       "      <th>writing</th>\n",
       "      <th>endorsed</th>\n",
       "      <th>100</th>\n",
       "      <th>control</th>\n",
       "      <th>debate</th>\n",
       "      <th>trust</th>\n",
       "    </tr>\n",
       "  </thead>\n",
       "  <tbody>\n",
       "    <tr>\n",
       "      <th>0</th>\n",
       "      <td>0.070003</td>\n",
       "      <td>0.066137</td>\n",
       "      <td>0.019174</td>\n",
       "      <td>0.01833</td>\n",
       "      <td>0.01403</td>\n",
       "      <td>0.011666</td>\n",
       "      <td>0.011645</td>\n",
       "      <td>0.01088</td>\n",
       "      <td>0.010356</td>\n",
       "      <td>0.009309</td>\n",
       "      <td>...</td>\n",
       "      <td>0.000000</td>\n",
       "      <td>0.000000</td>\n",
       "      <td>0.000000</td>\n",
       "      <td>0.000000</td>\n",
       "      <td>0.000000</td>\n",
       "      <td>0.000000</td>\n",
       "      <td>0.000000</td>\n",
       "      <td>0.000000</td>\n",
       "      <td>0.000000</td>\n",
       "      <td>0.000000</td>\n",
       "    </tr>\n",
       "    <tr>\n",
       "      <th>1</th>\n",
       "      <td>0.070651</td>\n",
       "      <td>0.056008</td>\n",
       "      <td>0.000000</td>\n",
       "      <td>0.00000</td>\n",
       "      <td>0.00000</td>\n",
       "      <td>0.000000</td>\n",
       "      <td>0.000000</td>\n",
       "      <td>0.00000</td>\n",
       "      <td>0.000000</td>\n",
       "      <td>0.000000</td>\n",
       "      <td>...</td>\n",
       "      <td>0.000000</td>\n",
       "      <td>0.000000</td>\n",
       "      <td>0.000000</td>\n",
       "      <td>0.000000</td>\n",
       "      <td>0.000000</td>\n",
       "      <td>0.000000</td>\n",
       "      <td>0.000000</td>\n",
       "      <td>0.000000</td>\n",
       "      <td>0.000000</td>\n",
       "      <td>0.000000</td>\n",
       "    </tr>\n",
       "    <tr>\n",
       "      <th>2</th>\n",
       "      <td>0.062889</td>\n",
       "      <td>0.038261</td>\n",
       "      <td>0.000000</td>\n",
       "      <td>0.00000</td>\n",
       "      <td>0.00000</td>\n",
       "      <td>0.000000</td>\n",
       "      <td>0.000000</td>\n",
       "      <td>0.00000</td>\n",
       "      <td>0.000000</td>\n",
       "      <td>0.000000</td>\n",
       "      <td>...</td>\n",
       "      <td>0.000000</td>\n",
       "      <td>0.000000</td>\n",
       "      <td>0.000000</td>\n",
       "      <td>0.000000</td>\n",
       "      <td>0.000000</td>\n",
       "      <td>0.000000</td>\n",
       "      <td>0.000000</td>\n",
       "      <td>0.000000</td>\n",
       "      <td>0.000000</td>\n",
       "      <td>0.000000</td>\n",
       "    </tr>\n",
       "    <tr>\n",
       "      <th>3</th>\n",
       "      <td>0.050922</td>\n",
       "      <td>0.035522</td>\n",
       "      <td>0.000000</td>\n",
       "      <td>0.00000</td>\n",
       "      <td>0.00000</td>\n",
       "      <td>0.000000</td>\n",
       "      <td>0.000000</td>\n",
       "      <td>0.00000</td>\n",
       "      <td>0.000000</td>\n",
       "      <td>0.000000</td>\n",
       "      <td>...</td>\n",
       "      <td>0.000000</td>\n",
       "      <td>0.000000</td>\n",
       "      <td>0.000000</td>\n",
       "      <td>0.000000</td>\n",
       "      <td>0.000000</td>\n",
       "      <td>0.000000</td>\n",
       "      <td>0.000000</td>\n",
       "      <td>0.000000</td>\n",
       "      <td>0.000000</td>\n",
       "      <td>0.000000</td>\n",
       "    </tr>\n",
       "    <tr>\n",
       "      <th>4</th>\n",
       "      <td>0.049637</td>\n",
       "      <td>0.017476</td>\n",
       "      <td>0.000000</td>\n",
       "      <td>0.00000</td>\n",
       "      <td>0.00000</td>\n",
       "      <td>0.000000</td>\n",
       "      <td>0.012837</td>\n",
       "      <td>0.00000</td>\n",
       "      <td>0.000000</td>\n",
       "      <td>0.000000</td>\n",
       "      <td>...</td>\n",
       "      <td>0.007117</td>\n",
       "      <td>0.007116</td>\n",
       "      <td>0.006813</td>\n",
       "      <td>0.006798</td>\n",
       "      <td>0.006733</td>\n",
       "      <td>0.006137</td>\n",
       "      <td>0.005947</td>\n",
       "      <td>0.005692</td>\n",
       "      <td>0.005687</td>\n",
       "      <td>0.005155</td>\n",
       "    </tr>\n",
       "  </tbody>\n",
       "</table>\n",
       "<p>5 rows × 106 columns</p>\n",
       "</div>"
      ],
      "text/plain": [
       "        joe     biden     jobs.    &amp;   defund      rep.    hunter  \\\n",
       "0  0.070003  0.066137  0.019174  0.01833  0.01403  0.011666  0.011645   \n",
       "1  0.070651  0.056008  0.000000  0.00000  0.00000  0.000000  0.000000   \n",
       "2  0.062889  0.038261  0.000000  0.00000  0.00000  0.000000  0.000000   \n",
       "3  0.050922  0.035522  0.000000  0.00000  0.00000  0.000000  0.000000   \n",
       "4  0.049637  0.017476  0.000000  0.00000  0.00000  0.000000  0.012837   \n",
       "\n",
       "     world    police   radical  ...      know    biden,     black    trump.  \\\n",
       "0  0.01088  0.010356  0.009309  ...  0.000000  0.000000  0.000000  0.000000   \n",
       "1  0.00000  0.000000  0.000000  ...  0.000000  0.000000  0.000000  0.000000   \n",
       "2  0.00000  0.000000  0.000000  ...  0.000000  0.000000  0.000000  0.000000   \n",
       "3  0.00000  0.000000  0.000000  ...  0.000000  0.000000  0.000000  0.000000   \n",
       "4  0.00000  0.000000  0.000000  ...  0.007117  0.007116  0.006813  0.006798   \n",
       "\n",
       "    writing  endorsed       100   control    debate     trust  \n",
       "0  0.000000  0.000000  0.000000  0.000000  0.000000  0.000000  \n",
       "1  0.000000  0.000000  0.000000  0.000000  0.000000  0.000000  \n",
       "2  0.000000  0.000000  0.000000  0.000000  0.000000  0.000000  \n",
       "3  0.000000  0.000000  0.000000  0.000000  0.000000  0.000000  \n",
       "4  0.006733  0.006137  0.005947  0.005692  0.005687  0.005155  \n",
       "\n",
       "[5 rows x 106 columns]"
      ]
     },
     "execution_count": 60,
     "metadata": {},
     "output_type": "execute_result"
    }
   ],
   "source": [
    "df_lda\n"
   ]
  },
  {
   "cell_type": "code",
   "execution_count": 61,
   "metadata": {
    "pycharm": {
     "name": "#%%\n"
    }
   },
   "outputs": [
    {
     "data": {
      "image/png": "[encoded data removed]",
      "text/plain": [
       "<Figure size 1080x1080 with 4 Axes>"
      ]
     },
     "metadata": {
      "needs_background": "light"
     },
     "output_type": "display_data"
    }
   ],
   "source": [
    "g=sns.clustermap(df_lda.corr(), center=0, standard_scale=1, cmap=\"RdBu\", metric='cosine', linewidths=.75, figsize=(15, 15))\n",
    "plt.setp(g.ax_heatmap.yaxis.get_majorticklabels(), rotation=0)\n",
    "plt.show()\n",
    "\n"
   ]
  },
  {
   "cell_type": "code",
   "execution_count": 62,
   "metadata": {
    "pycharm": {
     "name": "#%%\n"
    }
   },
   "outputs": [
    {
     "data": {
      "text/html": [
       "\n",
       "<link rel=\"stylesheet\" type=\"text/css\" href=\"https://cdn.rawgit.com/bmabey/pyLDAvis/files/ldavis.v1.0.0.css\">\n",
       "\n",
       "\n",
       "<div id=\"ldavis_el390281406837309226244090154365\"></div>\n",
       "<script type=\"text/javascript\">\n",
       "\n",
       "var ldavis_el390281406837309226244090154365_data = {\"mdsDat\": {\"x\": [150.22215270996094, 51.16336441040039, -73.1445541381836, -66.4101333618164, 54.41732406616211], \"y\": [-72.2695541381836, -159.968017578125, 21.523815155029297, -110.60643768310547, 12.44344425201416], \"topics\": [1, 2, 3, 4, 5], \"cluster\": [1, 1, 1, 1, 1], \"Freq\": [57.23933410644531, 10.714058876037598, 10.698081970214844, 10.683521270751953, 10.664999008178711]}, \"tinfo\": {\"Term\": [\"joe\", \"biden\", \"bide\\u2026\", \"@gopchairwoman:\", \"president\", \"hunter\", \"ever\", \"biden's\", \"created\", \"trump\", \"jobs.\", \"defund\", \"need\", \"proven\", \"create\", \"rep.\", \"whether\", \"vote\", \"voting\", \"went\", \"american\", \"received\", \"rest\", \"jobs\", \"world\", \"tweeting\", \"leader.\", \"police\", \"vice\", \"competent\", \"defund\", \"rep.\", \"vice\", \"w\\u2026\", \"ilhan\", \"president,\", \"@realminiaoc:\", \"@mmpadellan:\", \"leader\", \"we're\", \"national\", \"question\", \"cut\", \"join\", \"left-wing\", \"y'all\", \"wants\", \"watch:\", \"and\\u2026\", \"personal\", \"excited\", \"today.\", \"safety,\", \"what\\u2019s\", \"h\\u2026\", \"schools\", \"trojan\", \"pay\", \"horse\", \"funding\", \"jobs.\", \"omar's\", \"world\", \"police\", \"long\", \"left,\", \"\\u201cpeaceful\", \"barack\", \"mail\", \"care\", \"protesters.\\u201d\", \"@no_silenced:\", \"go\", \"dc\", \"&amp;\", \"radical\", \"kkk\", \"even\", \"democrat\", \"@trumpwarroom:\", \"biden\", \"hunter\", \"joe\", \"american\", \"want\", \"t\\u2026\", \"leader.\", \"@realdonaldtrump\", \"@donaldjtrumpjr:\", \"april\", \"chris\", \"competent\", \"@joncoopertweets:\", \"supposed\", \"nothing\", \"lose\", \"wallace\", \"warning\", \"week\", \"refuse\", \"seen\", \"major\", \"elected\", \"material\", \"whether\", \"able\", \"refuses\", \"conversation\", \"is.\", \"george\", \"worst\", \"corrupt\", \"kamala\", \"house\", \"gonna\", \"body\", \"e\\u2026\", \"working\", \"aga\\u2026\", \"interview\", \"@gop:\", \"create\", \"puppet\", \"use\", \"@timrunshismouth:\", \"dems\", \"sees\", \"friends\", \"liberals\", \"pro-russian\", \"can\\u2019t\", \"back\", \"--\", \"read\", \"sean\", \"come\", \"he's\", \"foreign\", \"think\", \"it\\u2019s\", \"joe\", \"biden\", \"nunes\", \"tweeting\", \"doesn\\u2019t\", \"american\", \"going\", \"created\", \"biden\\u2019s\", \"want\", \"leader.\", \"try\", \"union\", \"ukrainian\", \"mail-in\", \"news:\", \"\\\"the\", \"@teamtrump:\", \"@steveguest:\", \"workers\", \"@jennaellisesq:\", \"u.s.\", \"crazy\", \"realize\", \"press\", \"article.\", \"ad\", \"present\", \"them.\", \"chair\", \"speak\", \"trump:\", \"president.\", \"isn\\u2019t\", \"poll\", \"shows\", \"good\", \"secretary\", \"swamp\", \"john\", \"\\\"donald\", \"confused\", \"got\", \"today\", \"kick\", \"anything\", \"proven\", \"went\", \"candidate\", \"pulled\", \"election\", \"package\", \"gop\", \"biden.\", \"donald\", \"need\", \"campaign\", \"president\", \"trump\", \"trump's\", \"every\", \"joe\", \"biden\", \"america\", \"don\\u2019t\", \"people\", \"would\", \"ever\", \"first\", \"jobs\", \"american\", \"one\", \"received\", \"breaking:\", \"@kayleighmcenany:\", \"information\", \"wonder\", \"face\", \"hold\", \"cannot\", \"give\", \"four\", \"united\", \"\\u201ci\", \"place\", \"tucker\", \"\\u2013\", \"chinese\", \"yet\", \"way\", \"would\\u2026\", \"@funder:\", \"mate.\", \"set\", \"lifelong\", \"catastrophic\", \"becomes\", \"end\", \"breathed\", \"appears\", \"receive\", \"hollywood\", \"@cnnpolitics:\", \"sent\", \"video\", \"@gopchairwoman:\", \"coronavirus\", \"sleepy\", \"protecting\", \"help\", \"ever\", \"\\ud83e\\udd14\", \"biden's\", \"imagine\", \"@realdonaldtrump:\", \"joe\\u2019s\", \"keep\", \"make\", \"made\", \"really\", \"joe\", \"biden\", \"via\", \"president\", \"china\", \"nunes\", \"@realdonaldtrump\", \"control\", \"damage\", \"crow\", \"100\", \"million\", \"left.\", \"biden?\", \"mike\", \"electing\", \"political\", \"safe\", \"three\", \"@catturd2:\", \"party.\", \"biden\\\"\", \"records\", \"around\", \"debate\", \"pennsylvania\", \"pompeo\", \"great\", \"@mitchellvii:\", \"retweet\", \"wake\", \"florida\", \"endorsed\", \"why?\", \"woman\", \"america.\", \"november.\", \"bide\\u2026\", \"trump.\", \"gave\", \"knows\", \"win\", \"voting\", \"writing\", \"department\", \"could\", \"meant\", \"jim\", \"rest\", \"created\", \"biden!\", \"trust\", \"fact\", \"say\", \"vote\", \"jobs\", \"joe\", \"know\", \"black\", \"i\\u2026\", \"hunter\", \"president\", \"think\", \"biden\", \"biden,\"], \"Freq\": [1402.0, 1154.0, 104.0, 73.0, 140.0, 173.0, 73.0, 59.0, 60.0, 117.0, 238.0, 173.0, 66.0, 42.0, 43.0, 143.0, 34.0, 80.0, 34.0, 42.0, 143.0, 28.0, 34.0, 75.0, 135.0, 59.0, 76.0, 129.0, 93.0, 22.0, 172.99880981445312, 143.85330200195312, 93.48589324951172, 87.3189926147461, 68.98119354248047, 67.24176788330078, 65.69495391845703, 66.32771301269531, 61.05956268310547, 53.578041076660156, 33.93303298950195, 33.28989791870117, 30.94175148010254, 27.09284019470215, 22.615522384643555, 21.425045013427734, 72.5154800415039, 17.235071182250977, 18.152189254760742, 16.88363265991211, 17.84431266784668, 16.670372009277344, 21.301284790039062, 15.690101623535156, 38.92352294921875, 21.251188278198242, 13.577521324157715, 16.4702091217041, 13.29074764251709, 12.676458358764648, 236.43783569335938, 57.13942337036133, 134.16151428222656, 127.6937255859375, 60.53248977661133, 34.18952178955078, 43.307037353515625, 45.614864349365234, 47.98331069946289, 44.395225524902344, 24.71065330505371, 25.002004623413086, 63.76042175292969, 31.601749420166016, 226.02552795410156, 114.78272247314453, 35.137611389160156, 76.27857971191406, 63.682701110839844, 90.81873321533203, 815.5345458984375, 143.59832763671875, 863.19921875, 112.60696411132812, 66.86103057861328, 57.52658462524414, 64.42143249511719, 72.64004516601562, 58.37843322753906, 14.136088371276855, 14.990967750549316, 22.85659408569336, 10.415626525878906, 9.451017379760742, 10.891858100891113, 6.890984535217285, 6.023888111114502, 5.867224216461182, 5.240187168121338, 4.884375095367432, 4.269809246063232, 4.301881790161133, 4.256067276000977, 9.641562461853027, 33.676475524902344, 4.663918495178223, 8.166592597961426, 4.400345802307129, 3.592135190963745, 3.653526782989502, 3.321394205093384, 3.6055753231048584, 5.1442413330078125, 12.31827449798584, 2.752255916595459, 2.925138235092163, 2.7247509956359863, 3.030308961868286, 3.3814258575439453, 10.335625648498535, 10.821542739868164, 40.480560302734375, 13.196770668029785, 5.977382183074951, 9.333446502685547, 12.208749771118164, 20.965314865112305, 4.504601955413818, 19.919965744018555, 8.480061531066895, 8.559187889099121, 17.199304580688477, 7.8849005699157715, 12.071125030517578, 8.428254127502441, 12.636188507080078, 8.65170955657959, 10.546642303466797, 18.494571685791016, 16.058252334594727, 145.1537628173828, 88.30937194824219, 15.609770774841309, 15.413036346435547, 11.490686416625977, 17.751850128173828, 12.916216850280762, 12.746362686157227, 11.020237922668457, 12.213615417480469, 11.935824394226074, 20.999847412109375, 11.965446472167969, 11.145819664001465, 9.726202011108398, 11.144499778747559, 6.82407283782959, 6.346047878265381, 7.670421600341797, 11.398750305175781, 5.963242530822754, 4.483978748321533, 3.546525239944458, 3.7154252529144287, 3.480792760848999, 3.6888022422790527, 3.8197028636932373, 4.070594787597656, 4.515635967254639, 4.51356315612793, 2.9257590770721436, 3.1347415447235107, 10.15121841430664, 3.6761057376861572, 3.192148447036743, 3.507500410079956, 8.248016357421875, 4.252670764923096, 5.046306133270264, 13.38598918914795, 3.8352248668670654, 10.005016326904297, 6.703004360198975, 9.165848731994629, 11.682815551757812, 7.877820014953613, 38.88887405395508, 35.162689208984375, 4.345276832580566, 4.4760422706604, 22.014314651489258, 4.20213508605957, 6.76962947845459, 22.761783599853516, 18.030637741088867, 37.341758728027344, 16.546274185180664, 60.459129333496094, 46.99440383911133, 9.48409652709961, 11.36917495727539, 162.82699584960938, 129.07913208007812, 16.1914119720459, 8.698283195495605, 14.864818572998047, 15.030224800109863, 14.934762001037598, 11.028643608093262, 13.086098670959473, 13.266337394714355, 11.143816947937012, 28.371992111206055, 16.1558895111084, 13.6384859085083, 20.093904495239258, 9.123324394226074, 9.14700698852539, 8.730518341064453, 9.542144775390625, 10.86405086517334, 6.9536051750183105, 13.262611389160156, 6.2560200691223145, 6.573826313018799, 6.693307876586914, 7.446357250213623, 4.5392537117004395, 6.671335220336914, 15.91697883605957, 8.95541763305664, 4.351162433624268, 4.043102264404297, 3.6810786724090576, 3.8185858726501465, 3.8988208770751953, 4.751220703125, 12.625617980957031, 3.637059450149536, 3.6132915019989014, 3.347437858581543, 2.6478652954101562, 11.335122108459473, 16.75572967529297, 6.187768459320068, 68.89900207519531, 13.339284896850586, 13.806219100952148, 5.784692287445068, 10.929414749145508, 58.75080871582031, 6.662766933441162, 45.66239929199219, 8.5350980758667, 21.030656814575195, 8.247870445251465, 11.989559173583984, 19.770875930786133, 12.069685935974121, 11.057666778564453, 117.19799041748047, 81.75525665283203, 11.518616676330566, 18.66436195373535, 9.266953468322754, 10.50964069366455, 9.654861450195312, 13.078246116638184, 18.733928680419922, 9.7855224609375, 13.664149284362793, 10.658196449279785, 7.996203422546387, 7.3060173988342285, 6.988217353820801, 7.793704986572266, 5.856635093688965, 9.155083656311035, 6.180507659912109, 7.181944370269775, 6.711803913116455, 5.336183547973633, 6.6276092529296875, 5.136098384857178, 13.066574096679688, 6.4740519523620605, 7.316201210021973, 5.422207832336426, 4.452796936035156, 5.293025016784668, 4.234722137451172, 9.487529754638672, 14.100517272949219, 3.60844349861145, 3.5233113765716553, 8.163100242614746, 3.045248508453369, 100.07221984863281, 15.618042945861816, 9.005975723266602, 9.806283950805664, 10.78617000579834, 32.596126556396484, 15.469560623168945, 6.689760684967041, 17.300247192382812, 17.548837661743164, 11.155803680419922, 29.108768463134766, 47.57902145385742, 8.827028274536133, 11.844865798950195, 8.046303749084473, 18.046743392944336, 30.308788299560547, 27.22917366027832, 114.04381561279297, 16.351919174194336, 15.653409004211426, 10.713436126708984, 29.493682861328125, 22.52340316772461, 14.02197551727295, 40.15087127685547, 16.348983764648438], \"Total\": [1402.0, 1154.0, 104.0, 73.0, 140.0, 173.0, 73.0, 59.0, 60.0, 117.0, 238.0, 173.0, 66.0, 42.0, 43.0, 143.0, 34.0, 80.0, 34.0, 42.0, 143.0, 28.0, 34.0, 75.0, 135.0, 59.0, 76.0, 129.0, 93.0, 22.0, 173.03392028808594, 143.90103149414062, 93.52017211914062, 87.3585433959961, 69.01597595214844, 67.27679443359375, 65.72969818115234, 66.36717224121094, 61.09671401977539, 53.62141799926758, 33.96784973144531, 33.3259162902832, 30.975563049316406, 27.12697410583496, 22.651466369628906, 21.459970474243164, 72.6578369140625, 17.27058219909668, 18.18976402282715, 16.919967651367188, 17.88315200805664, 16.707242965698242, 21.348447799682617, 15.724907875061035, 39.017147064208984, 21.303945541381836, 13.611392974853516, 16.511581420898438, 13.32454776763916, 12.711316108703613, 238.68116760253906, 57.298152923583984, 135.71109008789062, 129.20541381835938, 60.86835861206055, 34.289581298828125, 43.5625, 45.984100341796875, 48.41859436035156, 44.78230285644531, 24.78267478942871, 25.087753295898438, 64.99665069580078, 31.865217208862305, 238.7158966064453, 120.57880401611328, 35.6293830871582, 81.33464813232422, 67.53326416015625, 99.5604248046875, 1154.8292236328125, 173.153076171875, 1402.4217529296875, 143.64755249023438, 79.384765625, 64.6480941772461, 76.39707946777344, 94.83493041992188, 68.28529357910156, 14.216618537902832, 15.078350067138672, 22.99733543395996, 10.49113655090332, 9.526070594787598, 10.986870765686035, 6.97130823135376, 6.099997043609619, 5.941736221313477, 5.307125568389893, 4.954334735870361, 4.33667516708374, 4.369306564331055, 4.323376178741455, 9.79603099822998, 34.22591018676758, 4.740330219268799, 8.302202224731445, 4.482230186462402, 3.659512996673584, 3.7252519130706787, 3.3887839317321777, 3.6789321899414062, 5.249246120452881, 12.572731971740723, 2.8183016777038574, 2.997849702835083, 2.7936887741088867, 3.106989622116089, 3.4687743186950684, 10.614224433898926, 11.253926277160645, 43.371517181396484, 13.866501808166504, 6.1971435546875, 9.885828971862793, 13.094461441040039, 24.204139709472656, 4.677219867706299, 24.303428649902344, 9.4779691696167, 9.61590576171875, 22.785099029541016, 9.008379936218262, 15.589987754821777, 9.951215744018555, 17.524797439575195, 10.541601181030273, 14.004648208618164, 35.64215087890625, 28.690521240234375, 1402.4217529296875, 1154.8292236328125, 36.572879791259766, 59.302734375, 25.93224334716797, 143.64755249023438, 56.12286376953125, 60.73439025878906, 33.64030838012695, 79.384765625, 76.39707946777344, 21.07380485534668, 12.040088653564453, 11.218073844909668, 9.798169136047363, 11.241507530212402, 6.891979694366455, 6.4152421951293945, 7.763200759887695, 11.545310020446777, 6.04187536239624, 4.551264762878418, 3.614248514175415, 3.7875120639801025, 3.5485739707946777, 3.763198137283325, 3.8987059593200684, 4.154842376708984, 4.615248680114746, 4.613307952880859, 2.9928321838378906, 3.20796275138855, 10.388996124267578, 3.7641725540161133, 3.268857955932617, 3.592480421066284, 8.448444366455078, 4.365466594696045, 5.18198823928833, 13.765846252441406, 3.9523212909698486, 10.413009643554688, 6.956857681274414, 9.593886375427246, 12.358895301818848, 8.26295280456543, 42.940147399902344, 42.04290771484375, 4.514944076538086, 4.671700477600098, 28.35836410522461, 4.357054710388184, 7.692523956298828, 34.153076171875, 26.348697662353516, 66.31581115722656, 25.432514190673828, 140.2225799560547, 117.39158630371094, 13.239502906799316, 18.422353744506836, 1402.4217529296875, 1154.8292236328125, 39.930877685546875, 12.325091361999512, 51.74027633666992, 53.87259292602539, 73.91987609863281, 33.351261138916016, 75.97897338867188, 143.64755249023438, 68.22876739501953, 28.455854415893555, 16.21861457824707, 13.715149879455566, 20.20758628845215, 9.18547248840332, 9.210786819458008, 8.794973373413086, 9.612844467163086, 10.956087112426758, 7.015251636505127, 13.384923934936523, 6.318711280822754, 6.642340660095215, 6.773094654083252, 7.539726257324219, 4.6011199951171875, 6.764899730682373, 16.164560317993164, 9.094797134399414, 4.419607162475586, 4.108609676361084, 3.744629383087158, 3.887227773666382, 3.9709625244140625, 4.840620040893555, 12.875487327575684, 3.7161951065063477, 3.6920526027679443, 3.4299654960632324, 2.713407278060913, 11.617682456970215, 17.273183822631836, 6.348207950592041, 73.19585418701172, 13.822686195373535, 14.367552757263184, 5.9575605392456055, 11.831829071044922, 73.91987609863281, 6.99468469619751, 59.303497314453125, 9.249007225036621, 25.964757919311523, 9.118058204650879, 14.852014541625977, 31.263578414916992, 15.932317733764648, 15.078241348266602, 1402.4217529296875, 1154.8292236328125, 19.201473236083984, 140.2225799560547, 13.65091609954834, 36.572879791259766, 94.83493041992188, 13.14238166809082, 18.837024688720703, 9.848657608032227, 13.757201194763184, 10.736475944519043, 8.064693450927734, 7.369807243347168, 7.050706386566162, 7.8686628341674805, 5.919307231903076, 9.256112098693848, 6.248932838439941, 7.262550354003906, 6.7881340980529785, 5.39885139465332, 6.705953598022461, 5.198977947235107, 13.233366966247559, 6.557950019836426, 7.416032791137695, 5.4979071617126465, 4.515527725219727, 5.371824264526367, 4.299139022827148, 9.64380931854248, 14.347487449645996, 3.674247980117798, 3.58903431892395, 8.32674789428711, 3.10764217376709, 104.02812957763672, 16.006942749023438, 9.192179679870605, 10.020203590393066, 11.074506759643555, 34.76759338378906, 16.538692474365234, 6.854626655578613, 18.729698181152344, 19.07693099975586, 11.82296085357666, 34.43085479736328, 60.73439025878906, 9.537004470825195, 13.787572860717773, 8.571401596069336, 28.29999542236328, 80.00047302246094, 75.97897338867188, 1402.4217529296875, 37.182334899902344, 34.06627655029297, 15.270334243774414, 173.153076171875, 140.2225799560547, 35.64215087890625, 1154.8292236328125, 59.70184326171875], \"Category\": [\"Default\", \"Default\", \"Default\", \"Default\", \"Default\", \"Default\", \"Default\", \"Default\", \"Default\", \"Default\", \"Default\", \"Default\", \"Default\", \"Default\", \"Default\", \"Default\", \"Default\", \"Default\", \"Default\", \"Default\", \"Default\", \"Default\", \"Default\", \"Default\", \"Default\", \"Default\", \"Default\", \"Default\", \"Default\", \"Default\", \"Topic1\", \"Topic1\", \"Topic1\", \"Topic1\", \"Topic1\", \"Topic1\", \"Topic1\", \"Topic1\", \"Topic1\", \"Topic1\", \"Topic1\", \"Topic1\", \"Topic1\", \"Topic1\", \"Topic1\", \"Topic1\", \"Topic1\", \"Topic1\", \"Topic1\", \"Topic1\", \"Topic1\", \"Topic1\", \"Topic1\", \"Topic1\", \"Topic1\", \"Topic1\", \"Topic1\", \"Topic1\", \"Topic1\", \"Topic1\", \"Topic1\", \"Topic1\", \"Topic1\", \"Topic1\", \"Topic1\", \"Topic1\", \"Topic1\", \"Topic1\", \"Topic1\", \"Topic1\", \"Topic1\", \"Topic1\", \"Topic1\", \"Topic1\", \"Topic1\", \"Topic1\", \"Topic1\", \"Topic1\", \"Topic1\", \"Topic1\", \"Topic1\", \"Topic1\", \"Topic1\", \"Topic1\", \"Topic1\", \"Topic1\", \"Topic1\", \"Topic1\", \"Topic1\", \"Topic2\", \"Topic2\", \"Topic2\", \"Topic2\", \"Topic2\", \"Topic2\", \"Topic2\", \"Topic2\", \"Topic2\", \"Topic2\", \"Topic2\", \"Topic2\", \"Topic2\", \"Topic2\", \"Topic2\", \"Topic2\", \"Topic2\", \"Topic2\", \"Topic2\", \"Topic2\", \"Topic2\", \"Topic2\", \"Topic2\", \"Topic2\", \"Topic2\", \"Topic2\", \"Topic2\", \"Topic2\", \"Topic2\", \"Topic2\", \"Topic2\", \"Topic2\", \"Topic2\", \"Topic2\", \"Topic2\", \"Topic2\", \"Topic2\", \"Topic2\", \"Topic2\", \"Topic2\", \"Topic2\", \"Topic2\", \"Topic2\", \"Topic2\", \"Topic2\", \"Topic2\", \"Topic2\", \"Topic2\", \"Topic2\", \"Topic2\", \"Topic2\", \"Topic2\", \"Topic2\", \"Topic2\", \"Topic2\", \"Topic2\", \"Topic2\", \"Topic2\", \"Topic2\", \"Topic2\", \"Topic2\", \"Topic2\", \"Topic3\", \"Topic3\", \"Topic3\", \"Topic3\", \"Topic3\", \"Topic3\", \"Topic3\", \"Topic3\", \"Topic3\", \"Topic3\", \"Topic3\", \"Topic3\", \"Topic3\", \"Topic3\", \"Topic3\", \"Topic3\", \"Topic3\", \"Topic3\", \"Topic3\", \"Topic3\", \"Topic3\", \"Topic3\", \"Topic3\", \"Topic3\", \"Topic3\", \"Topic3\", \"Topic3\", \"Topic3\", \"Topic3\", \"Topic3\", \"Topic3\", \"Topic3\", \"Topic3\", \"Topic3\", \"Topic3\", \"Topic3\", \"Topic3\", \"Topic3\", \"Topic3\", \"Topic3\", \"Topic3\", \"Topic3\", \"Topic3\", \"Topic3\", \"Topic3\", \"Topic3\", \"Topic3\", \"Topic3\", \"Topic3\", \"Topic3\", \"Topic3\", \"Topic3\", \"Topic3\", \"Topic3\", \"Topic3\", \"Topic3\", \"Topic3\", \"Topic3\", \"Topic3\", \"Topic3\", \"Topic3\", \"Topic4\", \"Topic4\", \"Topic4\", \"Topic4\", \"Topic4\", \"Topic4\", \"Topic4\", \"Topic4\", \"Topic4\", \"Topic4\", \"Topic4\", \"Topic4\", \"Topic4\", \"Topic4\", \"Topic4\", \"Topic4\", \"Topic4\", \"Topic4\", \"Topic4\", \"Topic4\", \"Topic4\", \"Topic4\", \"Topic4\", \"Topic4\", \"Topic4\", \"Topic4\", \"Topic4\", \"Topic4\", \"Topic4\", \"Topic4\", \"Topic4\", \"Topic4\", \"Topic4\", \"Topic4\", \"Topic4\", \"Topic4\", \"Topic4\", \"Topic4\", \"Topic4\", \"Topic4\", \"Topic4\", \"Topic4\", \"Topic4\", \"Topic4\", \"Topic4\", \"Topic4\", \"Topic4\", \"Topic4\", \"Topic4\", \"Topic4\", \"Topic4\", \"Topic4\", \"Topic4\", \"Topic4\", \"Topic4\", \"Topic5\", \"Topic5\", \"Topic5\", \"Topic5\", \"Topic5\", \"Topic5\", \"Topic5\", \"Topic5\", \"Topic5\", \"Topic5\", \"Topic5\", \"Topic5\", \"Topic5\", \"Topic5\", \"Topic5\", \"Topic5\", \"Topic5\", \"Topic5\", \"Topic5\", \"Topic5\", \"Topic5\", \"Topic5\", \"Topic5\", \"Topic5\", \"Topic5\", \"Topic5\", \"Topic5\", \"Topic5\", \"Topic5\", \"Topic5\", \"Topic5\", \"Topic5\", \"Topic5\", \"Topic5\", \"Topic5\", \"Topic5\", \"Topic5\", \"Topic5\", \"Topic5\", \"Topic5\", \"Topic5\", \"Topic5\", \"Topic5\", \"Topic5\", \"Topic5\", \"Topic5\", \"Topic5\", \"Topic5\", \"Topic5\", \"Topic5\", \"Topic5\", \"Topic5\", \"Topic5\", \"Topic5\", \"Topic5\", \"Topic5\", \"Topic5\", \"Topic5\"], \"logprob\": [30.0, 29.0, 28.0, 27.0, 26.0, 25.0, 24.0, 23.0, 22.0, 21.0, 20.0, 19.0, 18.0, 17.0, 16.0, 15.0, 14.0, 13.0, 12.0, 11.0, 10.0, 9.0, 8.0, 7.0, 6.0, 5.0, 4.0, 3.0, 2.0, 1.0, -4.266600131988525, -4.451099872589111, -4.8821001052856445, -4.950300216674805, -5.185999870300293, -5.211599826812744, -5.234799861907959, -5.225299835205078, -5.308000087738037, -5.438700199127197, -5.895500183105469, -5.914599895477295, -5.987800121307373, -6.12060022354126, -6.301199913024902, -6.355299949645996, -5.136099815368652, -6.57289981842041, -6.521100044250488, -6.593500137329102, -6.5381999015808105, -6.606200218200684, -6.361100196838379, -6.666800022125244, -5.758299827575684, -6.363500118255615, -6.811399936676025, -6.618299961090088, -6.832799911499023, -6.880099773406982, -3.954200029373169, -5.3744001388549805, -4.5208001136779785, -4.570199966430664, -5.316699981689453, -5.887899875640869, -5.651599884033203, -5.599599838256836, -5.548999786376953, -5.626699924468994, -6.212600231170654, -6.200900077819824, -5.264699935913086, -5.966700077056885, -3.9992001056671143, -4.676799774169922, -5.860599994659424, -5.0854997634887695, -5.265999794006348, -4.910999774932861, -2.7160000801086426, -4.4527997970581055, -2.6591999530792236, -4.696000099182129, -5.217199802398682, -5.367599964141846, -5.25439977645874, -5.134300231933594, -5.35290002822876, -5.0954999923706055, -5.0366997718811035, -4.6149001121521, -5.400899887084961, -5.4980998039245605, -5.356200218200684, -5.814000129699707, -5.948400020599365, -5.974800109863281, -6.087800025939941, -6.158100128173828, -6.292600154876709, -6.285099983215332, -6.29580020904541, -5.478099822998047, -4.227399826049805, -6.2042999267578125, -5.644100189208984, -6.262499809265137, -6.465400218963623, -6.448500156402588, -6.543799877166748, -6.461699962615967, -6.106299877166748, -5.233099937438965, -6.731800079345703, -6.67080020904541, -6.741799831390381, -6.635499954223633, -6.525899887084961, -5.408599853515625, -5.362599849700928, -4.043399810791016, -5.1641998291015625, -5.956200122833252, -5.5106000900268555, -5.242000102996826, -4.701300144195557, -6.239099979400635, -4.752500057220459, -5.606500148773193, -5.5971999168396, -4.8993000984191895, -5.679200172424316, -5.253399848937988, -5.612599849700928, -5.207600116729736, -5.586400032043457, -5.388400077819824, -4.826700210571289, -4.9679999351501465, -2.766400098800659, -3.2632999420166016, -4.996300220489502, -5.008999824523926, -5.302599906921387, -4.867700099945068, -5.185699939727783, -5.19890022277832, -5.344399929046631, -5.241600036621094, -5.264599800109863, -4.698200225830078, -5.260700225830078, -5.331600189208984, -5.467899799346924, -5.331699848175049, -5.822199821472168, -5.894899845123291, -5.7052998542785645, -5.309199810028076, -5.957099914550781, -6.242199897766113, -6.4766998291015625, -6.430200099945068, -6.4953999519348145, -6.437399864196777, -6.402500152587891, -6.338900089263916, -6.235099792480469, -6.235599994659424, -6.669099807739258, -6.600100040435791, -5.425099849700928, -6.440800189971924, -6.581999778747559, -6.487800121307373, -5.632699966430664, -6.295100212097168, -6.124000072479248, -5.148499965667725, -6.398499965667725, -5.439599990844727, -5.840099811553955, -5.527200222015381, -5.284599781036377, -5.678599834442139, -4.081999778747559, -4.182700157165527, -6.273600101470947, -6.243899822235107, -4.651000022888184, -6.30709981918335, -5.8302001953125, -4.617599964141846, -4.850599765777588, -4.122600078582764, -4.936500072479248, -3.640700101852417, -3.892699956893921, -5.493100166320801, -5.311800003051758, -2.6500000953674316, -2.8822999000549316, -4.958199977874756, -5.579599857330322, -5.043700218200684, -5.032599925994873, -5.039000034332275, -5.342199802398682, -5.17110013961792, -5.15749979019165, -5.3317999839782715, -4.395899772644043, -4.959000110626221, -5.128399848937988, -4.740900039672852, -5.5304999351501465, -5.527900218963623, -5.57450008392334, -5.485599994659424, -5.355899810791016, -5.80210018157959, -5.156400203704834, -5.907800197601318, -5.8582000732421875, -5.840199947357178, -5.73360013961792, -6.228600025177002, -5.843500137329102, -4.973899841308594, -5.549099922180176, -6.270899772644043, -6.344299793243408, -6.4380998611450195, -6.401400089263916, -6.38070011138916, -6.1828999519348145, -5.205599784851074, -6.450200080871582, -6.456699848175049, -6.533100128173828, -6.767600059509277, -5.313399791717529, -4.922599792480469, -5.918799877166748, -3.508699893951416, -5.150599956512451, -5.116199970245361, -5.986100196838379, -5.349899768829346, -3.6679999828338623, -5.844799995422363, -3.920099973678589, -5.597099781036377, -4.695300102233887, -5.631400108337402, -5.257299900054932, -4.7571001052856445, -5.2505998611450195, -5.338200092315674, -2.9774999618530273, -3.337599992752075, -5.297399997711182, -4.814700126647949, -5.514900207519531, -5.388999938964844, -5.473899841308594, -5.168600082397461, -4.809299945831299, -5.458700180053711, -5.124800205230713, -5.373300075531006, -5.660600185394287, -5.750899791717529, -5.795400142669678, -5.686299800872803, -5.9720001220703125, -5.525300025939941, -5.9182000160217285, -5.76800012588501, -5.835700035095215, -6.065100193023682, -5.848299980163574, -6.103300094604492, -5.16949987411499, -5.871799945831299, -5.749499797821045, -6.049099922180176, -6.246099948883057, -6.073200225830078, -6.296299934387207, -5.48960018157959, -5.093400001525879, -6.456299781799316, -6.480199813842773, -5.639999866485596, -6.625999927520752, -3.133699893951416, -4.991199970245361, -5.5416998863220215, -5.456600189208984, -5.361299991607666, -4.25540018081665, -5.000699996948242, -5.839000225067139, -4.888899803161621, -4.874599933624268, -5.327600002288818, -4.368599891662598, -3.87719988822937, -5.561800003051758, -5.2677001953125, -5.654399871826172, -4.84660005569458, -4.328199863433838, -4.435299873352051, -3.003000020980835, -4.945199966430664, -4.988900184631348, -5.368100166320801, -4.355400085449219, -4.625, -5.098999977111816, -4.046899795532227, -4.945400238037109], \"loglift\": [30.0, 29.0, 28.0, 27.0, 26.0, 25.0, 24.0, 23.0, 22.0, 21.0, 20.0, 19.0, 18.0, 17.0, 16.0, 15.0, 14.0, 13.0, 12.0, 11.0, 10.0, 9.0, 8.0, 7.0, 6.0, 5.0, 4.0, 3.0, 2.0, 1.0, 0.557699978351593, 0.5576000213623047, 0.5576000213623047, 0.5575000047683716, 0.5573999881744385, 0.5573999881744385, 0.5573999881744385, 0.5572999715805054, 0.5572999715805054, 0.5570999979972839, 0.5569000244140625, 0.5568000078201294, 0.5568000078201294, 0.5566999912261963, 0.5562999844551086, 0.5562999844551086, 0.5559999942779541, 0.555899977684021, 0.555899977684021, 0.5558000206947327, 0.5558000206947327, 0.5557000041007996, 0.5557000041007996, 0.5557000041007996, 0.5554999709129333, 0.555400013923645, 0.555400013923645, 0.555400013923645, 0.555400013923645, 0.5551999807357788, 0.5485000014305115, 0.5551999807357788, 0.5464000105857849, 0.5461999773979187, 0.5523999929428101, 0.5550000071525574, 0.5519999861717224, 0.5498999953269958, 0.5489000082015991, 0.5491999983787537, 0.5550000071525574, 0.5544999837875366, 0.5386999845504761, 0.5496000051498413, 0.5033000111579895, 0.5087000131607056, 0.5440000295639038, 0.4936999976634979, 0.4991999864578247, 0.4659999907016754, 0.210099995136261, 0.3707999885082245, 0.07259999960660934, 0.31450000405311584, 0.3862000107765198, 0.44119998812675476, 0.3874000012874603, 0.2912999987602234, 0.40119999647140503, 2.2279000282287598, 2.227799892425537, 2.2274999618530273, 2.2263998985290527, 2.2256999015808105, 2.224900007247925, 2.2219998836517334, 2.221100091934204, 2.2209999561309814, 2.220900058746338, 2.219399929046631, 2.218100070953369, 2.218100070953369, 2.217900037765503, 2.2177000045776367, 2.217400074005127, 2.217400074005127, 2.217099905014038, 2.2151999473571777, 2.2149999141693115, 2.214200019836426, 2.2135000228881836, 2.2135000228881836, 2.213399887084961, 2.213200092315674, 2.20989990234375, 2.2091000080108643, 2.2086000442504883, 2.2086000442504883, 2.2081000804901123, 2.2070000171661377, 2.1944000720977783, 2.164599895477295, 2.1840999126434326, 2.197499990463257, 2.176100015640259, 2.163599967956543, 2.0899999141693115, 2.196000099182129, 2.0346999168395996, 2.1224000453948975, 2.1171998977661133, 1.9523999691009521, 2.100399971008301, 1.9778000116348267, 2.067500114440918, 1.906599998474121, 2.0360000133514404, 1.9500000476837158, 1.5776000022888184, 1.6533000469207764, -0.03449999913573265, -0.33719998598098755, 1.382200002670288, 0.8862000107765198, 1.419700026512146, 0.14270000159740448, 0.7645999789237976, 0.6722999811172485, 1.1175999641418457, 0.3619000017642975, 0.37720000743865967, 2.231600046157837, 2.2288999557495117, 2.228600025177002, 2.2276999950408936, 2.2263998985290527, 2.2251999378204346, 2.224299907684326, 2.223099946975708, 2.2223000526428223, 2.2219998836517334, 2.2202000617980957, 2.216200113296509, 2.21589994430542, 2.2158000469207764, 2.215100049972534, 2.214600086212158, 2.214600086212158, 2.2132999897003174, 2.213200092315674, 2.212399959564209, 2.2119998931884766, 2.2119998931884766, 2.211400032043457, 2.211400032043457, 2.211199998855591, 2.2111001014709473, 2.208899974822998, 2.2086000442504883, 2.2070999145507812, 2.2049999237060547, 2.1951000690460205, 2.1979000568389893, 2.189500093460083, 2.178800106048584, 2.1874001026153564, 2.135999917984009, 2.0564000606536865, 2.1967999935150146, 2.1923000812530518, 1.9818999767303467, 2.198899984359741, 2.107300043106079, 1.829300045967102, 1.8558000326156616, 1.6607999801635742, 1.8051999807357788, 1.3938000202178955, 1.319599986076355, 1.9014999866485596, 1.7524000406265259, 0.08179999887943268, 0.043800000101327896, 1.3323999643325806, 1.8866000175476074, 0.9879000186920166, 0.9585000276565552, 0.6358000040054321, 1.128499984741211, 0.47620001435279846, -0.1469999998807907, 0.42309999465942383, 2.2335000038146973, 2.232599973678589, 2.2309000492095947, 2.230799913406372, 2.2297000885009766, 2.2295000553131104, 2.229099988937378, 2.229099988937378, 2.2279999256134033, 2.22760009765625, 2.227299928665161, 2.2265000343322754, 2.226099967956543, 2.224600076675415, 2.2239999771118164, 2.222899913787842, 2.2225000858306885, 2.2209999561309814, 2.2209999561309814, 2.220900058746338, 2.220400094985962, 2.219399929046631, 2.2186999320983887, 2.218100070953369, 2.2177999019622803, 2.216900110244751, 2.214900016784668, 2.214900016784668, 2.212100028991699, 2.2119998931884766, 2.2118000984191895, 2.2060999870300293, 2.210900068283081, 2.1760001182556152, 2.200900077819824, 2.1965999603271484, 2.2070000171661377, 2.157099962234497, 2.0067999362945557, 2.1879000663757324, 1.975100040435791, 2.156100034713745, 2.025700092315674, 2.136199951171875, 2.02239990234375, 1.7782000303268433, 1.958799958229065, 1.926300048828125, -0.24560000002384186, -0.4115000069141388, 1.7253999710083008, 0.2198999971151352, 1.8490999937057495, 0.9894999861717224, -0.04820000007748604, 2.233299970626831, 2.2327001094818115, 2.231800079345703, 2.2314000129699707, 2.2309000492095947, 2.2297000885009766, 2.2295000553131104, 2.229300022125244, 2.228600025177002, 2.22760009765625, 2.2272000312805176, 2.2272000312805176, 2.2269999980926514, 2.226900100708008, 2.2265000343322754, 2.2265000343322754, 2.2260000705718994, 2.2255001068115234, 2.2253000736236572, 2.224600076675415, 2.224299907684326, 2.2242000102996826, 2.223400115966797, 2.223099946975708, 2.22189998626709, 2.2207999229431152, 2.220099925994873, 2.2197000980377197, 2.218400001525879, 2.217900037765503, 2.199399948120117, 2.213599920272827, 2.2177000045776367, 2.216599941253662, 2.2118000984191895, 2.1737000942230225, 2.1714000701904297, 2.213900089263916, 2.158799886703491, 2.1547000408172607, 2.1800999641418457, 2.0703001022338867, 1.9940999746322632, 2.160799980163574, 2.0862998962402344, 2.174999952316284, 1.7883000373840332, 1.2676000595092773, 1.2120000123977661, -0.2712000012397766, 1.416700005531311, 1.4606000185012817, 1.8838000297546387, 0.4681999981403351, 0.40950000286102295, 1.305299997329712, -1.12090003490448, 0.9430000185966492]}, \"token.table\": {\"Topic\": [3, 3, 1, 2, 3, 5, 2, 3, 5, 5, 4, 1, 2, 4, 5, 4, 2, 2, 3, 4, 3, 2, 4, 5, 1, 1, 1, 2, 3, 4, 5, 1, 3, 4, 5, 1, 3, 3, 2, 1, 2, 3, 2, 3, 2, 1, 2, 3, 4, 5, 5, 1, 2, 3, 1, 3, 4, 2, 5, 3, 1, 2, 1, 4, 1, 2, 3, 4, 5, 5, 5, 1, 3, 4, 5, 1, 2, 3, 4, 5, 1, 2, 3, 5, 5, 1, 2, 3, 5, 2, 5, 1, 2, 5, 2, 4, 4, 1, 3, 4, 3, 4, 1, 2, 1, 4, 3, 1, 2, 4, 4, 2, 2, 3, 4, 2, 3, 5, 2, 4, 2, 3, 5, 3, 2, 3, 2, 5, 5, 1, 5, 1, 5, 1, 1, 2, 1, 2, 5, 1, 2, 5, 1, 2, 3, 4, 5, 1, 3, 2, 5, 1, 2, 3, 4, 4, 5, 1, 2, 3, 4, 1, 2, 3, 4, 5, 1, 2, 4, 5, 1, 2, 3, 5, 5, 2, 3, 5, 4, 2, 1, 5, 2, 4, 1, 4, 1, 2, 3, 5, 2, 3, 1, 3, 3, 5, 1, 2, 4, 5, 4, 4, 1, 2, 1, 5, 1, 1, 4, 4, 2, 2, 3, 1, 2, 3, 5, 1, 3, 5, 1, 5, 1, 2, 3, 4, 5, 1, 2, 5, 1, 2, 3, 4, 5, 1, 4, 3, 1, 2, 1, 4, 3, 1, 1, 2, 5, 5, 1, 1, 2, 1, 1, 5, 1, 2, 3, 4, 1, 2, 3, 4, 1, 3, 2, 1, 2, 3, 4, 5, 4, 2, 1, 5, 5, 5, 1, 1, 2, 3, 4, 3, 2, 5, 1, 2, 3, 4, 5, 1, 1, 2, 3, 5, 3, 5, 1, 5, 1, 2, 3, 5, 1, 4, 1, 3, 5, 3, 5, 3, 1, 2, 3, 4, 5, 1, 3, 3, 2, 3, 4, 1, 1, 3, 3, 1, 2, 1, 1, 5, 1, 2, 3, 3, 4, 4, 4, 5, 2, 2, 1, 3, 5, 5, 5, 1, 1, 2, 3, 5, 1, 2, 4, 3, 2, 1, 2, 3, 4, 4, 3, 4, 3, 2, 3, 3, 1, 2, 3, 5, 5, 3, 1, 1, 1, 2, 3, 4, 5, 2, 3, 5, 3, 2, 5, 3, 4, 1, 2, 1, 2, 3, 5, 3, 3, 3, 4, 2, 1, 4, 5, 1, 4, 1, 2, 3, 4, 5, 4, 5, 5, 2, 1, 2, 1, 2, 1, 4, 1, 2, 2, 3, 4, 1, 2, 5, 5, 5, 4, 3, 2, 1, 3, 2, 1, 2, 3, 4, 5, 4, 1, 5, 1, 1, 4, 4, 4, 1, 4], \"Freq\": [1.0120635032653809, 1.015673279762268, 0.9467321038246155, 0.0041890800930559635, 0.025134479627013206, 0.02094539999961853, 0.8880620002746582, 0.11100775003433228, 1.0176488161087036, 0.9638487100601196, 0.946832537651062, 0.8493776321411133, 0.0146444421261549, 0.0146444421261549, 0.1171555370092392, 0.9050577878952026, 0.9774366617202759, 0.013661975972354412, 0.04098592698574066, 0.9426763653755188, 0.9930691719055176, 0.9531855583190918, 1.0207690000534058, 0.8858322501182556, 0.994467556476593, 0.996502161026001, 0.7697585821151733, 0.021089276298880577, 0.08435710519552231, 0.10544637590646744, 0.03163391351699829, 0.03851374238729477, 0.11554122716188431, 0.8087885975837708, 0.03851374238729477, 1.0041123628616333, 1.0305027961730957, 0.9352725744247437, 0.9103940725326538, 0.9140177965164185, 0.050220757722854614, 0.04017660766839981, 1.054778814315796, 1.0259814262390137, 0.8648588061332703, 0.30051931738853455, 0.15025965869426727, 0.4006924331188202, 0.025043277069926262, 0.15025965869426727, 0.9607592225074768, 0.7866475582122803, 0.12530669569969177, 0.09049928188323975, 0.9895675182342529, 0.9681769013404846, 1.083408236503601, 0.9847630262374878, 0.961727499961853, 1.0629256963729858, 0.21944166719913483, 0.7461016774177551, 1.0003457069396973, 1.0329254865646362, 0.7065979838371277, 0.07620174437761307, 0.11170482635498047, 0.0710061714053154, 0.03463715687394142, 0.9436925649642944, 0.9261229038238525, 0.20234894752502441, 0.0168624110519886, 0.7756709456443787, 0.0168624110519886, 0.35174793004989624, 0.16749902069568634, 0.06699960678815842, 0.13399921357631683, 0.26799842715263367, 0.029279939830303192, 0.11711975932121277, 0.6734386086463928, 0.17567963898181915, 0.9498212933540344, 0.5053461194038391, 0.32698866724967957, 0.08917873352766037, 0.08917873352766037, 0.03845113888382912, 0.9612784385681152, 0.44031816720962524, 0.08806362748146057, 0.46967270970344543, 1.000717282295227, 0.9865207672119141, 1.0763697624206543, 0.3145579695701599, 0.6684356927871704, 0.03931974619626999, 0.8859467506408691, 1.0402748584747314, 0.10399436205625534, 0.9359492659568787, 0.9825310111045837, 1.0073124170303345, 1.0838209390640259, 0.1465103179216385, 0.1465103179216385, 0.6592963933944702, 1.086691975593567, 0.994803786277771, 0.7418060302734375, 0.17118600010871887, 0.11412400007247925, 1.0001158714294434, 0.9603371620178223, 0.9891662001609802, 0.8924129009246826, 0.9404829144477844, 1.087272047996521, 0.053391143679618835, 0.9076494574546814, 1.1067306995391846, 0.9222642779350281, 0.06916981935501099, 0.21404677629470825, 0.7903265357017517, 1.015366792678833, 1.000788927078247, 1.008651852607727, 1.0042297840118408, 0.9823652505874634, 0.9998039603233337, 0.9476811289787292, 0.05923007056117058, 0.07636816799640656, 0.9164180159568787, 1.0212080478668213, 0.501306414604187, 0.42418235540390015, 0.03856203332543373, 0.11385761946439743, 0.03795253857970238, 0.6831457018852234, 0.03795253857970238, 0.1518101543188095, 0.24340590834617615, 0.730217695236206, 0.9252028465270996, 1.0166912078857422, 0.03526296466588974, 0.03526296466588974, 0.7757852077484131, 0.14105185866355896, 1.0096704959869385, 0.9757806062698364, 0.9344111084938049, 0.06147441640496254, 0.20292241871356964, 0.798161506652832, 0.162845641374588, 0.10856375843286514, 0.5971006751060486, 0.05428187921643257, 0.10856375843286514, 1.0065339803695679, 1.073849081993103, 0.9771152138710022, 0.9333362579345703, 0.5696936249732971, 0.029983874410390854, 0.3298225998878479, 0.05996774882078171, 0.9332411885261536, 0.7854534983634949, 0.07140486687421799, 0.21421459317207336, 0.9978259205818176, 1.0690110921859741, 1.0227108001708984, 0.9790931344032288, 1.0737528800964355, 1.0040080547332764, 0.984666109085083, 0.015385407954454422, 0.5879956483840942, 0.23163464665412903, 0.16036245226860046, 0.01781805045902729, 1.064470887184143, 0.9469199180603027, 0.12999634444713593, 0.9099743962287903, 1.0062013864517212, 0.9094369411468506, 0.18972450494766235, 0.8537602424621582, 0.9296956658363342, 0.08451778441667557, 1.0233118534088135, 1.1056209802627563, 0.9756428599357605, 0.9544464945793152, 0.8316341042518616, 0.16748186945915222, 0.999560534954071, 0.9997684955596924, 0.9730774164199829, 0.9897273182868958, 0.9421319365501404, 1.0930416584014893, 1.0626505613327026, 0.34854716062545776, 0.5576754808425903, 0.034854717552661896, 0.06970943510532379, 0.1964593529701233, 0.06548645347356796, 0.720350980758667, 0.08458118140697479, 0.9303929805755615, 0.3553614616394043, 0.06580767780542374, 0.1710999757051468, 0.03948460891842842, 0.3553614616394043, 0.9887667298316956, 0.004189689643681049, 0.004189689643681049, 0.6153640747070312, 0.1033925786614418, 0.11622751504182816, 0.08342711627483368, 0.08128795772790909, 0.10967247188091278, 0.8773797750473022, 0.9443662166595459, 0.9953192472457886, 0.9525177478790283, 0.20199279487133026, 0.807971179485321, 0.9709605574607849, 0.9823352694511414, 0.4841008484363556, 0.08068347722291946, 0.4303118586540222, 0.9979836940765381, 0.9984170198440552, 0.8377283811569214, 0.15707406401634216, 0.991554856300354, 1.0153868198394775, 0.9919781684875488, 0.04114645719528198, 0.8229291439056396, 0.16458582878112793, 1.0290110111236572, 1.0021626949310303, 1.0041157007217407, 0.18829652667045593, 0.7531861066818237, 0.9913547039031982, 1.0205988883972168, 0.9154770970344543, 0.22390271723270416, 0.03198610246181488, 0.09595830738544464, 0.6397220492362976, 0.03198610246181488, 0.9735653400421143, 1.0208215713500977, 0.05241933465003967, 0.9435480237007141, 0.9928083419799805, 1.0245447158813477, 1.0009465217590332, 0.37698400020599365, 0.045238081365823746, 0.5579363107681274, 0.015079360455274582, 0.9785164594650269, 1.001194953918457, 0.9653621315956116, 0.19139865040779114, 0.437482625246048, 0.027342664077878, 0.3007693290710449, 0.054685328155756, 0.9947964549064636, 0.7474852800369263, 0.02931314893066883, 0.16122232377529144, 0.05862629786133766, 0.9180513620376587, 1.031211256980896, 0.9690167903900146, 0.9149200320243835, 0.6571282744407654, 0.03865460678935051, 0.2899095416069031, 0.019327303394675255, 1.0047301054000854, 1.0538454055786133, 0.9906705617904663, 0.007739613763988018, 1.0136321783065796, 0.9177517294883728, 0.9439008831977844, 0.9627320766448975, 0.256734699010849, 0.021394556388258934, 0.4278911352157593, 0.13549886643886566, 0.1640249341726303, 0.9958857297897339, 0.9625568985939026, 0.8454100489616394, 0.8440626859664917, 0.10550783574581146, 1.007123589515686, 1.0087692737579346, 0.06986469030380249, 0.9082409143447876, 0.8562192916870117, 0.07211624085903168, 0.937511146068573, 0.990220308303833, 0.9537331461906433, 0.049759987741708755, 0.19243119657039642, 0.7697247862815857, 1.0561022758483887, 0.19896219670772552, 0.7295280694961548, 0.8746443390846252, 0.9839802980422974, 1.0438485145568848, 1.0092172622680664, 0.9635997414588928, 1.0006877183914185, 0.14521858096122742, 0.8422678112983704, 0.9307824969291687, 0.9723305106163025, 0.9836781024932861, 0.10600708425045013, 0.21201416850090027, 0.03533569350838661, 0.6360425353050232, 0.985732913017273, 0.8039218783378601, 0.10049023479223251, 0.9162823557853699, 0.9223656058311462, 0.04131524637341499, 0.8676201701164246, 0.04131524637341499, 0.9841845035552979, 1.0681965351104736, 1.1134368181228638, 0.9744178652763367, 1.0023950338363647, 0.9447757005691528, 0.9648805856704712, 1.0833652019500732, 0.08417000621557236, 0.505020022392273, 0.028056668117642403, 0.39279335737228394, 0.960163950920105, 0.9380974173545837, 1.0175228118896484, 1.028550148010254, 0.4429619014263153, 0.05962948501110077, 0.40036940574645996, 0.02555549331009388, 0.06814798712730408, 0.22659461200237274, 0.679783821105957, 0.9995662569999695, 0.935172975063324, 0.14505816996097565, 0.8703489899635315, 0.9964978098869324, 1.0335010290145874, 0.7250930666923523, 0.2529394328594208, 0.8971648812294006, 0.07734180241823196, 0.015468359924852848, 0.015468359924852848, 0.8788765668869019, 0.9805604815483093, 0.9966704249382019, 0.9712419509887695, 0.9681879878044128, 0.15623800456523895, 0.6249520182609558, 0.26039668917655945, 0.9944378733634949, 0.9451486468315125, 0.4749971926212311, 0.04999970272183418, 0.08749948441982269, 0.012499925680458546, 0.3749977946281433, 0.05752483382821083, 0.9491597414016724, 0.930418848991394, 0.9836070537567139, 0.8439906239509583, 0.1511625051498413, 1.004709243774414, 1.0098057985305786, 0.9843327403068542, 0.9898197054862976, 1.0070602893829346, 0.9421296119689941, 0.09514089673757553, 0.8324828743934631, 0.0713556706905365, 1.0174940824508667, 0.993399441242218, 1.088658094406128, 0.9932722449302673, 1.1145058870315552, 0.9798080325126648, 0.9527678489685059, 0.9655648469924927, 0.9873916506767273, 0.014737188816070557, 0.8852733373641968, 0.352683961391449, 0.1113738864660263, 0.27843472361564636, 0.16706082224845886, 0.09281156957149506, 0.9895767569541931, 0.060464270412921906, 0.9069640636444092, 0.9958957433700562, 0.9785661101341248, 1.0347529649734497, 0.9284156560897827, 0.9495607018470764, 0.9870874881744385, 1.0007599592208862], \"Term\": [\"\\\"donald\", \"\\\"the\", \"&amp;\", \"&amp;\", \"&amp;\", \"&amp;\", \"--\", \"--\", \"100\", \"@catturd2:\", \"@cnnpolitics:\", \"@donaldjtrumpjr:\", \"@donaldjtrumpjr:\", \"@donaldjtrumpjr:\", \"@donaldjtrumpjr:\", \"@funder:\", \"@gop:\", \"@gopchairwoman:\", \"@gopchairwoman:\", \"@gopchairwoman:\", \"@jennaellisesq:\", \"@joncoopertweets:\", \"@kayleighmcenany:\", \"@mitchellvii:\", \"@mmpadellan:\", \"@no_silenced:\", \"@realdonaldtrump\", \"@realdonaldtrump\", \"@realdonaldtrump\", \"@realdonaldtrump\", \"@realdonaldtrump\", \"@realdonaldtrump:\", \"@realdonaldtrump:\", \"@realdonaldtrump:\", \"@realdonaldtrump:\", \"@realminiaoc:\", \"@steveguest:\", \"@teamtrump:\", \"@timrunshismouth:\", \"@trumpwarroom:\", \"@trumpwarroom:\", \"@trumpwarroom:\", \"able\", \"ad\", \"aga\\u2026\", \"america\", \"america\", \"america\", \"america\", \"america\", \"america.\", \"american\", \"american\", \"american\", \"and\\u2026\", \"anything\", \"appears\", \"april\", \"around\", \"article.\", \"back\", \"back\", \"barack\", \"becomes\", \"biden\", \"biden\", \"biden\", \"biden\", \"biden\", \"biden!\", \"biden\\\"\", \"biden's\", \"biden's\", \"biden's\", \"biden's\", \"biden,\", \"biden,\", \"biden,\", \"biden,\", \"biden,\", \"biden.\", \"biden.\", \"biden.\", \"biden.\", \"biden?\", \"biden\\u2019s\", \"biden\\u2019s\", \"biden\\u2019s\", \"biden\\u2019s\", \"bide\\u2026\", \"bide\\u2026\", \"black\", \"black\", \"black\", \"body\", \"breaking:\", \"breathed\", \"campaign\", \"campaign\", \"campaign\", \"candidate\", \"cannot\", \"can\\u2019t\", \"can\\u2019t\", \"care\", \"catastrophic\", \"chair\", \"china\", \"china\", \"china\", \"chinese\", \"chris\", \"come\", \"come\", \"come\", \"competent\", \"confused\", \"control\", \"conversation\", \"coronavirus\", \"corrupt\", \"could\", \"could\", \"crazy\", \"create\", \"create\", \"created\", \"created\", \"crow\", \"cut\", \"damage\", \"dc\", \"debate\", \"defund\", \"democrat\", \"democrat\", \"dems\", \"dems\", \"department\", \"doesn\\u2019t\", \"doesn\\u2019t\", \"doesn\\u2019t\", \"donald\", \"donald\", \"donald\", \"donald\", \"donald\", \"don\\u2019t\", \"don\\u2019t\", \"elected\", \"electing\", \"election\", \"election\", \"election\", \"election\", \"end\", \"endorsed\", \"even\", \"even\", \"ever\", \"ever\", \"every\", \"every\", \"every\", \"every\", \"every\", \"excited\", \"e\\u2026\", \"face\", \"fact\", \"first\", \"first\", \"first\", \"first\", \"florida\", \"foreign\", \"foreign\", \"foreign\", \"four\", \"friends\", \"funding\", \"gave\", \"george\", \"give\", \"go\", \"go\", \"going\", \"going\", \"going\", \"going\", \"gonna\", \"good\", \"gop\", \"gop\", \"got\", \"great\", \"he's\", \"he's\", \"help\", \"help\", \"hold\", \"hollywood\", \"horse\", \"house\", \"hunter\", \"hunter\", \"h\\u2026\", \"ilhan\", \"imagine\", \"information\", \"interview\", \"is.\", \"isn\\u2019t\", \"it\\u2019s\", \"it\\u2019s\", \"it\\u2019s\", \"it\\u2019s\", \"i\\u2026\", \"i\\u2026\", \"i\\u2026\", \"jim\", \"jim\", \"jobs\", \"jobs\", \"jobs\", \"jobs\", \"jobs\", \"jobs.\", \"jobs.\", \"jobs.\", \"joe\", \"joe\", \"joe\", \"joe\", \"joe\", \"joe\\u2019s\", \"joe\\u2019s\", \"john\", \"join\", \"kamala\", \"keep\", \"keep\", \"kick\", \"kkk\", \"know\", \"know\", \"know\", \"knows\", \"leader\", \"leader.\", \"leader.\", \"left,\", \"left-wing\", \"left.\", \"liberals\", \"liberals\", \"liberals\", \"lifelong\", \"long\", \"lose\", \"made\", \"made\", \"mail\", \"mail-in\", \"major\", \"make\", \"make\", \"make\", \"make\", \"make\", \"mate.\", \"material\", \"meant\", \"meant\", \"mike\", \"million\", \"national\", \"need\", \"need\", \"need\", \"need\", \"news:\", \"nothing\", \"november.\", \"nunes\", \"nunes\", \"nunes\", \"nunes\", \"nunes\", \"omar's\", \"one\", \"one\", \"one\", \"one\", \"package\", \"party.\", \"pay\", \"pennsylvania\", \"people\", \"people\", \"people\", \"people\", \"personal\", \"place\", \"police\", \"police\", \"political\", \"poll\", \"pompeo\", \"present\", \"president\", \"president\", \"president\", \"president\", \"president\", \"president,\", \"president.\", \"press\", \"pro-russian\", \"pro-russian\", \"protecting\", \"protesters.\\u201d\", \"proven\", \"proven\", \"pulled\", \"puppet\", \"puppet\", \"question\", \"radical\", \"radical\", \"read\", \"read\", \"realize\", \"really\", \"really\", \"receive\", \"received\", \"records\", \"refuse\", \"refuses\", \"rep.\", \"rest\", \"rest\", \"retweet\", \"safe\", \"safety,\", \"say\", \"say\", \"say\", \"say\", \"schools\", \"sean\", \"sean\", \"secretary\", \"seen\", \"sees\", \"sees\", \"sees\", \"sent\", \"set\", \"shows\", \"sleepy\", \"speak\", \"supposed\", \"swamp\", \"them.\", \"think\", \"think\", \"think\", \"think\", \"three\", \"today\", \"today.\", \"trojan\", \"trump\", \"trump\", \"trump\", \"trump\", \"trump\", \"trump's\", \"trump's\", \"trump.\", \"trump:\", \"trust\", \"trust\", \"try\", \"tucker\", \"tweeting\", \"tweeting\", \"t\\u2026\", \"t\\u2026\", \"t\\u2026\", \"t\\u2026\", \"u.s.\", \"ukrainian\", \"union\", \"united\", \"use\", \"via\", \"via\", \"via\", \"vice\", \"video\", \"vote\", \"vote\", \"vote\", \"vote\", \"vote\", \"voting\", \"voting\", \"wake\", \"wallace\", \"want\", \"want\", \"wants\", \"warning\", \"watch:\", \"way\", \"we're\", \"week\", \"went\", \"went\", \"went\", \"what\\u2019s\", \"whether\", \"why?\", \"win\", \"woman\", \"wonder\", \"workers\", \"working\", \"world\", \"world\", \"worst\", \"would\", \"would\", \"would\", \"would\", \"would\", \"would\\u2026\", \"writing\", \"writing\", \"w\\u2026\", \"y'all\", \"yet\", \"\\u2013\", \"\\u201ci\", \"\\u201cpeaceful\", \"\\ud83e\\udd14\"]}, \"R\": 30, \"lambda.step\": 0.01, \"plot.opts\": {\"xlab\": \"PC1\", \"ylab\": \"PC2\"}, \"topic.order\": [1, 3, 2, 4, 5]};\n",
       "\n",
       "function LDAvis_load_lib(url, callback){\n",
       "  var s = document.createElement('script');\n",
       "  s.src = url;\n",
       "  s.async = true;\n",
       "  s.onreadystatechange = s.onload = callback;\n",
       "  s.onerror = function(){console.warn(\"failed to load library \" + url);};\n",
       "  document.getElementsByTagName(\"head\")[0].appendChild(s);\n",
       "}\n",
       "\n",
       "if(typeof(LDAvis) !== \"undefined\"){\n",
       "   // already loaded: just create the visualization\n",
       "   !function(LDAvis){\n",
       "       new LDAvis(\"#\" + \"ldavis_el390281406837309226244090154365\", ldavis_el390281406837309226244090154365_data);\n",
       "   }(LDAvis);\n",
       "}else if(typeof define === \"function\" && define.amd){\n",
       "   // require.js is available: use it to load d3/LDAvis\n",
       "   require.config({paths: {d3: \"https://cdnjs.cloudflare.com/ajax/libs/d3/3.5.5/d3.min\"}});\n",
       "   require([\"d3\"], function(d3){\n",
       "      window.d3 = d3;\n",
       "      LDAvis_load_lib(\"https://cdn.rawgit.com/bmabey/pyLDAvis/files/ldavis.v1.0.0.js\", function(){\n",
       "        new LDAvis(\"#\" + \"ldavis_el390281406837309226244090154365\", ldavis_el390281406837309226244090154365_data);\n",
       "      });\n",
       "    });\n",
       "}else{\n",
       "    // require.js not available: dynamically load d3 & LDAvis\n",
       "    LDAvis_load_lib(\"https://cdnjs.cloudflare.com/ajax/libs/d3/3.5.5/d3.min.js\", function(){\n",
       "         LDAvis_load_lib(\"https://cdn.rawgit.com/bmabey/pyLDAvis/files/ldavis.v1.0.0.js\", function(){\n",
       "                 new LDAvis(\"#\" + \"ldavis_el390281406837309226244090154365\", ldavis_el390281406837309226244090154365_data);\n",
       "            })\n",
       "         });\n",
       "}\n",
       "</script>"
      ],
      "text/plain": [
       "PreparedData(topic_coordinates=                x           y  topics  cluster       Freq\n",
       "topic                                                    \n",
       "0      150.222153  -72.269554       1        1  57.239334\n",
       "2       51.163364 -159.968018       2        1  10.714059\n",
       "1      -73.144554   21.523815       3        1  10.698082\n",
       "3      -66.410133 -110.606438       4        1  10.683521\n",
       "4       54.417324   12.443444       5        1  10.664999, topic_info=                 Term         Freq        Total Category  logprob  loglift\n",
       "9                 joe  1402.000000  1402.000000  Default  30.0000  30.0000\n",
       "3               biden  1154.000000  1154.000000  Default  29.0000  29.0000\n",
       "4159            bide…   104.000000   104.000000  Default  28.0000  28.0000\n",
       "307   @gopchairwoman:    73.000000    73.000000  Default  27.0000  27.0000\n",
       "68          president   140.000000   140.000000  Default  26.0000  26.0000\n",
       "...               ...          ...          ...      ...      ...      ...\n",
       "362            hunter    29.493683   173.153076   Topic5  -4.3554   0.4682\n",
       "68          president    22.523403   140.222580   Topic5  -4.6250   0.4095\n",
       "304             think    14.021976    35.642151   Topic5  -5.0990   1.3053\n",
       "3               biden    40.150871  1154.829224   Topic5  -4.0469  -1.1209\n",
       "468            biden,    16.348984    59.701843   Topic5  -4.9454   0.9430\n",
       "\n",
       "[325 rows x 6 columns], token_table=       Topic      Freq       Term\n",
       "term                             \n",
       "4516       3  1.012064    \"donald\n",
       "3423       3  1.015673       \"the\n",
       "168        1  0.946732      &amp;\n",
       "168        2  0.004189      &amp;\n",
       "168        3  0.025134      &amp;\n",
       "...      ...       ...        ...\n",
       "505        4  1.034753        yet\n",
       "436        4  0.928416          –\n",
       "3611       4  0.949561         “i\n",
       "13312      1  0.987087  “peaceful\n",
       "1059       4  1.000760          🤔\n",
       "\n",
       "[449 rows x 3 columns], R=30, lambda_step=0.01, plot_opts={'xlab': 'PC1', 'ylab': 'PC2'}, topic_order=[1, 3, 2, 4, 5])"
      ]
     },
     "execution_count": 62,
     "metadata": {},
     "output_type": "execute_result"
    }
   ],
   "source": [
    "pyLDAvis.enable_notebook()\n",
    "panel = pyLDAvis.gensim.prepare(lda, corpus_lda, dictionary, mds='tsne')\n",
    "panel"
   ]
  },
  {
   "cell_type": "code",
   "execution_count": null,
   "metadata": {
    "pycharm": {
     "name": "#%%\n"
    }
   },
   "outputs": [],
   "source": [
    "\n"
   ]
  },
  {
   "cell_type": "code",
   "execution_count": null,
   "outputs": [],
   "source": [],
   "metadata": {
    "collapsed": false,
    "pycharm": {
     "name": "#%%\n"
    }
   }
  },
  {
   "cell_type": "code",
   "execution_count": null,
   "metadata": {},
   "outputs": [],
   "source": []
  },
  {
   "cell_type": "code",
   "execution_count": null,
   "metadata": {},
   "outputs": [],
   "source": []
  }
 ],
 "metadata": {
  "kernelspec": {
   "display_name": "Python 3",
   "language": "python",
   "name": "python3"
  },
  "language_info": {
   "codemirror_mode": {
    "name": "ipython",
    "version": 3
   },
   "file_extension": ".py",
   "mimetype": "text/x-python",
   "name": "python",
   "nbconvert_exporter": "python",
   "pygments_lexer": "ipython3",
   "version": "3.8.2"
  }
 },
 "nbformat": 4,
 "nbformat_minor": 4
}