{
 "cells": [
  {
   "cell_type": "code",
   "execution_count": 110,
   "metadata": {
    "pycharm": {
     "name": "#%%from textblob import TextBlob\n"
    }
   },
   "outputs": [
    {
     "name": "stderr",
     "output_type": "stream",
     "text": [
      "<ipython-input-110-6ceb6393683c>:28: SettingWithCopyWarning: \n",
      "A value is trying to be set on a copy of a slice from a DataFrame.\n",
      "Try using .loc[row_indexer,col_indexer] = value instead\n",
      "\n",
      "See the caveats in the documentation: https://pandas.pydata.org/pandas-docs/stable/user_guide/indexing.html#returning-a-view-versus-a-copy\n",
      "  df['text'] = df['text'].apply(clean_tweet)\n",
      "/home/davide/.virtualenvs/sentiment_trump_biden/lib/python3.8/site-packages/pandas/core/frame.py:3990: SettingWithCopyWarning: \n",
      "A value is trying to be set on a copy of a slice from a DataFrame\n",
      "\n",
      "See the caveats in the documentation: https://pandas.pydata.org/pandas-docs/stable/user_guide/indexing.html#returning-a-view-versus-a-copy\n",
      "  return super().drop(\n"
     ]
    }
   ],
   "source": [
    "import pandas as pd\n",
    "import re\n",
    "from sklearn.feature_extraction.text import CountVectorizer\n",
    "from textblob import TextBlob\n",
    "import nltk\n",
    "from nltk.corpus import stopwords\n",
    "import ast \n",
    "import matplotlib.pyplot as plt\n",
    "import seaborn as sns\n",
    "import json\n",
    "import datetime \n",
    "from datetime import datetime as dt\n",
    "df_trump=pd.read_csv(\"tweets_donald_trump.csv\",sep=\",\")\n",
    "df_biden=pd.read_csv(\"tweets_joe_biden.csv\",sep=\",\")\n",
    "df_trump=df_trump.dropna(thresh=2)                            \n",
    "df_biden=df_biden.dropna(thresh=2)                            \n",
    "\n",
    "\n",
    "# df_biden.columns = ['','text','sentiment','name','location','verified','retweet','date tweet']\n",
    "\n",
    "\n",
    "def clean_tweet(tweet): \n",
    "       return ' '.join(re.sub(\"(@[A-Za-z0-9]+)|([^0-9A-Za-z \\t]) |(\\w+:\\/\\/\\S+)\", \" \", tweet).split()) \n",
    "\n",
    "\n",
    "def prepr(df):\n",
    "    df=df[df['text']!=\"text\"]\n",
    "    df['text'] = df['text'].apply(clean_tweet)\n",
    "    df.drop(df.columns[7:], axis=1, inplace=True)\n",
    "    df=df.loc[2:]\n",
    "    df=df.dropna(thresh=3)\n",
    "    df=df[df['sentiment'].str.startswith('{')]\n",
    "    df['sentiment']=df['sentiment'].apply(ast.literal_eval)\n",
    "    df=pd.concat([df.drop(['sentiment'], axis=1), df['sentiment'].apply(pd.Series)], axis=1)\n",
    "    return df \n",
    "    \n",
    "df_trump=prepr(df_trump)\n",
    "df_biden=prepr(df_biden)\n"
   ]
  },
  {
   "cell_type": "code",
   "execution_count": 111,
   "metadata": {
    "pycharm": {
     "is_executing": true
    }
   },
   "outputs": [],
   "source": [
    "# import string \n",
    "# df_trump=df_trump[df_trump['sentiment'].str.startswith('{')]\n"
   ]
  },
  {
   "cell_type": "code",
   "execution_count": 112,
   "metadata": {
    "pycharm": {
     "is_executing": true
    }
   },
   "outputs": [],
   "source": [
    "def clean_tweet(tweet): \n",
    "       return ' '.join(re.sub(\"(@[A-Za-z0-9]+)|([^0-9A-Za-z \\t]) |(\\w+:\\/\\/\\S+)\", \" \", tweet).split()) \n",
    "    \n",
    "def prepr_df(df):\n",
    "    df=df[df['text']!=\"text\"]\n",
    "    df['text'] = df['text'].apply(clean_tweet)\n",
    "    df['sentiment']=df['sentiment'].apply(ast.literal_eval)\n",
    "    df=pd.concat([df.drop(['sentiment'], axis=1), df['sentiment'].apply(pd.Series)], axis=1)\n",
    "    return df"
   ]
  },
  {
   "cell_type": "code",
   "execution_count": 113,
   "metadata": {
    "pycharm": {
     "is_executing": true
    }
   },
   "outputs": [],
   "source": [
    "# df_biden=df_biden[df_biden['text']!=\"text\"]\n"
   ]
  },
  {
   "cell_type": "code",
   "execution_count": null,
   "metadata": {
    "pycharm": {
     "is_executing": true
    }
   },
   "outputs": [],
   "source": []
  },
  {
   "cell_type": "code",
   "execution_count": 114,
   "metadata": {
    "pycharm": {
     "is_executing": true
    }
   },
   "outputs": [],
   "source": [
    "# # picking positive tweets from tweets \n",
    "# df_biden.groupby('sign').size()/df['sign'].count()*100   \n",
    "# df_biden.to_csv('tweets_biden.csv', index = True)"
   ]
  },
  {
   "cell_type": "code",
   "execution_count": 115,
   "metadata": {
    "pycharm": {
     "is_executing": true
    }
   },
   "outputs": [],
   "source": [
    "df_biden['candidato'] = 'Joe Biden'\n",
    "df_trump['candidato'] = 'Donald Trump'\n"
   ]
  },
  {
   "cell_type": "code",
   "execution_count": 116,
   "metadata": {
    "pycharm": {
     "is_executing": true
    }
   },
   "outputs": [],
   "source": [
    "a=pd.DataFrame(df_biden.groupby('sign').size()/df_biden['sign'].count()*100)\n",
    "# \n"
   ]
  },
  {
   "cell_type": "code",
   "execution_count": 117,
   "metadata": {
    "pycharm": {
     "is_executing": true
    }
   },
   "outputs": [],
   "source": [
    "a['trump']=df_trump.groupby('sign').size()/df_trump['sign'].count()*100   \n"
   ]
  },
  {
   "cell_type": "code",
   "execution_count": 118,
   "metadata": {
    "pycharm": {
     "is_executing": true
    }
   },
   "outputs": [],
   "source": [
    "a.columns=['biden','trump']\n",
    "a.to_csv('data_for_pie.csv')\n",
    "# a = a.drop(a.columns[[0]], axis=1)  # df.columns is zero-based pd.Index \n",
    "# a"
   ]
  },
  {
   "cell_type": "code",
   "execution_count": null,
   "metadata": {
    "pycharm": {
     "is_executing": true,
     "name": "#%%\n"
    }
   },
   "outputs": [],
   "source": []
  },
  {
   "cell_type": "code",
   "execution_count": 119,
   "metadata": {
    "pycharm": {
     "is_executing": true
    }
   },
   "outputs": [],
   "source": [
    "df=pd.concat([df_trump, df_biden], ignore_index=True)"
   ]
  },
  {
   "cell_type": "code",
   "execution_count": null,
   "metadata": {
    "pycharm": {
     "is_executing": true
    }
   },
   "outputs": [],
   "source": []
  },
  {
   "cell_type": "code",
   "execution_count": 120,
   "metadata": {
    "pycharm": {
     "is_executing": true
    }
   },
   "outputs": [],
   "source": [
    "\n",
    "# df['date tweet'] = pd.to_datetime(df['date tweet'])\n",
    "# df['new_date_column'] = df['date tweet'].dt.date\n",
    "df['new_date_column'] = pd.to_datetime(df['date tweet'],errors='coerce').dt.date\n",
    "# df['Date'] = pd.to_datetime(df['Date'], errors='coerce')"
   ]
  },
  {
   "cell_type": "code",
   "execution_count": 121,
   "metadata": {
    "pycharm": {
     "is_executing": true
    }
   },
   "outputs": [],
   "source": [
    "g = df.groupby([\"candidato\", \"new_date_column\"])"
   ]
  },
  {
   "cell_type": "code",
   "execution_count": 122,
   "metadata": {
    "pycharm": {
     "is_executing": true
    }
   },
   "outputs": [],
   "source": [
    "import numpy as np\n",
    "daily_averages = g.aggregate({\"polarity\":np.mean})"
   ]
  },
  {
   "cell_type": "code",
   "execution_count": 123,
   "metadata": {
    "pycharm": {
     "is_executing": true
    }
   },
   "outputs": [],
   "source": [
    "daily_averages=pd.DataFrame(daily_averages)\n",
    "daily_averages.to_csv('media_polarity.csv', index = True)"
   ]
  },
  {
   "cell_type": "code",
   "execution_count": 124,
   "metadata": {
    "pycharm": {
     "is_executing": true
    }
   },
   "outputs": [],
   "source": [
    "df=pd.read_csv(\"media_polarity.csv\")\n"
   ]
  },
  {
   "cell_type": "code",
   "execution_count": 125,
   "metadata": {
    "pycharm": {
     "is_executing": true
    }
   },
   "outputs": [],
   "source": [
    "df=df.pivot(index='new_date_column', columns='candidato', values='polarity')"
   ]
  },
  {
   "cell_type": "code",
   "execution_count": 126,
   "metadata": {
    "pycharm": {
     "is_executing": true
    }
   },
   "outputs": [],
   "source": [
    "df = df.iloc[1:]\n",
    "df.to_csv('media_polarity.csv', index = True)\n",
    "\n"
   ]
  },
  {
   "cell_type": "code",
   "execution_count": 127,
   "metadata": {
    "pycharm": {
     "is_executing": true
    }
   },
   "outputs": [],
   "source": [
    "df=pd.read_csv(\"media_polarity.csv\")\n"
   ]
  },
  {
   "cell_type": "code",
   "execution_count": 128,
   "metadata": {
    "pycharm": {
     "is_executing": true
    }
   },
   "outputs": [
    {
     "data": {
      "text/html": [
       "<div>\n",
       "<style scoped>\n",
       "    .dataframe tbody tr th:only-of-type {\n",
       "        vertical-align: middle;\n",
       "    }\n",
       "\n",
       "    .dataframe tbody tr th {\n",
       "        vertical-align: top;\n",
       "    }\n",
       "\n",
       "    .dataframe thead th {\n",
       "        text-align: right;\n",
       "    }\n",
       "</style>\n",
       "<table border=\"1\" class=\"dataframe\">\n",
       "  <thead>\n",
       "    <tr style=\"text-align: right;\">\n",
       "      <th></th>\n",
       "      <th>new_date_column</th>\n",
       "      <th>Donald Trump</th>\n",
       "      <th>Joe Biden</th>\n",
       "    </tr>\n",
       "  </thead>\n",
       "  <tbody>\n",
       "    <tr>\n",
       "      <th>0</th>\n",
       "      <td>2020-07-12</td>\n",
       "      <td>0.035279</td>\n",
       "      <td>0.028989</td>\n",
       "    </tr>\n",
       "    <tr>\n",
       "      <th>1</th>\n",
       "      <td>2020-07-13</td>\n",
       "      <td>0.005570</td>\n",
       "      <td>0.121669</td>\n",
       "    </tr>\n",
       "    <tr>\n",
       "      <th>2</th>\n",
       "      <td>2020-07-14</td>\n",
       "      <td>0.019764</td>\n",
       "      <td>0.076297</td>\n",
       "    </tr>\n",
       "    <tr>\n",
       "      <th>3</th>\n",
       "      <td>2020-07-15</td>\n",
       "      <td>0.020163</td>\n",
       "      <td>0.030099</td>\n",
       "    </tr>\n",
       "    <tr>\n",
       "      <th>4</th>\n",
       "      <td>2020-07-18</td>\n",
       "      <td>0.027876</td>\n",
       "      <td>0.082130</td>\n",
       "    </tr>\n",
       "    <tr>\n",
       "      <th>5</th>\n",
       "      <td>2020-07-19</td>\n",
       "      <td>0.092829</td>\n",
       "      <td>0.082654</td>\n",
       "    </tr>\n",
       "    <tr>\n",
       "      <th>6</th>\n",
       "      <td>2020-07-20</td>\n",
       "      <td>-0.028699</td>\n",
       "      <td>0.144445</td>\n",
       "    </tr>\n",
       "    <tr>\n",
       "      <th>7</th>\n",
       "      <td>2020-07-21</td>\n",
       "      <td>0.045359</td>\n",
       "      <td>0.072526</td>\n",
       "    </tr>\n",
       "    <tr>\n",
       "      <th>8</th>\n",
       "      <td>2020-07-22</td>\n",
       "      <td>0.054454</td>\n",
       "      <td>-0.019329</td>\n",
       "    </tr>\n",
       "    <tr>\n",
       "      <th>9</th>\n",
       "      <td>2020-07-23</td>\n",
       "      <td>0.049804</td>\n",
       "      <td>0.073473</td>\n",
       "    </tr>\n",
       "    <tr>\n",
       "      <th>10</th>\n",
       "      <td>2020-07-24</td>\n",
       "      <td>0.067248</td>\n",
       "      <td>0.102774</td>\n",
       "    </tr>\n",
       "    <tr>\n",
       "      <th>11</th>\n",
       "      <td>2020-07-25</td>\n",
       "      <td>0.064810</td>\n",
       "      <td>0.045631</td>\n",
       "    </tr>\n",
       "    <tr>\n",
       "      <th>12</th>\n",
       "      <td>2020-07-27</td>\n",
       "      <td>0.000232</td>\n",
       "      <td>0.036802</td>\n",
       "    </tr>\n",
       "    <tr>\n",
       "      <th>13</th>\n",
       "      <td>2020-07-28</td>\n",
       "      <td>0.024645</td>\n",
       "      <td>0.053352</td>\n",
       "    </tr>\n",
       "    <tr>\n",
       "      <th>14</th>\n",
       "      <td>2020-07-30</td>\n",
       "      <td>0.001956</td>\n",
       "      <td>-0.007719</td>\n",
       "    </tr>\n",
       "    <tr>\n",
       "      <th>15</th>\n",
       "      <td>2020-07-31</td>\n",
       "      <td>0.064324</td>\n",
       "      <td>0.050042</td>\n",
       "    </tr>\n",
       "  </tbody>\n",
       "</table>\n",
       "</div>"
      ],
      "text/plain": [
       "   new_date_column  Donald Trump  Joe Biden\n",
       "0       2020-07-12      0.035279   0.028989\n",
       "1       2020-07-13      0.005570   0.121669\n",
       "2       2020-07-14      0.019764   0.076297\n",
       "3       2020-07-15      0.020163   0.030099\n",
       "4       2020-07-18      0.027876   0.082130\n",
       "5       2020-07-19      0.092829   0.082654\n",
       "6       2020-07-20     -0.028699   0.144445\n",
       "7       2020-07-21      0.045359   0.072526\n",
       "8       2020-07-22      0.054454  -0.019329\n",
       "9       2020-07-23      0.049804   0.073473\n",
       "10      2020-07-24      0.067248   0.102774\n",
       "11      2020-07-25      0.064810   0.045631\n",
       "12      2020-07-27      0.000232   0.036802\n",
       "13      2020-07-28      0.024645   0.053352\n",
       "14      2020-07-30      0.001956  -0.007719\n",
       "15      2020-07-31      0.064324   0.050042"
      ]
     },
     "execution_count": 128,
     "metadata": {},
     "output_type": "execute_result"
    }
   ],
   "source": [
    "df"
   ]
  },
  {
   "cell_type": "code",
   "execution_count": null,
   "metadata": {
    "pycharm": {
     "is_executing": true
    }
   },
   "outputs": [],
   "source": []
  }
 ],
 "metadata": {
  "kernelspec": {
   "display_name": "Python 3",
   "language": "python",
   "name": "python3"
  },
  "language_info": {
   "codemirror_mode": {
    "name": "ipython",
    "version": 3
   },
   "file_extension": ".py",
   "mimetype": "text/x-python",
   "name": "python",
   "nbconvert_exporter": "python",
   "pygments_lexer": "ipython3",
   "version": "3.8.2"
  }
 },
 "nbformat": 4,
 "nbformat_minor": 1
}
