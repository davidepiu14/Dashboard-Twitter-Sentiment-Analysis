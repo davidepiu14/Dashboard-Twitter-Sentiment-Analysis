{
 "cells": [
  {
   "cell_type": "code",
   "execution_count": 7,
   "metadata": {
    "pycharm": {
     "is_executing": true,
     "name": "#%%from textblob import TextBlob\n"
    }
   },
   "outputs": [
    {
     "name": "stderr",
     "output_type": "stream",
     "text": [
      "<ipython-input-7-6378671cf59b>:18: SettingWithCopyWarning: \n",
      "A value is trying to be set on a copy of a slice from a DataFrame.\n",
      "Try using .loc[row_indexer,col_indexer] = value instead\n",
      "\n",
      "See the caveats in the documentation: https://pandas.pydata.org/pandas-docs/stable/user_guide/indexing.html#returning-a-view-versus-a-copy\n",
      "  df['text'] = df['text'].apply(clean_tweet)#applico funzione per la pulizia dei tweet\n"
     ]
    }
   ],
   "source": [
    "import pandas as pd\n",
    "import re\n",
    "from nltk.corpus import stopwords\n",
    "import ast \n",
    "from datetime import datetime as dt\n",
    "import numpy as np\n",
    "\n",
    "df_trump=pd.read_csv(\"/home/davide/Scrivania/DAVIDE_PIU_WAAT_00106/00106_piu/miosito/sentiment/data/tweets_donald_trump.csv\",sep=\",\")#legge csv dei tweet di trump e crea data frame\n",
    "df_biden=pd.read_csv(\"/home/davide/Scrivania/DAVIDE_PIU_WAAT_00106/00106_piu/miosito/sentiment/data/tweets_joe_biden.csv\",sep=\",\")#legge csv dei tweet di biden e crea data frame\n",
    "df_trump=df_trump.dropna(thresh=2)#rimuove le righe con all'interno almeno 2 NA\n",
    "df_biden=df_biden.dropna(thresh=2)#rimuove le righe con all'interno almeno 2 NA\n",
    "\n",
    "def clean_tweet(tweet):\n",
    "     \"\"\"\"sostituisce con uno spazio vuoto tramite regular esxpression i pattern all'interno delle parentesi\"\"\"\n",
    "       return ' '.join(re.sub(\"(@[A-Za-z0-9]+)|([^0-9A-Za-z \\t]) |(\\w+:\\/\\/\\S+)\", \" \", tweet).split()) \n",
    "\n",
    "def prepr(df):\n",
    "    \"\"\" funzione preprocessing dati\"\"\"\n",
    "    df=df[df['text']!=\"text\"]#rimuove nomi colonne nuovi it\n",
    "    df['text'] = df['text'].apply(clean_tweet)#applico funzione per la pulizia dei tweet\n",
    "    df.drop(df.columns[7:], axis=1, inplace=True)#cancello colonne inutili. problema causato dal fatto che inizialmente stavo salvando i tweet in modo diverso\n",
    "    df=df.loc[2:]\n",
    "    df=df.dropna(thresh=3)#rimuove le righe con all'interno almeno 3 NA\n",
    "    df=df[df['sentiment'].str.startswith('{')]#scelgo per col 'sentiment' solo le righe che iniziano con \"{\" perché tweepy restituisce un dizionario\n",
    "    df['sentiment']=df['sentiment'].apply(ast.literal_eval)#trasforma una stringa contenente un dizionario, in un dizionario\n",
    "    df=pd.concat([df.drop(['sentiment'], axis=1), df['sentiment'].apply(pd.Series)], axis=1)#divide il dizionario in delle colonne che hanno come etichetta la chiave del dizionario e all'interno dei campi della colonna vengono inseriti i valori del dizionario\n",
    "    return df \n",
    "    \n",
    "\n",
    "\n",
    "    \n",
    "df_trump=prepr(df_trump)#applico funzione appena creata\n",
    "df_biden=prepr(df_biden)#applico funzione appena creata\n"
   ]
  },
  {
   "cell_type": "code",
   "execution_count": 8,
   "metadata": {},
   "outputs": [],
   "source": [
    "#aggiungo la colonna candidato, mi servirà successivamente quando creerò un unico dataframe dei tweet dei due candidati\n",
    "df_biden['candidato'] = 'Joe Biden'\n",
    "df_trump['candidato'] = 'Donald Trump'\n"
   ]
  },
  {
   "cell_type": "code",
   "execution_count": 9,
   "metadata": {},
   "outputs": [],
   "source": [
    "#percentuali tweet negativi, positivi, neutrali biden\n",
    "a=pd.DataFrame(df_biden.groupby('sign').size()/df_biden['sign'].count()*100)\n",
    "\n"
   ]
  },
  {
   "cell_type": "code",
   "execution_count": 10,
   "metadata": {},
   "outputs": [],
   "source": [
    "# aggiunta colonna con percentuali tweet negativi, positivi, neutrali  trump\n",
    "a['trump']=df_trump.groupby('sign').size()/df_trump['sign'].count()*100\n"
   ]
  },
  {
   "cell_type": "code",
   "execution_count": 11,
   "metadata": {},
   "outputs": [],
   "source": [
    "a.columns=['biden','trump']\n",
    "a.to_csv('data_for_pie.csv')#salvo i dati in un csv che utilizzerò per i grafici\n"
   ]
  },
  {
   "cell_type": "code",
   "execution_count": 12,
   "metadata": {},
   "outputs": [],
   "source": [
    "#concateno i dataframe dei tweet di biden e di trump\n",
    "df=pd.concat([df_trump, df_biden], ignore_index=True)"
   ]
  },
  {
   "cell_type": "code",
   "execution_count": 13,
   "metadata": {},
   "outputs": [],
   "source": [
    "#converto la data, non ho bisogno dell'orario\n",
    "df['new_date_column'] = pd.to_datetime(df['date tweet'],errors='coerce').dt.date"
   ]
  },
  {
   "cell_type": "code",
   "execution_count": 14,
   "metadata": {},
   "outputs": [],
   "source": [
    "#raggruppo per data e candidato\n",
    "g = df.groupby([\"candidato\", \"new_date_column\"])"
   ]
  },
  {
   "cell_type": "code",
   "execution_count": 15,
   "metadata": {},
   "outputs": [],
   "source": [
    "#media giornaliera di polarity giornaliera per candidato\n",
    "daily_averages = g.aggregate({\"polarity\":np.mean})"
   ]
  },
  {
   "cell_type": "code",
   "execution_count": 16,
   "metadata": {},
   "outputs": [],
   "source": [
    "#converto in un dataframe\n",
    "daily_averages=pd.DataFrame(daily_averages)\n",
    "daily_averages.to_csv('media_polarity.csv', index = True)"
   ]
  },
  {
   "cell_type": "code",
   "execution_count": 17,
   "metadata": {},
   "outputs": [],
   "source": [
    "df=pd.read_csv(\"media_polarity.csv\")\n"
   ]
  },
  {
   "cell_type": "code",
   "execution_count": 19,
   "metadata": {},
   "outputs": [],
   "source": [
    "#rimodello il dataset creato, l'indice è la data, le colonne sono i nomi dei candidati e all'interno delle celle troviamo la media giornaliera di polarity\n",
    "df=df.pivot(index='new_date_column', columns='candidato', values='polarity')"
   ]
  },
  {
   "cell_type": "code",
   "execution_count": 20,
   "metadata": {},
   "outputs": [
    {
     "data": {
      "text/html": [
       "<div>\n",
       "<style scoped>\n",
       "    .dataframe tbody tr th:only-of-type {\n",
       "        vertical-align: middle;\n",
       "    }\n",
       "\n",
       "    .dataframe tbody tr th {\n",
       "        vertical-align: top;\n",
       "    }\n",
       "\n",
       "    .dataframe thead th {\n",
       "        text-align: right;\n",
       "    }\n",
       "</style>\n",
       "<table border=\"1\" class=\"dataframe\">\n",
       "  <thead>\n",
       "    <tr style=\"text-align: right;\">\n",
       "      <th></th>\n",
       "      <th>new_date_column</th>\n",
       "      <th>Donald Trump</th>\n",
       "      <th>Joe Biden</th>\n",
       "    </tr>\n",
       "  </thead>\n",
       "  <tbody>\n",
       "    <tr>\n",
       "      <th>0</th>\n",
       "      <td>2020-07-12</td>\n",
       "      <td>0.035279</td>\n",
       "      <td>0.028989</td>\n",
       "    </tr>\n",
       "    <tr>\n",
       "      <th>1</th>\n",
       "      <td>2020-07-13</td>\n",
       "      <td>0.005570</td>\n",
       "      <td>0.121669</td>\n",
       "    </tr>\n",
       "    <tr>\n",
       "      <th>2</th>\n",
       "      <td>2020-07-14</td>\n",
       "      <td>0.019764</td>\n",
       "      <td>0.076297</td>\n",
       "    </tr>\n",
       "    <tr>\n",
       "      <th>3</th>\n",
       "      <td>2020-07-15</td>\n",
       "      <td>0.020163</td>\n",
       "      <td>0.030099</td>\n",
       "    </tr>\n",
       "    <tr>\n",
       "      <th>4</th>\n",
       "      <td>2020-07-18</td>\n",
       "      <td>0.027876</td>\n",
       "      <td>0.082130</td>\n",
       "    </tr>\n",
       "    <tr>\n",
       "      <th>5</th>\n",
       "      <td>2020-07-19</td>\n",
       "      <td>0.092829</td>\n",
       "      <td>0.082654</td>\n",
       "    </tr>\n",
       "    <tr>\n",
       "      <th>6</th>\n",
       "      <td>2020-07-20</td>\n",
       "      <td>-0.028699</td>\n",
       "      <td>0.144445</td>\n",
       "    </tr>\n",
       "    <tr>\n",
       "      <th>7</th>\n",
       "      <td>2020-07-21</td>\n",
       "      <td>0.045359</td>\n",
       "      <td>0.072526</td>\n",
       "    </tr>\n",
       "    <tr>\n",
       "      <th>8</th>\n",
       "      <td>2020-07-22</td>\n",
       "      <td>0.054454</td>\n",
       "      <td>-0.019329</td>\n",
       "    </tr>\n",
       "    <tr>\n",
       "      <th>9</th>\n",
       "      <td>2020-07-23</td>\n",
       "      <td>0.049804</td>\n",
       "      <td>0.073473</td>\n",
       "    </tr>\n",
       "    <tr>\n",
       "      <th>10</th>\n",
       "      <td>2020-07-24</td>\n",
       "      <td>0.067248</td>\n",
       "      <td>0.102774</td>\n",
       "    </tr>\n",
       "    <tr>\n",
       "      <th>11</th>\n",
       "      <td>2020-07-25</td>\n",
       "      <td>0.064810</td>\n",
       "      <td>0.045631</td>\n",
       "    </tr>\n",
       "    <tr>\n",
       "      <th>12</th>\n",
       "      <td>2020-07-27</td>\n",
       "      <td>0.000232</td>\n",
       "      <td>0.036802</td>\n",
       "    </tr>\n",
       "    <tr>\n",
       "      <th>13</th>\n",
       "      <td>2020-07-28</td>\n",
       "      <td>0.024645</td>\n",
       "      <td>0.053352</td>\n",
       "    </tr>\n",
       "    <tr>\n",
       "      <th>14</th>\n",
       "      <td>2020-07-30</td>\n",
       "      <td>0.001956</td>\n",
       "      <td>-0.007719</td>\n",
       "    </tr>\n",
       "    <tr>\n",
       "      <th>15</th>\n",
       "      <td>2020-07-31</td>\n",
       "      <td>0.064027</td>\n",
       "      <td>0.052404</td>\n",
       "    </tr>\n",
       "    <tr>\n",
       "      <th>16</th>\n",
       "      <td>2020-08-01</td>\n",
       "      <td>0.013873</td>\n",
       "      <td>0.015232</td>\n",
       "    </tr>\n",
       "    <tr>\n",
       "      <th>17</th>\n",
       "      <td>2020-08-03</td>\n",
       "      <td>0.000772</td>\n",
       "      <td>0.106399</td>\n",
       "    </tr>\n",
       "    <tr>\n",
       "      <th>18</th>\n",
       "      <td>2020-08-04</td>\n",
       "      <td>0.067548</td>\n",
       "      <td>0.020286</td>\n",
       "    </tr>\n",
       "    <tr>\n",
       "      <th>19</th>\n",
       "      <td>2020-08-05</td>\n",
       "      <td>0.003899</td>\n",
       "      <td>0.131294</td>\n",
       "    </tr>\n",
       "    <tr>\n",
       "      <th>20</th>\n",
       "      <td>2020-08-06</td>\n",
       "      <td>-0.026762</td>\n",
       "      <td>0.009479</td>\n",
       "    </tr>\n",
       "  </tbody>\n",
       "</table>\n",
       "</div>"
      ],
      "text/plain": [
       "   new_date_column  Donald Trump  Joe Biden\n",
       "0       2020-07-12      0.035279   0.028989\n",
       "1       2020-07-13      0.005570   0.121669\n",
       "2       2020-07-14      0.019764   0.076297\n",
       "3       2020-07-15      0.020163   0.030099\n",
       "4       2020-07-18      0.027876   0.082130\n",
       "5       2020-07-19      0.092829   0.082654\n",
       "6       2020-07-20     -0.028699   0.144445\n",
       "7       2020-07-21      0.045359   0.072526\n",
       "8       2020-07-22      0.054454  -0.019329\n",
       "9       2020-07-23      0.049804   0.073473\n",
       "10      2020-07-24      0.067248   0.102774\n",
       "11      2020-07-25      0.064810   0.045631\n",
       "12      2020-07-27      0.000232   0.036802\n",
       "13      2020-07-28      0.024645   0.053352\n",
       "14      2020-07-30      0.001956  -0.007719\n",
       "15      2020-07-31      0.064027   0.052404\n",
       "16      2020-08-01      0.013873   0.015232\n",
       "17      2020-08-03      0.000772   0.106399\n",
       "18      2020-08-04      0.067548   0.020286\n",
       "19      2020-08-05      0.003899   0.131294\n",
       "20      2020-08-06     -0.026762   0.009479"
      ]
     },
     "execution_count": 20,
     "metadata": {},
     "output_type": "execute_result"
    }
   ],
   "source": [
    "#visualizzo media polarity\n",
    "df\n"
   ]
  },
  {
   "cell_type": "code",
   "execution_count": 21,
   "metadata": {
    "pycharm": {
     "name": "#%%\n"
    }
   },
   "outputs": [
    {
     "data": {
      "text/html": [
       "<div>\n",
       "<style scoped>\n",
       "    .dataframe tbody tr th:only-of-type {\n",
       "        vertical-align: middle;\n",
       "    }\n",
       "\n",
       "    .dataframe tbody tr th {\n",
       "        vertical-align: top;\n",
       "    }\n",
       "\n",
       "    .dataframe thead th {\n",
       "        text-align: right;\n",
       "    }\n",
       "</style>\n",
       "<table border=\"1\" class=\"dataframe\">\n",
       "  <thead>\n",
       "    <tr style=\"text-align: right;\">\n",
       "      <th></th>\n",
       "      <th>biden</th>\n",
       "      <th>trump</th>\n",
       "    </tr>\n",
       "    <tr>\n",
       "      <th>sign</th>\n",
       "      <th></th>\n",
       "      <th></th>\n",
       "    </tr>\n",
       "  </thead>\n",
       "  <tbody>\n",
       "    <tr>\n",
       "      <th>negative</th>\n",
       "      <td>22.375935</td>\n",
       "      <td>23.013841</td>\n",
       "    </tr>\n",
       "    <tr>\n",
       "      <th>neutral</th>\n",
       "      <td>38.664174</td>\n",
       "      <td>39.815268</td>\n",
       "    </tr>\n",
       "    <tr>\n",
       "      <th>positive</th>\n",
       "      <td>38.959891</td>\n",
       "      <td>37.170892</td>\n",
       "    </tr>\n",
       "  </tbody>\n",
       "</table>\n",
       "</div>"
      ],
      "text/plain": [
       "              biden      trump\n",
       "sign                          \n",
       "negative  22.375935  23.013841\n",
       "neutral   38.664174  39.815268\n",
       "positive  38.959891  37.170892"
      ]
     },
     "execution_count": 21,
     "metadata": {},
     "output_type": "execute_result"
    }
   ],
   "source": [
    "a"
   ]
  },
  {
   "cell_type": "code",
   "execution_count": 28,
   "metadata": {
    "pycharm": {
     "name": "#%%\n"
    }
   },
   "outputs": [],
   "source": []
  }
 ],
 "metadata": {
  "kernelspec": {
   "display_name": "Python 3",
   "language": "python",
   "name": "python3"
  },
  "language_info": {
   "codemirror_mode": {
    "name": "ipython",
    "version": 3
   },
   "file_extension": ".py",
   "mimetype": "text/x-python",
   "name": "python",
   "nbconvert_exporter": "python",
   "pygments_lexer": "ipython3",
   "version": "3.8.2"
  }
 },
 "nbformat": 4,
 "nbformat_minor": 1
}