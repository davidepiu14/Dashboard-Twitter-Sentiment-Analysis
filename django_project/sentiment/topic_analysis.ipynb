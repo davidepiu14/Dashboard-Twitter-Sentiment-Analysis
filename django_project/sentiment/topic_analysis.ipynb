{
 "cells": [
  {
   "cell_type": "code",
   "execution_count": null,
   "metadata": {
    "pycharm": {
     "name": "#%%\n"
    }
   },
   "outputs": [],
   "source": [
    "import pandas as pd\n",
    "import re\n",
    "from sklearn.feature_extraction.text import CountVectorizer\n",
    "from textblob import TextBlob\n",
    "import nltk\n",
    "from nltk.corpus import stopwords\n",
    "import ast \n",
    "import matplotlib.pyplot as plt\n",
    "import seaborn as sns\n",
    "from datetime import datetime,date\n",
    "import json\n",
    "import numpy as np\n",
    "df_trump=pd.read_csv(\"tweets_donald_trump.csv\",sep=\",\")\n",
    "df_biden=pd.read_csv(\"tweets_joe_biden.csv\",sep=\",\")\n",
    "df_trump=df_trump.dropna(thresh=2)                            \n",
    "df_biden=df_biden.dropna(thresh=2)          \n",
    "from sklearn.decomposition import LatentDirichletAllocation\n",
    "from sklearn.feature_extraction.text import CountVectorizer\n",
    "from prettytable import PrettyTable\n",
    "\n",
    "\n",
    "def clean_tweet(tweet):\n",
    "  \"\"\"funzione pulizia tweet tramite regular expressione\"\"\"\n",
    "  return ' '.join(re.sub(\"(@[A-Za-z0-9]+)|([^0-9A-Za-z \\t]) |(\\w+:\\/\\/\\S+)\", \" \", tweet).split()) \n",
    "\n",
    "\n",
    "def prepr(df):\n",
    "    df=df[df['text']!=\"text\"]#aggiungendo i dati al csv venivano aggiunti nuovamente i nomi delle colonne, questa riga di codice mi permette di rimuoverle\n",
    "    df['text'] = df['text'].apply(clean_tweet)#applico funzione per la pulizia dei tweet\n",
    "    df.drop(df.columns[7:], axis=1, inplace=True)#cancello colonne inutili. problema causato dal fatto che inizialmente stavo salvando i tweet in modo diverso\n",
    "    df=df.loc[2:]\n",
    "    df=df.dropna(thresh=3)#rimuove le righe con all'interno almeno 3 NA\n",
    "    df=df[df['sentiment'].str.startswith('{')]#scelgo per la colonna sentiment solo le righe che iniziano con \"{\" perché tweepy restituisce un dizionario\n",
    "    df['sentiment']=df['sentiment'].apply(ast.literal_eval)#trasforma una stringa contenente un dizionario, in un dizionario\n",
    "    df=pd.concat([df.drop(['sentiment'], axis=1), df['sentiment'].apply(pd.Series)], axis=1)#divide il dizionario in delle colonne che hanno come etichetta la chiave del dizionario e all'interno dei campi della colonna vengono inseriti i valori del dizionario\n",
    "    return df \n",
    "    \n",
    "df_trump=prepr(df_trump)#applico funzione appena creata\n",
    "df_biden=prepr(df_biden)#applico funzione appena creata)\n",
    "\n",
    "\n",
    "#aggiungo la colonna candidate, mi servirà successivamente quando creerò un unico dataframe dei tweet dei due candidati\n",
    "df_biden['candidate'] = 'Joe Biden'\n",
    "df_trump['candidate'] = 'Donald Trump'"
   ]
  },
  {
   "cell_type": "code",
   "execution_count": null,
   "metadata": {
    "pycharm": {
     "name": "#%%\n"
    }
   },
   "outputs": [],
   "source": [
    "#rimuovo altri pattern dal text dei tweet tramite le regex\n",
    "df_biden['text'] = df_biden['text'].str.lower()\\\n",
    "          .str.replace('(@[a-z0-9]+)\\w+',' ')\\\n",
    "          .str.replace('(http\\S+)', ' ')\\\n",
    "          .str.replace('([^0-9a-z \\t])',' ')\\\n",
    "          .str.replace(' +',' ')\\\n",
    "          .str.replace('rt', '')\\\n",
    "\n",
    "\n",
    "\n",
    "tweetsSentiment=df_biden.to_dict('records')\n"
   ]
  },
  {
   "cell_type": "code",
   "execution_count": null,
   "metadata": {
    "pycharm": {
     "name": "#%%\n"
    }
   },
   "outputs": [],
   "source": [
    "def topic_modeling(tweets=None):\n",
    "    \"\"\"funzione che prima vettorizza i tweet e poi applica la topic con la LDA\"\"\"\n",
    "    if not tweets:\n",
    "        tweets = []\n",
    "    tf_vectorizer = CountVectorizer(\n",
    "        max_df=0.95,\n",
    "        min_df=2,\n",
    "        max_features=1000,\n",
    "        stop_words='english'\n",
    "    )\n",
    "    tf = tf_vectorizer.fit_transform(tweets)\n",
    "    tf_feature_names = tf_vectorizer.get_feature_names()\n",
    "    no_topics = 5\n",
    "    lda = LatentDirichletAllocation(n_components=no_topics,\n",
    "                                    max_iter=5,\n",
    "                                    learning_method='online',\n",
    "                                    learning_offset=50.,\n",
    "                                    random_state=0).fit(tf)\n",
    "    for topic_idx, topic in enumerate(lda.components_):\n",
    "        print(\"Topic %d:\" % (topic_idx))\n",
    "        print(\" \".join([tf_feature_names[i]\n",
    "                        for i in topic.argsort()[:-10 - 1:-1]]))"
   ]
  },
  {
   "cell_type": "code",
   "execution_count": null,
   "metadata": {
    "pycharm": {
     "name": "#%%\n"
    }
   },
   "outputs": [],
   "source": [
    "#tweet di biden\n",
    "positiveTweets = [tweet['text'] for tweet in tweetsSentiment if tweet['sign'] == 'positive']\n",
    "negativeTweets = [tweet['text'] for tweet in tweetsSentiment if tweet['sign'] == 'negative']\n",
    "neutralTweets = [tweet['text'] for tweet in tweetsSentiment if tweet['sign'] == 'neutral']"
   ]
  },
  {
   "cell_type": "code",
   "execution_count": null,
   "metadata": {
    "pycharm": {
     "name": "#%%\n"
    }
   },
   "outputs": [],
   "source": [
    "\n",
    "#topic dei tweet positivi\n",
    "print(\"Positive Tweets Trump %d\" % len(positiveTweets))\n",
    "topic_modeling(tweets=positiveTweets)"
   ]
  },
  {
   "cell_type": "code",
   "execution_count": null,
   "metadata": {
    "pycharm": {
     "name": "#%%\n"
    }
   },
   "outputs": [],
   "source": [
    "#topic dei tweet negativi\n",
    "print(\"Negative Tweets %d\" % len(negativeTweets))\n",
    "topic_modeling(tweets=negativeTweets)\n"
   ]
  },
  {
   "cell_type": "code",
   "execution_count": null,
   "metadata": {
    "pycharm": {
     "name": "#%%\n"
    }
   },
   "outputs": [],
   "source": [
    "#topic dei tweet neutrali\n",
    "print(\"Neutral Tweets %d\" % len(neutralTweets))\n",
    "topic_modeling(tweets=neutralTweets)"
   ]
  },
  {
   "cell_type": "code",
   "execution_count": null,
   "metadata": {
    "pycharm": {
     "name": "#%%\n"
    }
   },
   "outputs": [],
   "source": [
    "#rimuovo altri pattern dal text dei tweet tramite le regex\n",
    "df_trump['text'] = df_trump['text'].str.lower()\\\n",
    "          .str.replace('(@[a-z0-9]+)\\w+',' ')\\\n",
    "          .str.replace('(http\\S+)', ' ')\\\n",
    "          .str.replace('([^0-9a-z \\t])',' ')\\\n",
    "          .str.replace(' +',' ')\\\n",
    "          .str.replace('rt', '')\\\n",
    "\n",
    "\n",
    "\n",
    "tweetsSentiment=df_trump.to_dict('records')"
   ]
  },
  {
   "cell_type": "code",
   "execution_count": null,
   "metadata": {
    "pycharm": {
     "name": "#%%\n"
    }
   },
   "outputs": [],
   "source": [
    "#tweet di trump\n",
    "positiveTweets = [tweet['text'] for tweet in tweetsSentiment if tweet['sign'] == 'positive']\n",
    "negativeTweets = [tweet['text'] for tweet in tweetsSentiment if tweet['sign'] == 'negative']\n",
    "neutralTweets = [tweet['text'] for tweet in tweetsSentiment if tweet['sign'] == 'neutral']"
   ]
  },
  {
   "cell_type": "code",
   "execution_count": null,
   "metadata": {
    "pycharm": {
     "name": "#%%\n"
    }
   },
   "outputs": [],
   "source": [
    "#topic dei tweet positivi\n",
    "print(\"Positive Tweets Trump %d\" % len(positiveTweets))\n",
    "topic_modeling(tweets=positiveTweets)"
   ]
  },
  {
   "cell_type": "code",
   "execution_count": null,
   "metadata": {
    "pycharm": {
     "name": "#%%\n"
    }
   },
   "outputs": [],
   "source": [
    "#topic dei tweet negativi\n",
    "print(\"Negative Tweets %d\" % len(negativeTweets))\n",
    "topic_modeling(tweets=negativeTweets)"
   ]
  },
  {
   "cell_type": "code",
   "execution_count": null,
   "metadata": {
    "pycharm": {
     "name": "#%%\n"
    }
   },
   "outputs": [],
   "source": [
    "#topic dei tweet neutrali\n",
    "print(\"Negative Tweets %d\" % len(neutralTweetsTweets))\n",
    "topic_modeling(tweets=neutralTweets)\n"
   ]
  }
 ],
 "metadata": {
  "kernelspec": {
   "display_name": "Python 3.10.6 ('venv': venv)",
   "language": "python",
   "name": "python3"
  },
  "language_info": {
   "codemirror_mode": {
    "name": "ipython",
    "version": 3
   },
   "file_extension": ".py",
   "mimetype": "text/x-python",
   "name": "python",
   "nbconvert_exporter": "python",
   "pygments_lexer": "ipython3",
   "version": "3.10.6"
  },
  "vscode": {
   "interpreter": {
    "hash": "77d2da8f646734d8ee7875812ddc9179b5278ef93d85107e527f427b84dfa8f7"
   }
  }
 },
 "nbformat": 4,
 "nbformat_minor": 4
}
