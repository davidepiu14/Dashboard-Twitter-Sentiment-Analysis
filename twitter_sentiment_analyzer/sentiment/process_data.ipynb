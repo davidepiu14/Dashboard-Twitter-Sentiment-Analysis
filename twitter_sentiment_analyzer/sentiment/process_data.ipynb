{
 "cells": [
  {
   "cell_type": "code",
   "execution_count": 20,
   "metadata": {
    "pycharm": {
     "is_executing": true,
     "name": "#%%from textblob import TextBlob\n"
    }
   },
   "outputs": [
    {
     "name": "stderr",
     "output_type": "stream",
     "text": [
      "/tmp/ipykernel_76468/1836691906.py:24: SettingWithCopyWarning: \n",
      "A value is trying to be set on a copy of a slice from a DataFrame.\n",
      "Try using .loc[row_indexer,col_indexer] = value instead\n",
      "\n",
      "See the caveats in the documentation: https://pandas.pydata.org/pandas-docs/stable/user_guide/indexing.html#returning-a-view-versus-a-copy\n",
      "  df['text'] = df['text'].apply(clean_tweet)\n",
      "/tmp/ipykernel_76468/1836691906.py:25: SettingWithCopyWarning: \n",
      "A value is trying to be set on a copy of a slice from a DataFrame\n",
      "\n",
      "See the caveats in the documentation: https://pandas.pydata.org/pandas-docs/stable/user_guide/indexing.html#returning-a-view-versus-a-copy\n",
      "  df.drop(df.columns[7:], axis=1, inplace=True)\n",
      "/tmp/ipykernel_76468/1836691906.py:24: SettingWithCopyWarning: \n",
      "A value is trying to be set on a copy of a slice from a DataFrame.\n",
      "Try using .loc[row_indexer,col_indexer] = value instead\n",
      "\n",
      "See the caveats in the documentation: https://pandas.pydata.org/pandas-docs/stable/user_guide/indexing.html#returning-a-view-versus-a-copy\n",
      "  df['text'] = df['text'].apply(clean_tweet)\n",
      "/tmp/ipykernel_76468/1836691906.py:25: SettingWithCopyWarning: \n",
      "A value is trying to be set on a copy of a slice from a DataFrame\n",
      "\n",
      "See the caveats in the documentation: https://pandas.pydata.org/pandas-docs/stable/user_guide/indexing.html#returning-a-view-versus-a-copy\n",
      "  df.drop(df.columns[7:], axis=1, inplace=True)\n"
     ]
    }
   ],
   "source": [
    "import pandas as pd\n",
    "import re\n",
    "import nltk\n",
    "from nltk.corpus import stopwords\n",
    "import ast \n",
    "from datetime import datetime as dt\n",
    "import numpy as np\n",
    "\n",
    "df_trump=pd.read_csv(\"tweets_donald_trump.csv\",sep=\",\")\n",
    "df_biden=pd.read_csv(\"tweets_joe_biden.csv\",sep=\",\")\n",
    "df_trump=df_trump.dropna(thresh=2)#rimuove le righe con all'interno almeno 2 NA\n",
    "df_biden=df_biden.dropna(thresh=2)#rimuove le righe con all'interno almeno 2 NA\n",
    "\n",
    "def clean_tweet(tweet):\n",
    "  \"\"\"\"sostituisce con uno spazio vuoto tramite regular esxpression i pattern all'interno delle parentesi\"\"\"\n",
    "  return ' '.join(re.sub(\"(@[A-Za-z0-9]+)|([^0-9A-Za-z \\t]) |(\\w+:\\/\\/\\S+)\", \" \", tweet).split()) \n",
    "\n",
    "def prepr(df):\n",
    "  \"\"\" \n",
    "  funzione preprocessing dati\n",
    "  \"\"\"\n",
    "  \n",
    "  df=df[df['text']!=\"text\"]\n",
    "  df['text'] = df['text'].apply(clean_tweet)\n",
    "  df.drop(df.columns[7:], axis=1, inplace=True)\n",
    "  df=df.loc[2:]\n",
    "  df=df.dropna(thresh=3)\n",
    "  df=df[df['sentiment'].str.startswith('{')]\n",
    "  df['sentiment']=df['sentiment'].apply(ast.literal_eval)\n",
    "  df=pd.concat([df.drop(['sentiment'], axis=1), df['sentiment'].apply(pd.Series)], axis=1)\n",
    "  \n",
    "  return df \n",
    "    \n",
    "df_trump=prepr(df_trump)\n",
    "df_biden=prepr(df_biden)\n"
   ]
  },
  {
   "cell_type": "code",
   "execution_count": 21,
   "metadata": {},
   "outputs": [],
   "source": [
    "df_biden['candidato'] = 'biden'\n",
    "df_trump['candidato'] = 'trump'\n"
   ]
  },
  {
   "cell_type": "code",
   "execution_count": 22,
   "metadata": {},
   "outputs": [],
   "source": [
    "a = pd.DataFrame(df_biden.groupby('sign').size()/df_biden['sign'].count()*100)\n",
    "\n"
   ]
  },
  {
   "cell_type": "code",
   "execution_count": 23,
   "metadata": {},
   "outputs": [
    {
     "data": {
      "text/html": [
       "<div>\n",
       "<style scoped>\n",
       "    .dataframe tbody tr th:only-of-type {\n",
       "        vertical-align: middle;\n",
       "    }\n",
       "\n",
       "    .dataframe tbody tr th {\n",
       "        vertical-align: top;\n",
       "    }\n",
       "\n",
       "    .dataframe thead th {\n",
       "        text-align: right;\n",
       "    }\n",
       "</style>\n",
       "<table border=\"1\" class=\"dataframe\">\n",
       "  <thead>\n",
       "    <tr style=\"text-align: right;\">\n",
       "      <th></th>\n",
       "      <th>0</th>\n",
       "    </tr>\n",
       "    <tr>\n",
       "      <th>sign</th>\n",
       "      <th></th>\n",
       "    </tr>\n",
       "  </thead>\n",
       "  <tbody>\n",
       "    <tr>\n",
       "      <th>negative</th>\n",
       "      <td>17.125984</td>\n",
       "    </tr>\n",
       "    <tr>\n",
       "      <th>neutral</th>\n",
       "      <td>38.976378</td>\n",
       "    </tr>\n",
       "    <tr>\n",
       "      <th>positive</th>\n",
       "      <td>43.897638</td>\n",
       "    </tr>\n",
       "  </tbody>\n",
       "</table>\n",
       "</div>"
      ],
      "text/plain": [
       "                  0\n",
       "sign               \n",
       "negative  17.125984\n",
       "neutral   38.976378\n",
       "positive  43.897638"
      ]
     },
     "execution_count": 23,
     "metadata": {},
     "output_type": "execute_result"
    }
   ],
   "source": [
    "a"
   ]
  },
  {
   "cell_type": "code",
   "execution_count": 24,
   "metadata": {},
   "outputs": [],
   "source": [
    "# aggiunta colonna con percentuali tweet negativi, positivi, neutrali  trump\n",
    "a['trump']=df_trump.groupby('sign').size()/df_trump['sign'].count()*100\n"
   ]
  },
  {
   "cell_type": "code",
   "execution_count": 25,
   "metadata": {},
   "outputs": [
    {
     "data": {
      "text/html": [
       "<div>\n",
       "<style scoped>\n",
       "    .dataframe tbody tr th:only-of-type {\n",
       "        vertical-align: middle;\n",
       "    }\n",
       "\n",
       "    .dataframe tbody tr th {\n",
       "        vertical-align: top;\n",
       "    }\n",
       "\n",
       "    .dataframe thead th {\n",
       "        text-align: right;\n",
       "    }\n",
       "</style>\n",
       "<table border=\"1\" class=\"dataframe\">\n",
       "  <thead>\n",
       "    <tr style=\"text-align: right;\">\n",
       "      <th></th>\n",
       "      <th>0</th>\n",
       "      <th>trump</th>\n",
       "    </tr>\n",
       "    <tr>\n",
       "      <th>sign</th>\n",
       "      <th></th>\n",
       "      <th></th>\n",
       "    </tr>\n",
       "  </thead>\n",
       "  <tbody>\n",
       "    <tr>\n",
       "      <th>negative</th>\n",
       "      <td>17.125984</td>\n",
       "      <td>14.763780</td>\n",
       "    </tr>\n",
       "    <tr>\n",
       "      <th>neutral</th>\n",
       "      <td>38.976378</td>\n",
       "      <td>42.913386</td>\n",
       "    </tr>\n",
       "    <tr>\n",
       "      <th>positive</th>\n",
       "      <td>43.897638</td>\n",
       "      <td>42.322835</td>\n",
       "    </tr>\n",
       "  </tbody>\n",
       "</table>\n",
       "</div>"
      ],
      "text/plain": [
       "                  0      trump\n",
       "sign                          \n",
       "negative  17.125984  14.763780\n",
       "neutral   38.976378  42.913386\n",
       "positive  43.897638  42.322835"
      ]
     },
     "execution_count": 25,
     "metadata": {},
     "output_type": "execute_result"
    }
   ],
   "source": [
    "a"
   ]
  },
  {
   "cell_type": "code",
   "execution_count": 26,
   "metadata": {},
   "outputs": [],
   "source": [
    "a.columns=['biden','trump']\n",
    "a.to_csv('data_for_pie.csv')#salvo i dati in un csv che utilizzerò per i grafici\n"
   ]
  },
  {
   "cell_type": "code",
   "execution_count": 27,
   "metadata": {},
   "outputs": [
    {
     "data": {
      "text/html": [
       "<div>\n",
       "<style scoped>\n",
       "    .dataframe tbody tr th:only-of-type {\n",
       "        vertical-align: middle;\n",
       "    }\n",
       "\n",
       "    .dataframe tbody tr th {\n",
       "        vertical-align: top;\n",
       "    }\n",
       "\n",
       "    .dataframe thead th {\n",
       "        text-align: right;\n",
       "    }\n",
       "</style>\n",
       "<table border=\"1\" class=\"dataframe\">\n",
       "  <thead>\n",
       "    <tr style=\"text-align: right;\">\n",
       "      <th></th>\n",
       "      <th>biden</th>\n",
       "      <th>trump</th>\n",
       "    </tr>\n",
       "    <tr>\n",
       "      <th>sign</th>\n",
       "      <th></th>\n",
       "      <th></th>\n",
       "    </tr>\n",
       "  </thead>\n",
       "  <tbody>\n",
       "    <tr>\n",
       "      <th>negative</th>\n",
       "      <td>17.125984</td>\n",
       "      <td>14.763780</td>\n",
       "    </tr>\n",
       "    <tr>\n",
       "      <th>neutral</th>\n",
       "      <td>38.976378</td>\n",
       "      <td>42.913386</td>\n",
       "    </tr>\n",
       "    <tr>\n",
       "      <th>positive</th>\n",
       "      <td>43.897638</td>\n",
       "      <td>42.322835</td>\n",
       "    </tr>\n",
       "  </tbody>\n",
       "</table>\n",
       "</div>"
      ],
      "text/plain": [
       "              biden      trump\n",
       "sign                          \n",
       "negative  17.125984  14.763780\n",
       "neutral   38.976378  42.913386\n",
       "positive  43.897638  42.322835"
      ]
     },
     "execution_count": 27,
     "metadata": {},
     "output_type": "execute_result"
    }
   ],
   "source": [
    "a"
   ]
  },
  {
   "cell_type": "code",
   "execution_count": 28,
   "metadata": {},
   "outputs": [],
   "source": [
    "#concateno i dataframe dei tweet di biden e di trump\n",
    "df=pd.concat([df_trump, df_biden], ignore_index=True)"
   ]
  },
  {
   "cell_type": "code",
   "execution_count": 29,
   "metadata": {},
   "outputs": [
    {
     "data": {
      "text/html": [
       "<div>\n",
       "<style scoped>\n",
       "    .dataframe tbody tr th:only-of-type {\n",
       "        vertical-align: middle;\n",
       "    }\n",
       "\n",
       "    .dataframe tbody tr th {\n",
       "        vertical-align: top;\n",
       "    }\n",
       "\n",
       "    .dataframe thead th {\n",
       "        text-align: right;\n",
       "    }\n",
       "</style>\n",
       "<table border=\"1\" class=\"dataframe\">\n",
       "  <thead>\n",
       "    <tr style=\"text-align: right;\">\n",
       "      <th></th>\n",
       "      <th>text</th>\n",
       "      <th>name</th>\n",
       "      <th>location</th>\n",
       "      <th>verified</th>\n",
       "      <th>retweet</th>\n",
       "      <th>date tweet</th>\n",
       "      <th>sign</th>\n",
       "      <th>polarity</th>\n",
       "      <th>candidato</th>\n",
       "    </tr>\n",
       "  </thead>\n",
       "  <tbody>\n",
       "    <tr>\n",
       "      <th>0</th>\n",
       "      <td>RT BREAKING Massive bombshell hits Donald Trum...</td>\n",
       "      <td>bunnypie</td>\n",
       "      <td>NaN</td>\n",
       "      <td>False</td>\n",
       "      <td>16278</td>\n",
       "      <td>NaN</td>\n",
       "      <td>neutral</td>\n",
       "      <td>0.000000</td>\n",
       "      <td>trump</td>\n",
       "    </tr>\n",
       "    <tr>\n",
       "      <th>1</th>\n",
       "      <td>RT BREAKING The Senate Judiciary Committee wil...</td>\n",
       "      <td>Kelly David Dodson</td>\n",
       "      <td>Florida</td>\n",
       "      <td>False</td>\n",
       "      <td>3664</td>\n",
       "      <td>NaN</td>\n",
       "      <td>neutral</td>\n",
       "      <td>0.000000</td>\n",
       "      <td>trump</td>\n",
       "    </tr>\n",
       "    <tr>\n",
       "      <th>2</th>\n",
       "      <td>Donald Trump privately admitted he'd lost 2020...</td>\n",
       "      <td>LadyGhost</td>\n",
       "      <td>NaN</td>\n",
       "      <td>False</td>\n",
       "      <td>0</td>\n",
       "      <td>NaN</td>\n",
       "      <td>neutral</td>\n",
       "      <td>0.000000</td>\n",
       "      <td>trump</td>\n",
       "    </tr>\n",
       "    <tr>\n",
       "      <th>3</th>\n",
       "      <td>A family member blames the man's attack which ...</td>\n",
       "      <td>Gee</td>\n",
       "      <td>Southern California</td>\n",
       "      <td>False</td>\n",
       "      <td>0</td>\n",
       "      <td>NaN</td>\n",
       "      <td>negative</td>\n",
       "      <td>-0.075000</td>\n",
       "      <td>trump</td>\n",
       "    </tr>\n",
       "    <tr>\n",
       "      <th>4</th>\n",
       "      <td>No where safe from FBI and CIA political spyin...</td>\n",
       "      <td>🇺🇸2022=🇩🇪1933 Liberty 6% 💎</td>\n",
       "      <td>Sugar Land, TX</td>\n",
       "      <td>False</td>\n",
       "      <td>0</td>\n",
       "      <td>NaN</td>\n",
       "      <td>positive</td>\n",
       "      <td>0.228571</td>\n",
       "      <td>trump</td>\n",
       "    </tr>\n",
       "    <tr>\n",
       "      <th>...</th>\n",
       "      <td>...</td>\n",
       "      <td>...</td>\n",
       "      <td>...</td>\n",
       "      <td>...</td>\n",
       "      <td>...</td>\n",
       "      <td>...</td>\n",
       "      <td>...</td>\n",
       "      <td>...</td>\n",
       "      <td>...</td>\n",
       "    </tr>\n",
       "    <tr>\n",
       "      <th>1011</th>\n",
       "      <td>RT Joe Biden Gas prices are down $1.30. Realit...</td>\n",
       "      <td>D Matheson</td>\n",
       "      <td>Australia</td>\n",
       "      <td>False</td>\n",
       "      <td>279</td>\n",
       "      <td>2022-09-13 20:42:54+00:00</td>\n",
       "      <td>negative</td>\n",
       "      <td>-0.155556</td>\n",
       "      <td>biden</td>\n",
       "    </tr>\n",
       "    <tr>\n",
       "      <th>1012</th>\n",
       "      <td>RT _Jordan -Beef -Poultry -Eggs -Milk -Fruit H...</td>\n",
       "      <td>〽️att Leonarddd</td>\n",
       "      <td>NaN</td>\n",
       "      <td>False</td>\n",
       "      <td>807</td>\n",
       "      <td>2022-09-13 20:42:54+00:00</td>\n",
       "      <td>positive</td>\n",
       "      <td>0.500000</td>\n",
       "      <td>biden</td>\n",
       "    </tr>\n",
       "    <tr>\n",
       "      <th>1013</th>\n",
       "      <td>RT BREAKING Joe Biden will be permitted to tak...</td>\n",
       "      <td>JT🌊💙☮</td>\n",
       "      <td>North Carolina, USA</td>\n",
       "      <td>False</td>\n",
       "      <td>2517</td>\n",
       "      <td>2022-09-13 20:42:54+00:00</td>\n",
       "      <td>neutral</td>\n",
       "      <td>0.000000</td>\n",
       "      <td>biden</td>\n",
       "    </tr>\n",
       "    <tr>\n",
       "      <th>1014</th>\n",
       "      <td>RT It's astounding that Joe Biden's only plan ...</td>\n",
       "      <td>Scott Alan</td>\n",
       "      <td>NaN</td>\n",
       "      <td>False</td>\n",
       "      <td>705</td>\n",
       "      <td>2022-09-13 20:42:53+00:00</td>\n",
       "      <td>positive</td>\n",
       "      <td>0.300000</td>\n",
       "      <td>biden</td>\n",
       "    </tr>\n",
       "    <tr>\n",
       "      <th>1015</th>\n",
       "      <td>RT MAGA Republicans are a threat to Joe Biden'...</td>\n",
       "      <td>Voluzan Christina</td>\n",
       "      <td>bordeaux</td>\n",
       "      <td>False</td>\n",
       "      <td>857</td>\n",
       "      <td>2022-09-13 20:42:53+00:00</td>\n",
       "      <td>neutral</td>\n",
       "      <td>0.000000</td>\n",
       "      <td>biden</td>\n",
       "    </tr>\n",
       "  </tbody>\n",
       "</table>\n",
       "<p>1016 rows × 9 columns</p>\n",
       "</div>"
      ],
      "text/plain": [
       "                                                   text  \\\n",
       "0     RT BREAKING Massive bombshell hits Donald Trum...   \n",
       "1     RT BREAKING The Senate Judiciary Committee wil...   \n",
       "2     Donald Trump privately admitted he'd lost 2020...   \n",
       "3     A family member blames the man's attack which ...   \n",
       "4     No where safe from FBI and CIA political spyin...   \n",
       "...                                                 ...   \n",
       "1011  RT Joe Biden Gas prices are down $1.30. Realit...   \n",
       "1012  RT _Jordan -Beef -Poultry -Eggs -Milk -Fruit H...   \n",
       "1013  RT BREAKING Joe Biden will be permitted to tak...   \n",
       "1014  RT It's astounding that Joe Biden's only plan ...   \n",
       "1015  RT MAGA Republicans are a threat to Joe Biden'...   \n",
       "\n",
       "                            name             location verified retweet  \\\n",
       "0                       bunnypie                  NaN    False   16278   \n",
       "1             Kelly David Dodson              Florida    False    3664   \n",
       "2                      LadyGhost                  NaN    False       0   \n",
       "3                            Gee  Southern California    False       0   \n",
       "4     🇺🇸2022=🇩🇪1933 Liberty 6% 💎       Sugar Land, TX    False       0   \n",
       "...                          ...                  ...      ...     ...   \n",
       "1011                  D Matheson            Australia    False     279   \n",
       "1012             〽️att Leonarddd                  NaN    False     807   \n",
       "1013                       JT🌊💙☮  North Carolina, USA    False    2517   \n",
       "1014                  Scott Alan                  NaN    False     705   \n",
       "1015           Voluzan Christina             bordeaux    False     857   \n",
       "\n",
       "                     date tweet      sign  polarity candidato  \n",
       "0                           NaN   neutral  0.000000     trump  \n",
       "1                           NaN   neutral  0.000000     trump  \n",
       "2                           NaN   neutral  0.000000     trump  \n",
       "3                           NaN  negative -0.075000     trump  \n",
       "4                           NaN  positive  0.228571     trump  \n",
       "...                         ...       ...       ...       ...  \n",
       "1011  2022-09-13 20:42:54+00:00  negative -0.155556     biden  \n",
       "1012  2022-09-13 20:42:54+00:00  positive  0.500000     biden  \n",
       "1013  2022-09-13 20:42:54+00:00   neutral  0.000000     biden  \n",
       "1014  2022-09-13 20:42:53+00:00  positive  0.300000     biden  \n",
       "1015  2022-09-13 20:42:53+00:00   neutral  0.000000     biden  \n",
       "\n",
       "[1016 rows x 9 columns]"
      ]
     },
     "execution_count": 29,
     "metadata": {},
     "output_type": "execute_result"
    }
   ],
   "source": [
    "df"
   ]
  },
  {
   "cell_type": "code",
   "execution_count": 30,
   "metadata": {},
   "outputs": [],
   "source": [
    "#converto la data, non ho bisogno dell'orario\n",
    "df['new_date_column'] = pd.to_datetime(df['date tweet'],errors='coerce').dt.date"
   ]
  },
  {
   "cell_type": "code",
   "execution_count": 31,
   "metadata": {},
   "outputs": [],
   "source": [
    "#raggruppo per data e candidato\n",
    "g = df.groupby([\"candidato\", \"new_date_column\"])"
   ]
  },
  {
   "cell_type": "code",
   "execution_count": 32,
   "metadata": {},
   "outputs": [],
   "source": [
    "#media giornaliera di polarity giornaliera per candidato\n",
    "daily_averages = g.aggregate({\"polarity\":np.mean})"
   ]
  },
  {
   "cell_type": "code",
   "execution_count": 33,
   "metadata": {},
   "outputs": [
    {
     "data": {
      "text/html": [
       "<div>\n",
       "<style scoped>\n",
       "    .dataframe tbody tr th:only-of-type {\n",
       "        vertical-align: middle;\n",
       "    }\n",
       "\n",
       "    .dataframe tbody tr th {\n",
       "        vertical-align: top;\n",
       "    }\n",
       "\n",
       "    .dataframe thead th {\n",
       "        text-align: right;\n",
       "    }\n",
       "</style>\n",
       "<table border=\"1\" class=\"dataframe\">\n",
       "  <thead>\n",
       "    <tr style=\"text-align: right;\">\n",
       "      <th></th>\n",
       "      <th></th>\n",
       "      <th>polarity</th>\n",
       "    </tr>\n",
       "    <tr>\n",
       "      <th>candidato</th>\n",
       "      <th>new_date_column</th>\n",
       "      <th></th>\n",
       "    </tr>\n",
       "  </thead>\n",
       "  <tbody>\n",
       "    <tr>\n",
       "      <th>biden</th>\n",
       "      <th>2022-09-13</th>\n",
       "      <td>0.097552</td>\n",
       "    </tr>\n",
       "    <tr>\n",
       "      <th>trump</th>\n",
       "      <th>2022-09-13</th>\n",
       "      <td>0.031397</td>\n",
       "    </tr>\n",
       "  </tbody>\n",
       "</table>\n",
       "</div>"
      ],
      "text/plain": [
       "                           polarity\n",
       "candidato new_date_column          \n",
       "biden     2022-09-13       0.097552\n",
       "trump     2022-09-13       0.031397"
      ]
     },
     "execution_count": 33,
     "metadata": {},
     "output_type": "execute_result"
    }
   ],
   "source": [
    "daily_averages"
   ]
  },
  {
   "cell_type": "code",
   "execution_count": 34,
   "metadata": {},
   "outputs": [],
   "source": [
    "#converto in un dataframe\n",
    "daily_averages=pd.DataFrame(daily_averages)\n",
    "daily_averages.to_csv('media_polarity.csv', index = True)"
   ]
  },
  {
   "cell_type": "code",
   "execution_count": 35,
   "metadata": {},
   "outputs": [],
   "source": [
    "df=pd.read_csv(\"media_polarity.csv\")\n"
   ]
  },
  {
   "cell_type": "code",
   "execution_count": 36,
   "metadata": {},
   "outputs": [],
   "source": [
    "#rimodello il dataset creato, l'indice è la data, le colonne sono i nomi dei candidati e all'interno delle celle troviamo la media giornaliera di polarity\n",
    "df=df.pivot(index='new_date_column', columns='candidato', values='polarity')"
   ]
  },
  {
   "cell_type": "code",
   "execution_count": 37,
   "metadata": {},
   "outputs": [],
   "source": [
    "#visualizzo media polarity\n",
    "df.to_csv('media_polarity.csv')\n"
   ]
  },
  {
   "cell_type": "code",
   "execution_count": null,
   "metadata": {
    "pycharm": {
     "name": "#%%\n"
    }
   },
   "outputs": [],
   "source": []
  }
 ],
 "metadata": {
  "kernelspec": {
   "display_name": "Python 3.10.6 ('venv': venv)",
   "language": "python",
   "name": "python3"
  },
  "language_info": {
   "codemirror_mode": {
    "name": "ipython",
    "version": 3
   },
   "file_extension": ".py",
   "mimetype": "text/x-python",
   "name": "python",
   "nbconvert_exporter": "python",
   "pygments_lexer": "ipython3",
   "version": "3.10.6"
  },
  "vscode": {
   "interpreter": {
    "hash": "f8193bcedf909b35062aae5c11dd37a32fe7effd2fae7b4abfe80da99fa0f174"
   }
  }
 },
 "nbformat": 4,
 "nbformat_minor": 1
}
